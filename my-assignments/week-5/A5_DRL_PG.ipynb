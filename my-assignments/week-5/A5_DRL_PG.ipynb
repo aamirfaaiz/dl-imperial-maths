{
 "cells": [
  {
   "cell_type": "markdown",
   "metadata": {},
   "source": [
    "# Policy Gradients in OpenAI Gym: Cartpole\n",
    "\n",
    "Solving the cartpole reinforcement learning problem using the Monte Carlo REINFORCE policy gradient method.\n",
    "\n",
    "Author: Juvid Aryaman"
   ]
  },
  {
   "cell_type": "code",
   "execution_count": 1,
   "metadata": {},
   "outputs": [],
   "source": [
    "import gym\n",
    "import numpy as np\n",
    "import sys\n",
    "import matplotlib.pyplot as plt\n",
    "import matplotlib as mpl\n",
    "sys.path.append(\"..\")\n",
    "import utls\n",
    "utls.reset_plots()"
   ]
  },
  {
   "cell_type": "markdown",
   "metadata": {},
   "source": [
    "Load the Cartpole environment in `gym`"
   ]
  },
  {
   "cell_type": "code",
   "execution_count": 2,
   "metadata": {},
   "outputs": [],
   "source": [
    "env = gym.make(\"CartPole-v0\")"
   ]
  },
  {
   "cell_type": "markdown",
   "metadata": {},
   "source": [
    "## Exploring the Cartpole environment"
   ]
  },
  {
   "cell_type": "markdown",
   "metadata": {},
   "source": [
    "Let the agent follow a constant policy, whereby the action is the same for every state the agent finds itself in"
   ]
  },
  {
   "cell_type": "code",
   "execution_count": 3,
   "metadata": {},
   "outputs": [
    {
     "name": "stdout",
     "output_type": "stream",
     "text": [
      "[0.04987122 0.03615979 0.03255396 0.02797735] 1\n",
      "[ 0.05059442  0.23080013  0.03311351 -0.2542593 ] 1\n",
      "[ 0.05521042  0.42543401  0.02802832 -0.53631648] 1\n",
      "[ 0.0637191   0.62015088  0.01730199 -0.82003782] 1\n",
      "[ 7.61221158e-02  8.15031831e-01  9.01237050e-04 -1.10722895e+00] 1\n",
      "[ 0.09242275  1.01014192 -0.02124334 -1.39962901] 1\n",
      "[ 0.11262559  1.2055214  -0.04923592 -1.69887717] 1\n",
      "[ 0.13673602  1.40117506 -0.08321347 -2.00647153] 1\n",
      "[ 0.16475952  1.59705943 -0.1233429  -2.32371791] 1\n",
      "[ 0.19670071  1.79306721 -0.16981725 -2.65166687] 1\n",
      "Episode finished after 10 timesteps\n",
      "reward = 1.0\n"
     ]
    }
   ],
   "source": [
    "state = env.reset()\n",
    "for t in range(10):\n",
    "    # show the environment as something a human can understand\n",
    "    env.render() \n",
    "    # execute a random action\n",
    "    action = 1 # constant policy: go right\n",
    "    #action = env.action_space.sample() \n",
    "    print(state,action)\n",
    "    state, reward, done, info = env.step(action) \n",
    "    if done:\n",
    "        print(\"Episode finished after {} timesteps\".format(t+1))\n",
    "        break\n",
    "print(\"reward = {}\".format(reward))"
   ]
  },
  {
   "cell_type": "markdown",
   "metadata": {},
   "source": [
    "## Sigmoid Policy\n",
    "\n",
    "Use the policy $\\sigma(\\theta^Ts)$, where $\\sigma(x) := 1/(1+e^{-x})$."
   ]
  },
  {
   "cell_type": "code",
   "execution_count": 4,
   "metadata": {},
   "outputs": [
    {
     "data": {
      "text/plain": [
       "67.0"
      ]
     },
     "execution_count": 4,
     "metadata": {},
     "output_type": "execute_result"
    }
   ],
   "source": [
    "theta = np.ones(4)\n",
    "episodes = 100\n",
    "\n",
    "reward_all = []\n",
    "for i in range(episodes):\n",
    "    state = env.reset()\n",
    "    reward_tot = 0\n",
    "    for t in range(1000):\n",
    "        # show the environment as something a human can understand\n",
    "        if i == 0:\n",
    "            env.render() \n",
    "\n",
    "        sigma = 1.0/(1.0+np.exp(-np.dot(theta,state)))\n",
    "        if np.random.uniform() < sigma:\n",
    "            action = 1 # go right \n",
    "        else:\n",
    "            action = 0\n",
    "\n",
    "        state, reward, done, info = env.step(action) \n",
    "        reward_tot += reward\n",
    "        if done:        \n",
    "            break\n",
    "    reward_all.append(reward_tot)\n",
    "reward_all = np.array(reward_all)\n",
    "reward_tot"
   ]
  },
  {
   "cell_type": "code",
   "execution_count": 5,
   "metadata": {},
   "outputs": [
    {
     "data": {
      "text/plain": [
       "(27.95, 14.939186488202527)"
      ]
     },
     "execution_count": 5,
     "metadata": {},
     "output_type": "execute_result"
    }
   ],
   "source": [
    "reward_all.mean(), reward_all.std(ddof=1)"
   ]
  },
  {
   "cell_type": "markdown",
   "metadata": {},
   "source": [
    "So a sigmoid policy with $\\theta = \\{1,1,1,1\\}$ beats a constant policy by a long way. Let's now train the parameters $\\theta$."
   ]
  },
  {
   "cell_type": "markdown",
   "metadata": {},
   "source": [
    "## Implement REINFORCE algorithm"
   ]
  },
  {
   "cell_type": "markdown",
   "metadata": {},
   "source": [
    "Policy\n",
    "$$\\pi(a|s,\\theta) = p^a (1-p)^{1-a}$$\n",
    "where \n",
    "$$p = \\frac{1}{1+e^{-\\theta^Ts}}$$\n",
    "and $\\theta, s \\in \\mathbb{R}^4$ and $a \\in \\{0,1\\}$, corresponding to left/right. Then,\n",
    "$$ \\frac{\\partial \\ln \\pi(a|s,\\theta)}{\\partial \\theta_i} = \\frac{s_i (ae^{-\\theta^Ts}+a-1)}{1+e^{-\\theta^Ts}}.$$\n",
    "\n",
    "The REINFORCE algorithm is:\n",
    "1. Initialise policy weights $\\theta$\n",
    "2. Generate an episode $\\{s_0,a_0,r_1,\\dots,s_{T-1},a_{T-1},r_T\\}$ following $\\pi(\\cdot|\\cdot,\\theta)$\n",
    "3. For each time step of the episode $t=0,\\dots,T-1$, compute $G_t = \\sum_{i=0}^{T-t-1} \\gamma^i r_{t+1+i}$ and let $\\theta \\rightarrow \\theta + \\alpha G_t \\nabla_\\theta \\ln \\pi(a|s,\\theta)$. Note that this is a retrospective update, after the episode has taken place.\n",
    "4. Go back to 2\n",
    "\n",
    "The REINFORCE update may be re-written as\n",
    "$$\\theta \\rightarrow \\theta + \\alpha G_t \\frac{\\nabla_\\theta \\pi(a|s,\\theta)}{\\pi(a|s,\\theta)}.$$\n",
    "This has an intuitive interpretation. $\\theta$ is changed in a direction which increases the (discounted) return $G_t$. The update is also normalised by the probability of taking an action, such that more common actions are not favoured simply because they are common. See Section 13.3 of Sutton and Barto."
   ]
  },
  {
   "cell_type": "code",
   "execution_count": 6,
   "metadata": {},
   "outputs": [],
   "source": [
    "def lr_fcn(lr0,k,t):\n",
    "    # Learning rate\n",
    "    return lr0*np.exp(-k*t)"
   ]
  },
  {
   "cell_type": "code",
   "execution_count": 7,
   "metadata": {},
   "outputs": [],
   "source": [
    "def smooth_rewards(rewards, bin_length):\n",
    "    nbins = int(len(rewards)/bin_length)\n",
    "    mean_reward_binned = []\n",
    "    std_reward_binned = []\n",
    "    for i in np.arange(nbins,dtype=int):\n",
    "        mean_reward = np.mean(rewards[i*bin_length:i*bin_length+bin_length])\n",
    "        std_reward = np.std(rewards[i*bin_length:i*bin_length+bin_length],ddof=1)\n",
    "        mean_reward_binned.append(mean_reward)\n",
    "        std_reward_binned.append(std_reward)\n",
    "    mean_reward_binned = np.array(mean_reward_binned)\n",
    "    std_reward_binned = np.array(std_reward_binned)\n",
    "    return mean_reward_binned, std_reward_binned, nbins"
   ]
  },
  {
   "cell_type": "code",
   "execution_count": 8,
   "metadata": {},
   "outputs": [],
   "source": [
    "def generate_episode(theta, env, TMAX, render = False):\n",
    "    \"\"\"\n",
    "    Generate an episode from an environment object with a fixed sigmoid policy \n",
    "    \n",
    "    Params:\n",
    "        theta : A numpy vector, the parameters of the policy\n",
    "        env : A gym environment object\n",
    "        TMAX : An int, maximum amount of time to run a session\n",
    "        render : A bool, whether or not to render the environment\n",
    "        \n",
    "    Returns:\n",
    "        state_episode : A numpy list of the states in the episode\n",
    "        action_episode: A numpy list of the actions in the episode\n",
    "        reward_episode: A numpy list of the rewards in the episode\n",
    "    \"\"\"\n",
    "    state = env.reset() # initial state\n",
    "    state_episode = []\n",
    "    action_episode = []\n",
    "    reward_episode = []\n",
    "    \n",
    "    for t in range(TMAX):\n",
    "        # Sigmoid policy\n",
    "        sigma = 1.0/(1.0+np.exp(-np.dot(theta,state)))\n",
    "        if np.random.uniform() < sigma:\n",
    "            action = 1 # go right \n",
    "        else:\n",
    "            action = 0\n",
    "        if render:\n",
    "            env.render() \n",
    "        state_new, reward, done, info = env.step(action) \n",
    "        \n",
    "        # Save\n",
    "        state_episode.append(state) # old state\n",
    "        action_episode.append(action)\n",
    "        reward_episode.append(reward)\n",
    "        \n",
    "        # Update\n",
    "        state = state_new # update state        \n",
    "        \n",
    "        if done:        \n",
    "            break\n",
    "    state_episode.append(state_new) # append the final state\n",
    "    \n",
    "    state_episode = np.array(state_episode)\n",
    "    action_episode = np.array(action_episode)\n",
    "    reward_episode = np.array(reward_episode)\n",
    "    \n",
    "    return state_episode, action_episode, reward_episode"
   ]
  },
  {
   "cell_type": "markdown",
   "metadata": {},
   "source": [
    "Could ramp down the learning rate, but it doesn't seem to be necessary here."
   ]
  },
  {
   "cell_type": "code",
   "execution_count": 9,
   "metadata": {},
   "outputs": [],
   "source": [
    "episodes = 1000\n",
    "gamma = 0.99\n",
    "# alpha_hl = np.log(2)/(episodes/0.01)\n",
    "# alpha0 = 0.1\n",
    "alpha = 0.005 # learning rate"
   ]
  },
  {
   "cell_type": "code",
   "execution_count": 10,
   "metadata": {},
   "outputs": [],
   "source": [
    "# t = np.arange(episodes)\n",
    "# fig, ax = plt.subplots(1,1)\n",
    "# ax.plot(t,lr_fcn(alpha0,alpha_hl,t), '-k')\n",
    "# #utls.remove_tex_axis(ax, ytick_fmt=\"%.4f\")\n",
    "# ax.set_xlabel('Time')\n",
    "# ax.set_ylabel(r'$\\alpha$');"
   ]
  },
  {
   "cell_type": "code",
   "execution_count": 11,
   "metadata": {},
   "outputs": [
    {
     "name": "stdout",
     "output_type": "stream",
     "text": [
      "0\n",
      "100\n",
      "200\n",
      "300\n",
      "400\n",
      "500\n",
      "600\n",
      "700\n",
      "800\n",
      "900\n"
     ]
    }
   ],
   "source": [
    "theta = np.random.normal(1,0.1,size=4) \n",
    "TMAX = 250\n",
    "\n",
    "reward_all = [] # total reward per episode\n",
    "\n",
    "for ep in range(episodes):\n",
    "    if ep % 100 == 0: print(ep)\n",
    "    \n",
    "    # Make an episode\n",
    "    state_ep, action_ep, rewards_ep =  generate_episode(theta, env, TMAX)\n",
    "    \n",
    "    reward_all.append(np.sum(rewards_ep)) # sum the reward from the episode\n",
    "    \n",
    "    # Retroactively update theta according to REINFORCE update rule\n",
    "    #alpha = lr_fcn(alpha0,alpha_hl,ep) \n",
    "    \n",
    "    T = len(action_ep) # amount of time elapsed per episode\n",
    "    for i in range(T): # for every time step i in the episode\n",
    "        si = state_ep[i,:]\n",
    "        ai = action_ep[i]\n",
    "        x = np.exp(-np.dot(theta, si))\n",
    "        \n",
    "        grad_log_pi = si*(ai*x + ai - 1.0)/(1.0+x)        \n",
    "        discounted_return = np.sum([rewards_ep[i+j+1]*gamma**j for j in range(T-i-1)])        \n",
    "        theta = theta + alpha*grad_log_pi*discounted_return # REINFORCE update rule\n",
    "\n",
    "reward_all = np.array(reward_all)\n",
    "        "
   ]
  },
  {
   "cell_type": "code",
   "execution_count": 12,
   "metadata": {},
   "outputs": [
    {
     "data": {
      "text/plain": [
       "(181.816, 28.51689599794054)"
      ]
     },
     "execution_count": 12,
     "metadata": {},
     "output_type": "execute_result"
    }
   ],
   "source": [
    "reward_all.mean(), reward_all.std(ddof=1)"
   ]
  },
  {
   "cell_type": "code",
   "execution_count": 13,
   "metadata": {},
   "outputs": [
    {
     "data": {
      "text/plain": [
       "[<matplotlib.lines.Line2D at 0x7f5f3d24ba58>]"
      ]
     },
     "execution_count": 13,
     "metadata": {},
     "output_type": "execute_result"
    },
    {
     "name": "stderr",
     "output_type": "stream",
     "text": [
      "/home/juvid/anaconda3/lib/python3.6/site-packages/matplotlib/font_manager.py:1238: UserWarning: findfont: Font family ['sans-serif'] not found. Falling back to DejaVu Sans.\n",
      "  (prop.get_family(), self.defaultFamily[fontext]))\n"
     ]
    },
    {
     "data": {
      "image/png": "[encoded data removed]",
      "text/plain": [
       "<Figure size 432x288 with 1 Axes>"
      ]
     },
     "metadata": {
      "needs_background": "light"
     },
     "output_type": "display_data"
    }
   ],
   "source": [
    "plt.plot(np.arange(len(reward_all)),reward_all)"
   ]
  },
  {
   "cell_type": "code",
   "execution_count": 14,
   "metadata": {},
   "outputs": [],
   "source": [
    "mean_reward_binned, std_reward_binned, nbins = smooth_rewards(reward_all, bin_length=50)"
   ]
  },
  {
   "cell_type": "code",
   "execution_count": 15,
   "metadata": {},
   "outputs": [
    {
     "data": {
      "text/plain": [
       "[<matplotlib.lines.Line2D at 0x7f5f37a6dd68>]"
      ]
     },
     "execution_count": 15,
     "metadata": {},
     "output_type": "execute_result"
    },
    {
     "data": {
      "image/png": "[encoded data removed]",
      "text/plain": [
       "<Figure size 432x288 with 1 Axes>"
      ]
     },
     "metadata": {
      "needs_background": "light"
     },
     "output_type": "display_data"
    }
   ],
   "source": [
    "plt.plot(np.arange(nbins), mean_reward_binned)"
   ]
  },
  {
   "cell_type": "code",
   "execution_count": 16,
   "metadata": {},
   "outputs": [
    {
     "data": {
      "text/plain": [
       "array([ 4.58701772, -0.10344216, 10.24130242, 19.46087081])"
      ]
     },
     "execution_count": 16,
     "metadata": {},
     "output_type": "execute_result"
    }
   ],
   "source": [
    "theta"
   ]
  },
  {
   "cell_type": "code",
   "execution_count": 17,
   "metadata": {},
   "outputs": [],
   "source": [
    "_ = generate_episode(theta, env, 1000, render = True)"
   ]
  },
  {
   "cell_type": "markdown",
   "metadata": {},
   "source": [
    "Awesome."
   ]
  },
  {
   "cell_type": "markdown",
   "metadata": {},
   "source": [
    "To do: \n",
    "\n",
    "- Look into reducing gradient variance \n",
    "- Implement softmax policy instead of sigmoid. Move code into `TensorFlow`"
   ]
  }
 ],
 "metadata": {
  "kernelspec": {
   "display_name": "Python 3",
   "language": "python",
   "name": "python3"
  },
  "language_info": {
   "codemirror_mode": {
    "name": "ipython",
    "version": 3
   },
   "file_extension": ".py",
   "mimetype": "text/x-python",
   "name": "python",
   "nbconvert_exporter": "python",
   "pygments_lexer": "ipython3",
   "version": "3.6.6"
  }
 },
 "nbformat": 4,
 "nbformat_minor": 2
}
