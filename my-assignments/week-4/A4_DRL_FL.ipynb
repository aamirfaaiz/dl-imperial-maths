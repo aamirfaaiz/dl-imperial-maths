{
 "cells": [
  {
   "cell_type": "markdown",
   "metadata": {},
   "source": [
    "# Q-learning in OpenAI Gym: Frozen Lake\n",
    "\n",
    "Using the tabular Q-learning algorithm, we will train an agent to navigate a slippery 4x4 grid to navigate from a start tile (`S`), to a goal tile (`G`), across frozen tiles (`F`) whilst avoiding the holes (`H`). Since the surface is slippery, an action results in a stochastic transition to a new state. Hence, the optimal policy is non-trivial to learn. The task is solved if the success rate is $\\gtrsim 76\\%$.\n",
    "\n",
    "Author: Juvid Aryaman"
   ]
  },
  {
   "cell_type": "code",
   "execution_count": 1,
   "metadata": {},
   "outputs": [],
   "source": [
    "import gym\n",
    "import numpy as np\n",
    "import sys\n",
    "import matplotlib.pyplot as plt\n",
    "import matplotlib as mpl\n",
    "sys.path.append(\"..\")\n",
    "import utls\n",
    "utls.reset_plots()"
   ]
  },
  {
   "cell_type": "markdown",
   "metadata": {},
   "source": [
    "Load the Frozen Lake environment in `gym`"
   ]
  },
  {
   "cell_type": "code",
   "execution_count": 2,
   "metadata": {},
   "outputs": [],
   "source": [
    "env = gym.make(\"FrozenLake-v0\")"
   ]
  },
  {
   "cell_type": "markdown",
   "metadata": {},
   "source": [
    "## Exploring the Frozen Lake environment"
   ]
  },
  {
   "cell_type": "markdown",
   "metadata": {},
   "source": [
    "Let the agent follow a random policy, whereby the action is random for every state the agent finds itself in"
   ]
  },
  {
   "cell_type": "code",
   "execution_count": 3,
   "metadata": {},
   "outputs": [
    {
     "name": "stdout",
     "output_type": "stream",
     "text": [
      "\n",
      "\u001b[41mS\u001b[0mFFF\n",
      "FHFH\n",
      "FFFH\n",
      "HFFG\n",
      "0 0\n",
      "  (Left)\n",
      "\u001b[41mS\u001b[0mFFF\n",
      "FHFH\n",
      "FFFH\n",
      "HFFG\n",
      "0 3\n",
      "  (Up)\n",
      "\u001b[41mS\u001b[0mFFF\n",
      "FHFH\n",
      "FFFH\n",
      "HFFG\n",
      "0 1\n",
      "  (Down)\n",
      "S\u001b[41mF\u001b[0mFF\n",
      "FHFH\n",
      "FFFH\n",
      "HFFG\n",
      "1 0\n",
      "Episode finished after 4 timesteps\n",
      "reward = 0.0\n"
     ]
    }
   ],
   "source": [
    "state = env.reset()\n",
    "for t in range(100):\n",
    "    # show the environment as something a human can understand\n",
    "    env.render() \n",
    "    # execute a random action\n",
    "    action = env.action_space.sample() \n",
    "    print(state,action)\n",
    "    # for that action, the environment emits a new state (observation) and reward. \n",
    "    # If we fall into a hole, H, the reward is 0. If we reach the goal, G, the reward is 1.\n",
    "    # We keep going until one of these outcomes is achieved, or t > 100.\n",
    "    state, reward, done, info = env.step(action) \n",
    "    if done:\n",
    "        print(\"Episode finished after {} timesteps\".format(t+1))\n",
    "        break\n",
    "print(\"reward = {}\".format(reward))"
   ]
  },
  {
   "cell_type": "markdown",
   "metadata": {},
   "source": [
    "An \"episode\" is a period of time where the agent interacts with the environment. Here, an episode ends when the agent either falls into a hole `H` or reaches the goal `G`, with a reward of 0 or 1 respectively."
   ]
  },
  {
   "cell_type": "markdown",
   "metadata": {},
   "source": [
    "The action-value function $Q_{\\pi}(s,a)$ indicates how good it is, in state $s$, to first take action $a$ before continuing to follow policy $\\pi$ (where a policy is a mapping from state to action) for all other next actions \n",
    "\n",
    "$$Q_{\\pi}(s,a) = \\mathbb{E}_{\\pi}[\\sum_{i=0}^\\infty r_{t+i} | S_t = s, A_t = a].$$\n",
    "\n",
    "When the policy $\\pi$ is optimal, we label $Q$ as $Q^*$. $Q^*$ obeys a time consistency property called the Bellman equation\n",
    "\n",
    "$$Q^*(s,a) = r(s,a) + \\max_{a'}Q^*(s',a')$$\n",
    "\n",
    "where $r(s,a)$ is the reward for being in state $s$ and taking action $a$, resulting in a transition to state $s'$ (note that this is the case when looking at past, realised, transitions). "
   ]
  },
  {
   "cell_type": "markdown",
   "metadata": {},
   "source": [
    "The tabular Q-learning control attempts to learn $Q^*(s,a)$. It is based on the Bellman equation, and is $\\epsilon$-greedy. This means, with probability $1-\\epsilon$, the agent chooses action $\\text{argmax}_{a}Q^*(s,a)$, and otherwise choose a random action. We then update the policy according to\n",
    "$$Q_{t+1}(s_t,a_t) \\leftarrow Q_{t}(s_t, a_t) + \\alpha \\Big( r_t + \\gamma \\cdot \\underset{b}{\\max} Q_{t}(s_{t+1},b) - Q_{t}(s_t,a_t) \\Big),$$\n",
    "where $t$ is an index of time, which increases by 1 for every action (and is not reset for each episode). $\\alpha$ is called the learning rate, which tells us how rapidly we update our action-value function. $\\gamma$ is called the discount factor, which controls the weighting between immediate and future rewards."
   ]
  },
  {
   "cell_type": "markdown",
   "metadata": {},
   "source": [
    "## Perform tabular Q-learning on Frozen Lake"
   ]
  },
  {
   "cell_type": "markdown",
   "metadata": {},
   "source": [
    "Initialise $Q^*$ randomly. $Q$ is simply a look-up table of all actions for all states. The state is a 4x4 grid (so 16 possible states), and there are 4 possible actions."
   ]
  },
  {
   "cell_type": "code",
   "execution_count": 4,
   "metadata": {},
   "outputs": [
    {
     "data": {
      "text/plain": [
       "(16, 4)"
      ]
     },
     "execution_count": 4,
     "metadata": {},
     "output_type": "execute_result"
    }
   ],
   "source": [
    "Q_init = np.random.uniform(size = [env.observation_space.n, env.action_space.n])\n",
    "Q_init.shape"
   ]
  },
  {
   "cell_type": "markdown",
   "metadata": {},
   "source": [
    "Define hyperparameters"
   ]
  },
  {
   "cell_type": "code",
   "execution_count": 5,
   "metadata": {},
   "outputs": [],
   "source": [
    "alpha = 0.1 # learning rate\n",
    "gamma = 0.99 # discount factor"
   ]
  },
  {
   "cell_type": "code",
   "execution_count": 6,
   "metadata": {},
   "outputs": [],
   "source": [
    "def Tabular_Q_learning(alpha, gamma, epsilons, episodes, Q_init, TMAX=100):\n",
    "    Q = Q_init\n",
    "    rewards = [] # for each episode\n",
    "    ts = []\n",
    "    for i in range(episodes):\n",
    "        epsilon = epsilons[i]\n",
    "        \n",
    "        if i % 1000 == 0:\n",
    "            print(i)\n",
    "        # reset environment\n",
    "        s = env.reset()\n",
    "        t = 0\n",
    "        r_all = 0.0\n",
    "        done = False\n",
    "        while t < TMAX:            \n",
    "            # Choose action from epsilon-greedy policy using Q\n",
    "            if np.random.uniform()<epsilon:\n",
    "                a = env.action_space.sample() # make a random action\n",
    "            else:\n",
    "                a = np.argmax(Q[s,:])\n",
    "\n",
    "            s_new, r, done, _ = env.step(a)\n",
    "\n",
    "            # Update Q-Table\n",
    "            Q[s,a] = Q[s,a] + alpha*(r + gamma*np.max(Q[s_new,:]) - Q[s,a])\n",
    "\n",
    "            r_all += r\n",
    "            s = s_new\n",
    "            t += 1\n",
    "            if done:\n",
    "                ts.append(t)\n",
    "                break\n",
    "        rewards.append(r_all)\n",
    "    rewards = np.array(rewards)\n",
    "    print(\"Done.\")\n",
    "    return Q, rewards, ts"
   ]
  },
  {
   "cell_type": "markdown",
   "metadata": {},
   "source": [
    "Investigate the effect of varying $\\epsilon$"
   ]
  },
  {
   "cell_type": "code",
   "execution_count": 7,
   "metadata": {},
   "outputs": [
    {
     "name": "stdout",
     "output_type": "stream",
     "text": [
      "0\n",
      "1000\n",
      "2000\n",
      "3000\n",
      "4000\n",
      "Done.\n",
      "0\n",
      "1000\n",
      "2000\n",
      "3000\n",
      "4000\n",
      "Done.\n",
      "0\n",
      "1000\n",
      "2000\n",
      "3000\n",
      "4000\n",
      "Done.\n"
     ]
    }
   ],
   "source": [
    "episodes = 5000\n",
    "Q, rewards_e_0_5, ts = Tabular_Q_learning(alpha, gamma, 0.5*np.ones(episodes),episodes, Q_init)\n",
    "Q, rewards_e_0_3, ts = Tabular_Q_learning(alpha, gamma, 0.3*np.ones(episodes),episodes, Q_init)\n",
    "Q, rewards_e_0_1, ts = Tabular_Q_learning(alpha, gamma, 0.1*np.ones(episodes),episodes, Q_init)"
   ]
  },
  {
   "cell_type": "markdown",
   "metadata": {},
   "source": [
    "Also investigate annealing $\\epsilon$. Let's use an exponential rate of annealing, and pick a suitable rate by eye"
   ]
  },
  {
   "cell_type": "code",
   "execution_count": 8,
   "metadata": {},
   "outputs": [
    {
     "data": {
      "text/plain": [
       "Text(0, 0.5, '$\\\\epsilon$')"
      ]
     },
     "execution_count": 8,
     "metadata": {},
     "output_type": "execute_result"
    },
    {
     "name": "stderr",
     "output_type": "stream",
     "text": [
      "/home/juvid/anaconda3/lib/python3.6/site-packages/matplotlib/font_manager.py:1238: UserWarning: findfont: Font family ['sans-serif'] not found. Falling back to DejaVu Sans.\n",
      "  (prop.get_family(), self.defaultFamily[fontext]))\n"
     ]
    },
    {
     "data": {
      "image/png": "[encoded data removed]",
      "text/plain": [
       "<Figure size 432x288 with 1 Axes>"
      ]
     },
     "metadata": {
      "needs_background": "light"
     },
     "output_type": "display_data"
    }
   ],
   "source": [
    "k = np.log(2)/(episodes/10)\n",
    "t = np.arange(episodes)\n",
    "fig, ax = plt.subplots(1,1)\n",
    "ax.plot(t,0.5*np.exp(-k*t), '-k')\n",
    "utls.remove_tex_axis(ax, ytick_fmt=\"%.1f\")\n",
    "ax.set_xlabel('Time')\n",
    "ax.set_ylabel('$\\epsilon$')"
   ]
  },
  {
   "cell_type": "code",
   "execution_count": 9,
   "metadata": {},
   "outputs": [
    {
     "name": "stdout",
     "output_type": "stream",
     "text": [
      "0\n",
      "1000\n",
      "2000\n",
      "3000\n",
      "4000\n",
      "Done.\n"
     ]
    }
   ],
   "source": [
    "Q, rewards_e_anneal, ts = Tabular_Q_learning(alpha, gamma, 0.5*np.exp(-k*t),episodes, Q_init)"
   ]
  },
  {
   "cell_type": "markdown",
   "metadata": {},
   "source": [
    "Bin the reward per episode to smooth the signal, so we may inspect it"
   ]
  },
  {
   "cell_type": "code",
   "execution_count": 10,
   "metadata": {},
   "outputs": [],
   "source": [
    "def smooth_rewards(rewards, bin_length):\n",
    "    nbins = int(len(rewards)/bin_length)\n",
    "    mean_reward_binned = []\n",
    "    std_reward_binned = []\n",
    "    for i in np.arange(nbins,dtype=int):\n",
    "        mean_reward = np.mean(rewards[i*bin_length:i*bin_length+bin_length])\n",
    "        std_reward = np.std(rewards[i*bin_length:i*bin_length+bin_length],ddof=1)\n",
    "        mean_reward_binned.append(mean_reward)\n",
    "        std_reward_binned.append(std_reward)\n",
    "    mean_reward_binned = np.array(mean_reward_binned)\n",
    "    std_reward_binned = np.array(std_reward_binned)\n",
    "    return mean_reward_binned, std_reward_binned, nbins"
   ]
  },
  {
   "cell_type": "code",
   "execution_count": 11,
   "metadata": {},
   "outputs": [
    {
     "data": {
      "text/plain": [
       "<matplotlib.legend.Legend at 0x7fc9d76c5d68>"
      ]
     },
     "execution_count": 11,
     "metadata": {},
     "output_type": "execute_result"
    },
    {
     "name": "stderr",
     "output_type": "stream",
     "text": [
      "/home/juvid/anaconda3/lib/python3.6/site-packages/matplotlib/font_manager.py:1238: UserWarning: findfont: Font family ['sans-serif'] not found. Falling back to DejaVu Sans.\n",
      "  (prop.get_family(), self.defaultFamily[fontext]))\n"
     ]
    },
    {
     "data": {
      "image/png": "[encoded data removed]",
      "text/plain": [
       "<Figure size 432x288 with 1 Axes>"
      ]
     },
     "metadata": {
      "needs_background": "light"
     },
     "output_type": "display_data"
    }
   ],
   "source": [
    "bin_length = 100\n",
    "mean_reward_binned_5, std_reward_binned_5, nbins_5 = smooth_rewards(rewards_e_0_5, bin_length)\n",
    "mean_reward_binned_3, std_reward_binned_3, nbins_3 = smooth_rewards(rewards_e_0_3, bin_length)\n",
    "mean_reward_binned_1, std_reward_binned_1, nbins_1 = smooth_rewards(rewards_e_0_1, bin_length)\n",
    "mean_reward_binned_a, std_reward_binned_a, nbins_a = smooth_rewards(rewards_e_anneal, bin_length)\n",
    "\n",
    "fig, ax = plt.subplots(1,1)\n",
    "ax.plot(np.arange(nbins_5), mean_reward_binned_5,'-r', label = \"$\\epsilon=0.5$\")\n",
    "ax.plot(np.arange(nbins_3), mean_reward_binned_3,'-g', label = \"$\\epsilon=0.3$\")\n",
    "ax.plot(np.arange(nbins_1), mean_reward_binned_1,'-b', label = \"$\\epsilon=0.1$\")\n",
    "ax.plot(np.arange(nbins_a), mean_reward_binned_a,'--k', label = \"$\\epsilon\\propto e^{-kt}$\")\n",
    "x=np.arange(nbins_1)\n",
    "ax.plot(x,0.76*np.ones(len(x)),':r')\n",
    "\n",
    "utls.remove_tex_axis(ax,ytick_fmt=\"%.1f\")\n",
    "ax.set_xlabel('Binned episodes')\n",
    "ax.set_ylabel('Mean cumulative\\n reward per bin')\n",
    "ax.set_ylim([0,1])\n",
    "\n",
    "box = ax.get_position()\n",
    "ax.set_position([box.x0, box.y0, box.width * 0.8, box.height])\n",
    "ax.legend(loc='center left', bbox_to_anchor=(1, 0.5))"
   ]
  },
  {
   "cell_type": "markdown",
   "metadata": {},
   "source": [
    "Dotted red line shows 76\\% success rate. Reducing $\\epsilon$ makes us learn better, and annealing $\\epsilon$ is better still."
   ]
  },
  {
   "cell_type": "markdown",
   "metadata": {},
   "source": [
    "## Use the SARSA algorithm\n",
    "\n",
    "The SARSA (state–action–reward–state–action) algorithm uses\n",
    "$$Q_{t+1}(s_t,a_t) \\leftarrow Q_{t}(s_t, a_t) + \\alpha \\Big( r_t + \\gamma \\cdot Q_{t}(s_{t+1},a_{t+1}) - Q_{t}(s_t,a_t) \\Big)$$\n",
    "Let's compare to the Q-learning algorithm..."
   ]
  },
  {
   "cell_type": "code",
   "execution_count": 12,
   "metadata": {},
   "outputs": [],
   "source": [
    "def Tabular_Q_learning_SARSA(alpha, gamma, epsilons, episodes, Q_init, TMAX=100):\n",
    "    Q = Q_init\n",
    "    rewards = [] # for each episode\n",
    "    ts = []\n",
    "    for i in range(episodes):\n",
    "        epsilon = epsilons[i]\n",
    "        \n",
    "        if i % 1000 == 0:\n",
    "            print(i)\n",
    "        # reset environment\n",
    "        s = env.reset()\n",
    "        a = 0\n",
    "        t = 0\n",
    "        r_all = 0.0\n",
    "        done = False\n",
    "        while t < TMAX:            \n",
    "            # Choose action from epsilon-greedy policy using Q\n",
    "            if np.random.uniform()<epsilon:\n",
    "                a_new = env.action_space.sample() # make a random action\n",
    "            else:\n",
    "                a_new = np.argmax(Q[s,:])\n",
    "\n",
    "            s_new, r, done, _ = env.step(a_new)\n",
    "\n",
    "            # Update Q-Table\n",
    "            Q[s,a] = Q[s,a] + alpha*(r + gamma*np.max(Q[s_new,a_new]) - Q[s,a])\n",
    "\n",
    "            r_all += r\n",
    "            s = s_new\n",
    "            t += 1\n",
    "            a = a_new\n",
    "            if done:\n",
    "                ts.append(t)\n",
    "                break\n",
    "        rewards.append(r_all)\n",
    "    rewards = np.array(rewards)\n",
    "    print(\"Done.\")\n",
    "    return Q, rewards, ts"
   ]
  },
  {
   "cell_type": "code",
   "execution_count": 13,
   "metadata": {},
   "outputs": [
    {
     "name": "stdout",
     "output_type": "stream",
     "text": [
      "0\n",
      "1000\n",
      "2000\n",
      "3000\n",
      "4000\n",
      "Done.\n"
     ]
    }
   ],
   "source": [
    "Q, rewards_e_a_SARSA, ts = Tabular_Q_learning_SARSA(alpha, gamma, 0.5*np.exp(-k*t),episodes, Q_init)"
   ]
  },
  {
   "cell_type": "code",
   "execution_count": 14,
   "metadata": {},
   "outputs": [],
   "source": [
    "mean_reward_binned_a_SARSA, std_reward_binned_a_SARSA, nbins_a_SARSA = smooth_rewards(rewards_e_a_SARSA, bin_length)"
   ]
  },
  {
   "cell_type": "code",
   "execution_count": 15,
   "metadata": {},
   "outputs": [
    {
     "data": {
      "text/plain": [
       "<matplotlib.legend.Legend at 0x7fc9d7648c18>"
      ]
     },
     "execution_count": 15,
     "metadata": {},
     "output_type": "execute_result"
    },
    {
     "data": {
      "image/png": "[encoded data removed]",
      "text/plain": [
       "<Figure size 432x288 with 1 Axes>"
      ]
     },
     "metadata": {
      "needs_background": "light"
     },
     "output_type": "display_data"
    }
   ],
   "source": [
    "fig, ax = plt.subplots(1,1)\n",
    "ax.plot(np.arange(nbins_a), mean_reward_binned_a,'-k', label = \"Q-learning\")\n",
    "ax.plot(np.arange(nbins_a), mean_reward_binned_a_SARSA,'-r', label = \"SARSA\")\n",
    "\n",
    "utls.remove_tex_axis(ax,ytick_fmt=\"%.1f\")\n",
    "ax.set_xlabel('Binned episodes')\n",
    "ax.set_ylabel('Mean cumulative\\n reward per bin')\n",
    "ax.set_ylim([0,1])\n",
    "ax.legend()"
   ]
  },
  {
   "cell_type": "markdown",
   "metadata": {},
   "source": [
    "Hmmm... SARSA doesn't seem to be very good!!"
   ]
  },
  {
   "cell_type": "markdown",
   "metadata": {},
   "source": [
    "To do: Convert to `TensorFlow`"
   ]
  }
 ],
 "metadata": {
  "kernelspec": {
   "display_name": "Python 3",
   "language": "python",
   "name": "python3"
  },
  "language_info": {
   "codemirror_mode": {
    "name": "ipython",
    "version": 3
   },
   "file_extension": ".py",
   "mimetype": "text/x-python",
   "name": "python",
   "nbconvert_exporter": "python",
   "pygments_lexer": "ipython3",
   "version": "3.6.6"
  }
 },
 "nbformat": 4,
 "nbformat_minor": 2
}
