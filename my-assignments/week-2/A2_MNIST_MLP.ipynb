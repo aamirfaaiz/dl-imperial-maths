{
 "cells": [
  {
   "cell_type": "markdown",
   "metadata": {},
   "source": [
    "# MNIST Multilayer Perceptron in Tensorflow\n",
    "\n",
    "Author: Juvid Aryaman"
   ]
  },
  {
   "cell_type": "code",
   "execution_count": 1,
   "metadata": {},
   "outputs": [],
   "source": [
    "import tensorflow as tf\n",
    "import pandas as pd\n",
    "import numpy as np\n",
    "import sys\n",
    "import matplotlib.pyplot as plt\n",
    "import matplotlib as mpl\n",
    "import time\n",
    "sys.path.append(\"..\")\n",
    "import utls\n",
    "utls.reset_plots()"
   ]
  },
  {
   "cell_type": "markdown",
   "metadata": {},
   "source": [
    "MNIST is a dataset of 28$\\times$28 handwritten digits. The dataset comes shipped with tensorflow, so let's load it up and have a look."
   ]
  },
  {
   "cell_type": "code",
   "execution_count": 2,
   "metadata": {},
   "outputs": [],
   "source": [
    "mnist = tf.keras.datasets.mnist\n",
    "(x_train, y_train),(x_test, y_test) = mnist.load_data()\n",
    "x_train, x_test = x_train / 255.0, x_test / 255.0\n"
   ]
  },
  {
   "cell_type": "code",
   "execution_count": 3,
   "metadata": {},
   "outputs": [
    {
     "data": {
      "text/plain": [
       "((60000, 28, 28), (10000, 28, 28))"
      ]
     },
     "execution_count": 3,
     "metadata": {},
     "output_type": "execute_result"
    }
   ],
   "source": [
    "x_train.shape, x_test.shape"
   ]
  },
  {
   "cell_type": "code",
   "execution_count": 4,
   "metadata": {},
   "outputs": [
    {
     "data": {
      "text/plain": [
       "((60000,), (10000,))"
      ]
     },
     "execution_count": 4,
     "metadata": {},
     "output_type": "execute_result"
    }
   ],
   "source": [
    "y_train.shape, y_test.shape"
   ]
  },
  {
   "cell_type": "code",
   "execution_count": 5,
   "metadata": {},
   "outputs": [],
   "source": [
    "n_train = x_train.shape[0]\n",
    "n_test = x_test.shape[0]"
   ]
  },
  {
   "cell_type": "markdown",
   "metadata": {},
   "source": [
    "Plot some example images"
   ]
  },
  {
   "cell_type": "code",
   "execution_count": 6,
   "metadata": {},
   "outputs": [],
   "source": [
    "from matplotlib import cm"
   ]
  },
  {
   "cell_type": "code",
   "execution_count": 7,
   "metadata": {},
   "outputs": [
    {
     "name": "stdout",
     "output_type": "stream",
     "text": [
      "Digit: 8\n"
     ]
    },
    {
     "name": "stderr",
     "output_type": "stream",
     "text": [
      "/home/juvid/anaconda3/lib/python3.6/site-packages/matplotlib/font_manager.py:1238: UserWarning: findfont: Font family ['sans-serif'] not found. Falling back to DejaVu Sans.\n",
      "  (prop.get_family(), self.defaultFamily[fontext]))\n"
     ]
    },
    {
     "data": {
      "image/png": "[encoded data removed]",
      "text/plain": [
       "<Figure size 432x288 with 1 Axes>"
      ]
     },
     "metadata": {
      "needs_background": "light"
     },
     "output_type": "display_data"
    }
   ],
   "source": [
    "example = np.random.choice(np.arange(n_train))\n",
    "\n",
    "image = x_train[example]\n",
    "label = y_train[example]\n",
    "\n",
    "plt.imshow(image, cmap = cm.binary)\n",
    "print(\"Digit: {}\".format(label))"
   ]
  },
  {
   "cell_type": "markdown",
   "metadata": {},
   "source": [
    "For a multilayer perceptron, we will discard the spatial correlations and simply flatten the data. A convolutional neural network doesn't do this, and is a smarter choice for image data, but we'll start off simple here."
   ]
  },
  {
   "cell_type": "code",
   "execution_count": 8,
   "metadata": {},
   "outputs": [
    {
     "data": {
      "text/plain": [
       "((60000, 784), (10000, 784))"
      ]
     },
     "execution_count": 8,
     "metadata": {},
     "output_type": "execute_result"
    }
   ],
   "source": [
    "x_train_flat = x_train.reshape((n_train, -1))\n",
    "x_test_flat = x_test.reshape((n_test, -1))\n",
    "x_train_flat.shape, x_test_flat.shape"
   ]
  },
  {
   "cell_type": "markdown",
   "metadata": {},
   "source": [
    "Now we encode the data labels as one-hot vectors"
   ]
  },
  {
   "cell_type": "code",
   "execution_count": 9,
   "metadata": {},
   "outputs": [
    {
     "data": {
      "text/plain": [
       "array([5, 0, 4, 1, 9, 2, 1, 3, 1, 4, 3, 5, 3, 6, 1, 7, 2, 8, 6, 9],\n",
       "      dtype=uint8)"
      ]
     },
     "execution_count": 9,
     "metadata": {},
     "output_type": "execute_result"
    }
   ],
   "source": [
    "y_train[:20]"
   ]
  },
  {
   "cell_type": "code",
   "execution_count": 10,
   "metadata": {},
   "outputs": [],
   "source": [
    "def one_hot(labels):\n",
    "    \"\"\"\n",
    "    Encodes a list of labels ranging between (0-9) as one-hot vectors.\n",
    "    0 -> [1,0,0,0,0,0,0,0,0,0]\n",
    "    9 -> [0,0,0,0,0,0,0,0,0,1]\n",
    "    \"\"\"\n",
    "    one_hot_labels = []\n",
    "    for num in labels:\n",
    "        one_hot = [0.0]*10\n",
    "        one_hot[num] = 1.0\n",
    "        one_hot_labels.append(one_hot)\n",
    "    return np.array(one_hot_labels).astype(np.float32)"
   ]
  },
  {
   "cell_type": "code",
   "execution_count": 11,
   "metadata": {},
   "outputs": [
    {
     "data": {
      "text/plain": [
       "((60000, 10), (10000, 10))"
      ]
     },
     "execution_count": 11,
     "metadata": {},
     "output_type": "execute_result"
    }
   ],
   "source": [
    "y_train_oh = one_hot(y_train)\n",
    "y_test_oh = one_hot(y_test)\n",
    "y_train_oh.shape, y_test_oh.shape"
   ]
  },
  {
   "cell_type": "code",
   "execution_count": 12,
   "metadata": {},
   "outputs": [
    {
     "data": {
      "text/plain": [
       "(5, array([0., 0., 0., 0., 0., 1., 0., 0., 0., 0.], dtype=float32))"
      ]
     },
     "execution_count": 12,
     "metadata": {},
     "output_type": "execute_result"
    }
   ],
   "source": [
    "y_train[0],y_train_oh[0]"
   ]
  },
  {
   "cell_type": "markdown",
   "metadata": {},
   "source": [
    "## Build multilayer perceptron"
   ]
  },
  {
   "cell_type": "code",
   "execution_count": 13,
   "metadata": {},
   "outputs": [],
   "source": [
    "class MLP_MNIST:\n",
    "    \"\"\"\n",
    "    Define a multilayer perceptron for the MNIST dataset\n",
    "    \n",
    "    Params\n",
    "    ------------\n",
    "    wd_factor : A double, the L2 regularisation factor for model parameters\n",
    "    learning_rate : A double, the learning rate for the Adam optimiser    \n",
    "    \n",
    "    \"\"\"\n",
    "    def __init__(self, wd_factor, learning_rate):\n",
    "        self.wd_factor = wd_factor # weight decay factor (L2 regulariser)\n",
    "        self.learning_rate = learning_rate\n",
    "        self.train_pointer = 0 # for mini-batch housekeeping\n",
    "        self.test_pointer = 0\n",
    "        \n",
    "        self.input = tf.placeholder(dtype=tf.float32, shape=[None,784],name=\"input\")\n",
    "        self.ground_truth = tf.placeholder(dtype=tf.float32, shape=[None,10],name=\"ground_truth\")\n",
    "        print(self.input)\n",
    "        \n",
    "        self._build_graph()\n",
    "    def _build_graph(self):\n",
    "        \"\"\"\n",
    "        Create the multilayer perceptron network using the Adam optimiser and cross entropy loss\n",
    "        \"\"\"\n",
    "        weights = [] # for weight decay\n",
    "        \n",
    "        with tf.variable_scope(\"layers\"):\n",
    "            h = tf.layers.dense(self.input, 512, kernel_initializer=tf.glorot_uniform_initializer(),\n",
    "                               activation=tf.tanh, name='1')\n",
    "            print(h)\n",
    "            \n",
    "            h = tf.layers.dense(h, 256, kernel_initializer=tf.glorot_uniform_initializer(),\n",
    "                               activation=tf.tanh, name='2')\n",
    "            print(h)\n",
    "            \n",
    "            h = tf.layers.dense(h, 64, kernel_initializer=tf.glorot_uniform_initializer(),\n",
    "                               activation=tf.tanh, name='3')\n",
    "            print(h)\n",
    "            \n",
    "            self.logits = tf.layers.dense(h, 10, kernel_initializer=tf.glorot_uniform_initializer(),\n",
    "                               activation=tf.tanh, name='4') # linear output for the loss function\n",
    "            print(self.logits)\n",
    "            self.prediction = tf.nn.softmax(self.logits, name=\"softmax_prediction\")\n",
    "        \n",
    "        with tf.name_scope('loss'):\n",
    "            self.loss = tf.reduce_mean(tf.nn.softmax_cross_entropy_with_logits_v2(logits=self.logits,\n",
    "                                                                                 labels=self.ground_truth))\n",
    "            self.loss += self.weight_decay() # penalise weights with L2 norm\n",
    "        \n",
    "        self.optimizer = tf.train.AdamOptimizer(self.learning_rate)\n",
    "        self.train_op = self.optimizer.minimize(self.loss)\n",
    "        \n",
    "    def weight_decay(self):\n",
    "        \"\"\"\n",
    "        Append the L2 penalty onto the loss function\n",
    "        \"\"\"\n",
    "        loss = 0\n",
    "        for v in tf.global_variables():\n",
    "            if 'Adam' in v.name:\n",
    "                continue # do not punish optimizer variables\n",
    "            elif 'kernel' in v.name:\n",
    "                loss += self.wd_factor * tf.nn.l2_loss(v)\n",
    "        print(loss)\n",
    "        return loss\n",
    "    \n",
    "    def train_minibatch(self, samples, labels, batch_size):\n",
    "        \"\"\"\n",
    "        Take a mini-batch from the training dataset\n",
    "        \"\"\"\n",
    "        if self.train_pointer + batch_size <= samples.shape[0]:\n",
    "            samples_minibatch = samples[self.train_pointer: self.train_pointer + batch_size]\n",
    "            labels_minibatch = labels[self.train_pointer: self.train_pointer + batch_size]\n",
    "            self.train_pointer += batch_size\n",
    "        else:\n",
    "            samples_minibatch = samples[self.train_pointer:]\n",
    "            labels_minibatch = labels[self.train_pointer:]\n",
    "            self.train_pointer += 0 # reset\n",
    "        return samples_minibatch, labels_minibatch\n",
    "    \n",
    "    def train(self, train_samples, train_labels, train_batch_size, iteration_steps, import_from_previous=False):\n",
    "        \"\"\"\n",
    "        Train the model\n",
    "        \n",
    "        Params\n",
    "        ----------\n",
    "        \n",
    "        train_samples: A numpy matrix containing the training data\n",
    "        train_labels: A numpy vector containing the labels corresponding to train_samples\n",
    "        train_batch_size: An int. The number of data points per mini-batch\n",
    "        iteration_steps: An int. The number of mini-batch training steps\n",
    "        import_from_previous: A bool. Load a previous model and train\n",
    "        \n",
    "        Returns\n",
    "        -----------\n",
    "        \n",
    "        losses: A numpy array, where the first column is the mini-batch index, and the \n",
    "                second column is the loss function\n",
    "        \"\"\"\n",
    "        print('Start training....')\n",
    "        losses = []\n",
    "        \n",
    "        with tf.Session() as sess:\n",
    "            if import_from_previous:\n",
    "                saver = tf.train.import_meta_graph(\"./model.meta\") # import the model\n",
    "                saver.restore(sess, './model') # populate with weights  \n",
    "            else:\n",
    "                sess.run(tf.global_variables_initializer())\n",
    "                saver = tf.train.Saver() # for saving models\n",
    "            \n",
    "            for i in range(iteration_steps):\n",
    "                samples, labels = self.train_minibatch(train_samples, train_labels, train_batch_size)\n",
    "                feed_dict = {self.input: samples, self.ground_truth: labels}\n",
    "                _, loss = sess.run([self.train_op, self.loss], feed_dict=feed_dict)\n",
    "                if i % 50 == 0:\n",
    "                    print(\"Minibatch loss at step {}: {}\".format(i, loss))\n",
    "                    losses.append([i, loss])\n",
    "            saver.save(sess, './model') # save the model, generating 4 files\n",
    "        return np.array(losses)\n",
    "    \n",
    "    def test_minibatch(self, samples, labels, batch_size):\n",
    "        \"\"\"\n",
    "        Take a mini-batch from the test dataset\n",
    "        \"\"\"\n",
    "        if self.test_pointer + batch_size <= samples.shape[0]:\n",
    "            samples_minibatch = samples[self.test_pointer: self.test_pointer + batch_size]\n",
    "            labels_minibatch = labels[self.test_pointer: self.test_pointer + batch_size]\n",
    "            self.test_pointer += batch_size\n",
    "            end_of_epoch = False\n",
    "        else:\n",
    "            samples_minibatch = samples[self.test_pointer:]\n",
    "            labels_minibatch = labels[self.test_pointer:]\n",
    "            self.test_pointer += 0 # reset\n",
    "            end_of_epoch = True\n",
    "        return samples_minibatch, labels_minibatch, end_of_epoch\n",
    "    \n",
    "    def test(self, test_samples, test_labels, test_batch_size):\n",
    "        \"\"\"\n",
    "        Load a model, feed it test data, and determine the loss\n",
    "        \n",
    "        Params:\n",
    "        ---------------\n",
    "        test_samples: A numpy array, containing the test data\n",
    "        test_labels: A numpy vector, containing the test labels\n",
    "        test_batch_size: An int, the number of data points per mini-batch\n",
    "        \"\"\"\n",
    "        end_of_epoch = False\n",
    "        losses = []\n",
    "        \n",
    "        with tf.Session() as sess:\n",
    "            saver = tf.train.import_meta_graph(\"./model.meta\") # import the model\n",
    "            saver.restore(sess, './model') # populate with weights            \n",
    "            while not end_of_epoch: # run graph\n",
    "                samples, labels, end_of_epoch = self.test_minibatch(test_samples, \n",
    "                                                                    test_labels, test_batch_size)\n",
    "                feed_dict = {self.input: samples, self.ground_truth: labels}                \n",
    "                losses.append(sess.run(self.loss, feed_dict=feed_dict))\n",
    "            print(\"Average test loss: {}\".format(np.mean(losses)))\n",
    "\n"
   ]
  },
  {
   "cell_type": "code",
   "execution_count": 14,
   "metadata": {},
   "outputs": [
    {
     "name": "stdout",
     "output_type": "stream",
     "text": [
      "Tensor(\"input:0\", shape=(?, 784), dtype=float32)\n",
      "Tensor(\"layers/1/Tanh:0\", shape=(?, 512), dtype=float32)\n",
      "Tensor(\"layers/2/Tanh:0\", shape=(?, 256), dtype=float32)\n",
      "Tensor(\"layers/3/Tanh:0\", shape=(?, 64), dtype=float32)\n",
      "Tensor(\"layers/4/Tanh:0\", shape=(?, 10), dtype=float32)\n",
      "Tensor(\"loss/add_3:0\", shape=(), dtype=float32)\n"
     ]
    }
   ],
   "source": [
    "WD_FACTOR = 0.0001\n",
    "LEARNING_RATE = 0.001\n",
    "model = MLP_MNIST(WD_FACTOR, LEARNING_RATE)"
   ]
  },
  {
   "cell_type": "code",
   "execution_count": 15,
   "metadata": {},
   "outputs": [
    {
     "data": {
      "text/plain": [
       "[<tf.Variable 'layers/1/kernel:0' shape=(784, 512) dtype=float32_ref>,\n",
       " <tf.Variable 'layers/1/bias:0' shape=(512,) dtype=float32_ref>,\n",
       " <tf.Variable 'layers/2/kernel:0' shape=(512, 256) dtype=float32_ref>,\n",
       " <tf.Variable 'layers/2/bias:0' shape=(256,) dtype=float32_ref>,\n",
       " <tf.Variable 'layers/3/kernel:0' shape=(256, 64) dtype=float32_ref>,\n",
       " <tf.Variable 'layers/3/bias:0' shape=(64,) dtype=float32_ref>,\n",
       " <tf.Variable 'layers/4/kernel:0' shape=(64, 10) dtype=float32_ref>,\n",
       " <tf.Variable 'layers/4/bias:0' shape=(10,) dtype=float32_ref>,\n",
       " <tf.Variable 'beta1_power:0' shape=() dtype=float32_ref>,\n",
       " <tf.Variable 'beta2_power:0' shape=() dtype=float32_ref>,\n",
       " <tf.Variable 'layers/1/kernel/Adam:0' shape=(784, 512) dtype=float32_ref>,\n",
       " <tf.Variable 'layers/1/kernel/Adam_1:0' shape=(784, 512) dtype=float32_ref>,\n",
       " <tf.Variable 'layers/1/bias/Adam:0' shape=(512,) dtype=float32_ref>,\n",
       " <tf.Variable 'layers/1/bias/Adam_1:0' shape=(512,) dtype=float32_ref>,\n",
       " <tf.Variable 'layers/2/kernel/Adam:0' shape=(512, 256) dtype=float32_ref>,\n",
       " <tf.Variable 'layers/2/kernel/Adam_1:0' shape=(512, 256) dtype=float32_ref>,\n",
       " <tf.Variable 'layers/2/bias/Adam:0' shape=(256,) dtype=float32_ref>,\n",
       " <tf.Variable 'layers/2/bias/Adam_1:0' shape=(256,) dtype=float32_ref>,\n",
       " <tf.Variable 'layers/3/kernel/Adam:0' shape=(256, 64) dtype=float32_ref>,\n",
       " <tf.Variable 'layers/3/kernel/Adam_1:0' shape=(256, 64) dtype=float32_ref>,\n",
       " <tf.Variable 'layers/3/bias/Adam:0' shape=(64,) dtype=float32_ref>,\n",
       " <tf.Variable 'layers/3/bias/Adam_1:0' shape=(64,) dtype=float32_ref>,\n",
       " <tf.Variable 'layers/4/kernel/Adam:0' shape=(64, 10) dtype=float32_ref>,\n",
       " <tf.Variable 'layers/4/kernel/Adam_1:0' shape=(64, 10) dtype=float32_ref>,\n",
       " <tf.Variable 'layers/4/bias/Adam:0' shape=(10,) dtype=float32_ref>,\n",
       " <tf.Variable 'layers/4/bias/Adam_1:0' shape=(10,) dtype=float32_ref>]"
      ]
     },
     "execution_count": 15,
     "metadata": {},
     "output_type": "execute_result"
    }
   ],
   "source": [
    "tf.global_variables()"
   ]
  },
  {
   "cell_type": "code",
   "execution_count": 16,
   "metadata": {},
   "outputs": [],
   "source": [
    "def count_trainable_params():\n",
    "    total_parameters = 0\n",
    "    for variable in tf.trainable_variables():         \n",
    "        shape = variable.get_shape()        \n",
    "        variable_parameters = 1\n",
    "        for dim in shape:\n",
    "            variable_parameters *= dim.value        \n",
    "        total_parameters += variable_parameters\n",
    "    print(total_parameters)"
   ]
  },
  {
   "cell_type": "code",
   "execution_count": 17,
   "metadata": {},
   "outputs": [
    {
     "name": "stdout",
     "output_type": "stream",
     "text": [
      "550346\n"
     ]
    }
   ],
   "source": [
    "count_trainable_params()"
   ]
  },
  {
   "cell_type": "markdown",
   "metadata": {},
   "source": [
    "## Train model"
   ]
  },
  {
   "cell_type": "code",
   "execution_count": 18,
   "metadata": {},
   "outputs": [],
   "source": [
    "TRAIN_BATCH_SIZE = 128\n",
    "ITERATIONS = 10000"
   ]
  },
  {
   "cell_type": "markdown",
   "metadata": {},
   "source": [
    "Define a learning schedule whereby we gradually reduce the learning rate with iterations"
   ]
  },
  {
   "cell_type": "code",
   "execution_count": 19,
   "metadata": {},
   "outputs": [],
   "source": [
    "learning_schedule = [[2000,0.1],[2000,0.01],[2000,0.001],[4000,0.0001]]"
   ]
  },
  {
   "cell_type": "code",
   "execution_count": 20,
   "metadata": {
    "scrolled": true
   },
   "outputs": [
    {
     "name": "stdout",
     "output_type": "stream",
     "text": [
      "Start training....\n",
      "Minibatch loss at step 0: 2.491102457046509\n",
      "Minibatch loss at step 50: 1.0957317352294922\n",
      "Minibatch loss at step 100: 1.021644115447998\n",
      "Minibatch loss at step 150: 1.0002901554107666\n",
      "Minibatch loss at step 200: 0.9801380038261414\n",
      "Minibatch loss at step 250: 1.0051335096359253\n",
      "Minibatch loss at step 300: 0.9503704905509949\n",
      "Minibatch loss at step 350: 1.008354902267456\n",
      "Minibatch loss at step 400: 1.0059380531311035\n",
      "Minibatch loss at step 450: 0.9671732187271118\n",
      "Minibatch loss at step 500: 0.8679303526878357\n",
      "Minibatch loss at step 550: 0.8652858734130859\n",
      "Minibatch loss at step 600: 0.8635293245315552\n",
      "Minibatch loss at step 650: 0.8619713187217712\n",
      "Minibatch loss at step 700: 0.860521674156189\n",
      "Minibatch loss at step 750: 0.8591464757919312\n",
      "Minibatch loss at step 800: 0.8578277826309204\n",
      "Minibatch loss at step 850: 0.8565553426742554\n",
      "Minibatch loss at step 900: 0.8553225994110107\n",
      "Minibatch loss at step 950: 0.8541253209114075\n",
      "Minibatch loss at step 1000: 0.852960467338562\n",
      "Minibatch loss at step 1050: 0.8518260717391968\n",
      "Minibatch loss at step 1100: 0.8507207036018372\n",
      "Minibatch loss at step 1150: 0.8496431708335876\n",
      "Minibatch loss at step 1200: 0.8485927581787109\n",
      "Minibatch loss at step 1250: 0.8475688099861145\n",
      "Minibatch loss at step 1300: 0.8465710282325745\n",
      "Minibatch loss at step 1350: 0.8455991744995117\n",
      "Minibatch loss at step 1400: 0.8446531295776367\n",
      "Minibatch loss at step 1450: 0.8437325954437256\n",
      "Minibatch loss at step 1500: 0.8428374528884888\n",
      "Minibatch loss at step 1550: 0.8419677019119263\n",
      "Minibatch loss at step 1600: 0.8411232233047485\n",
      "Minibatch loss at step 1650: 0.8403037190437317\n",
      "Minibatch loss at step 1700: 0.8395093679428101\n",
      "Minibatch loss at step 1750: 0.8387398719787598\n",
      "Minibatch loss at step 1800: 0.8379951119422913\n",
      "Minibatch loss at step 1850: 0.8372747898101807\n",
      "Minibatch loss at step 1900: 0.8365787863731384\n",
      "Minibatch loss at step 1950: 0.8359069228172302\n",
      "Start training....\n",
      "INFO:tensorflow:Restoring parameters from ./model\n",
      "Minibatch loss at step 0: 0.8352586627006531\n",
      "Minibatch loss at step 50: 0.834634006023407\n",
      "Minibatch loss at step 100: 0.834032416343689\n",
      "Minibatch loss at step 150: 0.8334535360336304\n",
      "Minibatch loss at step 200: 0.832896888256073\n",
      "Minibatch loss at step 250: 0.8323622941970825\n",
      "Minibatch loss at step 300: 0.8318489789962769\n",
      "Minibatch loss at step 350: 0.8313566446304321\n",
      "Minibatch loss at step 400: 0.8308848142623901\n",
      "Minibatch loss at step 450: 0.8304330110549927\n",
      "Minibatch loss at step 500: 0.8300005793571472\n",
      "Minibatch loss at step 550: 0.8295871019363403\n",
      "Minibatch loss at step 600: 0.8291919827461243\n",
      "Minibatch loss at step 650: 0.8288149237632751\n",
      "Minibatch loss at step 700: 0.8284547328948975\n",
      "Minibatch loss at step 750: 0.8281106948852539\n",
      "Minibatch loss at step 800: 0.8277657628059387\n",
      "Minibatch loss at step 850: 0.822529673576355\n",
      "Minibatch loss at step 900: 0.8221606612205505\n",
      "Minibatch loss at step 950: 0.8218613862991333\n",
      "Minibatch loss at step 1000: 0.8215849995613098\n",
      "Minibatch loss at step 1050: 0.8213253617286682\n",
      "Minibatch loss at step 1100: 0.8210805654525757\n",
      "Minibatch loss at step 1150: 0.8208494186401367\n",
      "Minibatch loss at step 1200: 0.8206309676170349\n",
      "Minibatch loss at step 1250: 0.8204245567321777\n",
      "Minibatch loss at step 1300: 0.8202297687530518\n",
      "Minibatch loss at step 1350: 0.8200456500053406\n",
      "Minibatch loss at step 1400: 0.8198719024658203\n",
      "Minibatch loss at step 1450: 0.8197080492973328\n",
      "Minibatch loss at step 1500: 0.8195534944534302\n",
      "Minibatch loss at step 1550: 0.8194077610969543\n",
      "Minibatch loss at step 1600: 0.8192704916000366\n",
      "Minibatch loss at step 1650: 0.819141149520874\n",
      "Minibatch loss at step 1700: 0.8190192580223083\n",
      "Minibatch loss at step 1750: 0.8189045190811157\n",
      "Minibatch loss at step 1800: 0.8187965750694275\n",
      "Minibatch loss at step 1850: 0.8186947703361511\n",
      "Minibatch loss at step 1900: 0.8185980916023254\n",
      "Minibatch loss at step 1950: 0.8038861155509949\n",
      "Start training....\n",
      "INFO:tensorflow:Restoring parameters from ./model\n",
      "Minibatch loss at step 0: 0.8032925724983215\n",
      "Minibatch loss at step 50: 0.8030062317848206\n",
      "Minibatch loss at step 100: 0.8028231859207153\n",
      "Minibatch loss at step 150: 0.8026868104934692\n",
      "Minibatch loss at step 200: 0.8025791049003601\n",
      "Minibatch loss at step 250: 0.8024927377700806\n",
      "Minibatch loss at step 300: 0.8024201989173889\n",
      "Minibatch loss at step 350: 0.8023566007614136\n",
      "Minibatch loss at step 400: 0.8022991418838501\n",
      "Minibatch loss at step 450: 0.802246630191803\n",
      "Minibatch loss at step 500: 0.8021981716156006\n",
      "Minibatch loss at step 550: 0.8021532893180847\n",
      "Minibatch loss at step 600: 0.8021112680435181\n",
      "Minibatch loss at step 650: 0.8020721077919006\n",
      "Minibatch loss at step 700: 0.802035391330719\n",
      "Minibatch loss at step 750: 0.8020009398460388\n",
      "Minibatch loss at step 800: 0.8019686341285706\n",
      "Minibatch loss at step 850: 0.8019380569458008\n",
      "Minibatch loss at step 900: 0.8019094467163086\n",
      "Minibatch loss at step 950: 0.8018823862075806\n",
      "Minibatch loss at step 1000: 0.8018568754196167\n",
      "Minibatch loss at step 1050: 0.8018327355384827\n",
      "Minibatch loss at step 1100: 0.8018099665641785\n",
      "Minibatch loss at step 1150: 0.8017884492874146\n",
      "Minibatch loss at step 1200: 0.8017680048942566\n",
      "Minibatch loss at step 1250: 0.8017485737800598\n",
      "Minibatch loss at step 1300: 0.801730215549469\n",
      "Minibatch loss at step 1350: 0.8017127513885498\n",
      "Minibatch loss at step 1400: 0.8016961216926575\n",
      "Minibatch loss at step 1450: 0.8016802072525024\n",
      "Minibatch loss at step 1500: 0.8016648888587952\n",
      "Minibatch loss at step 1550: 0.8016504049301147\n",
      "Minibatch loss at step 1600: 0.8016364574432373\n",
      "Minibatch loss at step 1650: 0.8016231656074524\n",
      "Minibatch loss at step 1700: 0.8016103506088257\n",
      "Minibatch loss at step 1750: 0.801598072052002\n",
      "Minibatch loss at step 1800: 0.8015861511230469\n",
      "Minibatch loss at step 1850: 0.80157470703125\n",
      "Minibatch loss at step 1900: 0.8015636205673218\n",
      "Minibatch loss at step 1950: 0.8015528321266174\n",
      "Start training....\n",
      "INFO:tensorflow:Restoring parameters from ./model\n",
      "Minibatch loss at step 0: 0.8015424013137817\n",
      "Minibatch loss at step 50: 0.8015322089195251\n",
      "Minibatch loss at step 100: 0.8015223741531372\n",
      "Minibatch loss at step 150: 0.8015127182006836\n",
      "Minibatch loss at step 200: 0.8015032410621643\n",
      "Minibatch loss at step 250: 0.8014941811561584\n",
      "Minibatch loss at step 300: 0.8014850616455078\n",
      "Minibatch loss at step 350: 0.8014762997627258\n",
      "Minibatch loss at step 400: 0.8014675974845886\n",
      "Minibatch loss at step 450: 0.8014590740203857\n",
      "Minibatch loss at step 500: 0.8014507293701172\n",
      "Minibatch loss at step 550: 0.8014425039291382\n",
      "Minibatch loss at step 600: 0.801434338092804\n",
      "Minibatch loss at step 650: 0.8014264106750488\n",
      "Minibatch loss at step 700: 0.8014185428619385\n",
      "Minibatch loss at step 750: 0.8014106750488281\n",
      "Minibatch loss at step 800: 0.8014028668403625\n",
      "Minibatch loss at step 850: 0.8013952970504761\n",
      "Minibatch loss at step 900: 0.8013877868652344\n",
      "Minibatch loss at step 950: 0.8013802170753479\n",
      "Minibatch loss at step 1000: 0.8013730049133301\n",
      "Minibatch loss at step 1050: 0.8013657331466675\n",
      "Minibatch loss at step 1100: 0.8013584613800049\n",
      "Minibatch loss at step 1150: 0.8013513088226318\n",
      "Minibatch loss at step 1200: 0.8013443350791931\n",
      "Minibatch loss at step 1250: 0.8013371825218201\n",
      "Minibatch loss at step 1300: 0.8013303279876709\n",
      "Minibatch loss at step 1350: 0.8013234734535217\n",
      "Minibatch loss at step 1400: 0.8013166785240173\n",
      "Minibatch loss at step 1450: 0.8013099431991577\n",
      "Minibatch loss at step 1500: 0.8013032674789429\n",
      "Minibatch loss at step 1550: 0.8012967109680176\n",
      "Minibatch loss at step 1600: 0.8012902140617371\n",
      "Minibatch loss at step 1650: 0.8012837171554565\n",
      "Minibatch loss at step 1700: 0.8012773394584656\n",
      "Minibatch loss at step 1750: 0.8012710809707642\n",
      "Minibatch loss at step 1800: 0.8012648224830627\n",
      "Minibatch loss at step 1850: 0.8012586832046509\n",
      "Minibatch loss at step 1900: 0.8012524843215942\n",
      "Minibatch loss at step 1950: 0.8012464046478271\n",
      "Minibatch loss at step 2000: 0.8012403845787048\n",
      "Minibatch loss at step 2050: 0.8012345433235168\n",
      "Minibatch loss at step 2100: 0.8012287020683289\n",
      "Minibatch loss at step 2150: 0.8012228608131409\n",
      "Minibatch loss at step 2200: 0.8012170791625977\n",
      "Minibatch loss at step 2250: 0.801211416721344\n",
      "Minibatch loss at step 2300: 0.8012058138847351\n",
      "Minibatch loss at step 2350: 0.8012001514434814\n",
      "Minibatch loss at step 2400: 0.8011946082115173\n"
     ]
    },
    {
     "name": "stdout",
     "output_type": "stream",
     "text": [
      "Minibatch loss at step 2450: 0.801189124584198\n",
      "Minibatch loss at step 2500: 0.8011837005615234\n",
      "Minibatch loss at step 2550: 0.8011782169342041\n",
      "Minibatch loss at step 2600: 0.8011727333068848\n",
      "Minibatch loss at step 2650: 0.8011674284934998\n",
      "Minibatch loss at step 2700: 0.8011621832847595\n",
      "Minibatch loss at step 2750: 0.8011568188667297\n",
      "Minibatch loss at step 2800: 0.8011515140533447\n",
      "Minibatch loss at step 2850: 0.8011463284492493\n",
      "Minibatch loss at step 2900: 0.801141083240509\n",
      "Minibatch loss at step 2950: 0.8011360168457031\n",
      "Minibatch loss at step 3000: 0.8011307120323181\n",
      "Minibatch loss at step 3050: 0.8011257648468018\n",
      "Minibatch loss at step 3100: 0.8011206388473511\n",
      "Minibatch loss at step 3150: 0.8011155128479004\n",
      "Minibatch loss at step 3200: 0.8011106252670288\n",
      "Minibatch loss at step 3250: 0.8011054992675781\n",
      "Minibatch loss at step 3300: 0.8011006116867065\n",
      "Minibatch loss at step 3350: 0.8010956645011902\n",
      "Minibatch loss at step 3400: 0.8010907769203186\n",
      "Minibatch loss at step 3450: 0.8010859489440918\n",
      "Minibatch loss at step 3500: 0.801081120967865\n",
      "Minibatch loss at step 3550: 0.8010764718055725\n",
      "Minibatch loss at step 3600: 0.8010717630386353\n",
      "Minibatch loss at step 3650: 0.8010671138763428\n",
      "Minibatch loss at step 3700: 0.8010625839233398\n",
      "Minibatch loss at step 3750: 0.8010579943656921\n",
      "Minibatch loss at step 3800: 0.801053524017334\n",
      "Minibatch loss at step 3850: 0.8010489344596863\n",
      "Minibatch loss at step 3900: 0.8010445833206177\n",
      "Minibatch loss at step 3950: 0.8010401725769043\n"
     ]
    }
   ],
   "source": [
    "start = time.time()\n",
    "\n",
    "for i, vals in enumerate(learning_schedule):\n",
    "    ITERATIONS = vals[0]\n",
    "    LR = vals[1]\n",
    "    if i == 0:\n",
    "        model.learning_rate = LR\n",
    "        losses = model.train(x_train_flat, y_train_oh, TRAIN_BATCH_SIZE, ITERATIONS)\n",
    "    else:\n",
    "\n",
    "        losses_new = model.train(x_train_flat, y_train_oh, TRAIN_BATCH_SIZE, ITERATIONS, import_from_previous = True)\n",
    "        losses_new[:,0] += losses[-1,0] + TRAIN_BATCH_SIZE\n",
    "        losses = np.vstack((losses,losses_new))\n",
    "end_time = time.time()\n"
   ]
  },
  {
   "cell_type": "code",
   "execution_count": 21,
   "metadata": {},
   "outputs": [
    {
     "name": "stdout",
     "output_type": "stream",
     "text": [
      "Training time: 109.79230809211731s\n"
     ]
    }
   ],
   "source": [
    "print(\"Training time: {}s\".format(end_time - start))"
   ]
  },
  {
   "cell_type": "markdown",
   "metadata": {},
   "source": [
    "## Plot learning curve"
   ]
  },
  {
   "cell_type": "code",
   "execution_count": 22,
   "metadata": {},
   "outputs": [
    {
     "data": {
      "image/png": "[encoded data removed]",
      "text/plain": [
       "<Figure size 432x288 with 1 Axes>"
      ]
     },
     "metadata": {
      "needs_background": "light"
     },
     "output_type": "display_data"
    }
   ],
   "source": [
    "iterations = losses[:,0]\n",
    "train_loss = losses[:,1]\n",
    "\n",
    "fig, ax = plt.subplots(1,1)\n",
    "utls.remove_tex_axis(ax)\n",
    "ax.plot(iterations, train_loss,'-k')\n",
    "ax.set_xlabel('Iterations')\n",
    "ax.set_ylabel('Loss')\n",
    "plt.savefig('LC1_LR_sched.png')"
   ]
  },
  {
   "cell_type": "markdown",
   "metadata": {},
   "source": [
    "## Test network predictions"
   ]
  },
  {
   "cell_type": "code",
   "execution_count": 23,
   "metadata": {},
   "outputs": [],
   "source": [
    "TEST_BATCH_SIZE = 128"
   ]
  },
  {
   "cell_type": "code",
   "execution_count": 28,
   "metadata": {},
   "outputs": [
    {
     "name": "stdout",
     "output_type": "stream",
     "text": [
      "INFO:tensorflow:Restoring parameters from ./model\n",
      "Average test loss: 1.462615966796875\n"
     ]
    }
   ],
   "source": [
    "model.test(x_test_flat,y_test_oh, TEST_BATCH_SIZE)"
   ]
  },
  {
   "cell_type": "code",
   "execution_count": 51,
   "metadata": {},
   "outputs": [
    {
     "name": "stdout",
     "output_type": "stream",
     "text": [
      "INFO:tensorflow:Restoring parameters from ./model\n",
      "Test sample digit: 8\n"
     ]
    },
    {
     "data": {
      "image/png": "[encoded data removed]",
      "text/plain": [
       "<Figure size 720x360 with 2 Axes>"
      ]
     },
     "metadata": {
      "needs_background": "light"
     },
     "output_type": "display_data"
    }
   ],
   "source": [
    "plt.close('all')\n",
    "example = np.random.choice(n_test)\n",
    "\n",
    "sample = x_test_flat[example]\n",
    "label = y_test_oh[example]\n",
    "feed_dict = {model.input: np.expand_dims(sample, axis=0), \n",
    "             model.ground_truth: np.expand_dims(label,axis=0)}\n",
    "\n",
    "digit = np.where(label==1.0)[0][0]\n",
    "\n",
    "with tf.Session() as sess:\n",
    "    saver = tf.train.import_meta_graph(\"./model.meta\")\n",
    "    saver.restore(sess, './model')\n",
    "    prediction = sess.run(model.prediction, feed_dict = feed_dict)[0]\n",
    "\n",
    "fig, axs = plt.subplots(1,2, figsize=(2*5,5))\n",
    "axs = axs.ravel()\n",
    "\n",
    "ax = axs[0]\n",
    "utls.remove_tex_axis(ax)\n",
    "ax.imshow(x_test[example],cmap=cm.binary)\n",
    "ax.set_title('Test example')\n",
    "\n",
    "classes = np.arange(10)\n",
    "width = 0.5\n",
    "\n",
    "ax = axs[1]\n",
    "\n",
    "ax.bar(classes, prediction, width, color='Black')\n",
    "utls.remove_tex_axis(ax,ytick_fmt=\"%.2f\")\n",
    "ax.set_xticks(classes)\n",
    "ax.set_xticklabels([str(x) for x in np.arange(10)])\n",
    "ax.set_ylabel('Probability')\n",
    "ax.set_xlabel('Digit class')\n",
    "ax.set_title('Network categorical distribution')\n",
    "\n",
    "plt.tight_layout()\n",
    "print('Test sample digit: {}'.format(digit))\n"
   ]
  },
  {
   "cell_type": "code",
   "execution_count": null,
   "metadata": {},
   "outputs": [],
   "source": []
  }
 ],
 "metadata": {
  "kernelspec": {
   "display_name": "Python 3",
   "language": "python",
   "name": "python3"
  },
  "language_info": {
   "codemirror_mode": {
    "name": "ipython",
    "version": 3
   },
   "file_extension": ".py",
   "mimetype": "text/x-python",
   "name": "python",
   "nbconvert_exporter": "python",
   "pygments_lexer": "ipython3",
   "version": "3.6.6"
  }
 },
 "nbformat": 4,
 "nbformat_minor": 2
}
