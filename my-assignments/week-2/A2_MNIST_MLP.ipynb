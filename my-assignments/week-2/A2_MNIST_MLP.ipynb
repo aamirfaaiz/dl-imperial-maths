{
 "cells": [
  {
   "cell_type": "markdown",
   "metadata": {},
   "source": [
    "# MNIST Multilayer Perceptron in Tensorflow\n",
    "\n",
    "Author: Juvid Aryaman"
   ]
  },
  {
   "cell_type": "code",
   "execution_count": 1,
   "metadata": {},
   "outputs": [],
   "source": [
    "import tensorflow as tf\n",
    "import pandas as pd\n",
    "import numpy as np\n",
    "import sys\n",
    "import matplotlib.pyplot as plt\n",
    "import matplotlib as mpl\n",
    "import time\n",
    "sys.path.append(\"..\")\n",
    "import utls\n",
    "utls.reset_plots()"
   ]
  },
  {
   "cell_type": "markdown",
   "metadata": {},
   "source": [
    "MNIST is a dataset of 28$\\times$28 handwritten digits. The dataset comes shipped with tensorflow, so let's load it up and have a look."
   ]
  },
  {
   "cell_type": "code",
   "execution_count": 2,
   "metadata": {},
   "outputs": [],
   "source": [
    "mnist = tf.keras.datasets.mnist\n",
    "(x_train, y_train),(x_test, y_test) = mnist.load_data()\n",
    "x_train, x_test = x_train / 255.0, x_test / 255.0\n"
   ]
  },
  {
   "cell_type": "code",
   "execution_count": 3,
   "metadata": {},
   "outputs": [
    {
     "data": {
      "text/plain": [
       "((60000, 28, 28), (10000, 28, 28))"
      ]
     },
     "execution_count": 3,
     "metadata": {},
     "output_type": "execute_result"
    }
   ],
   "source": [
    "x_train.shape, x_test.shape"
   ]
  },
  {
   "cell_type": "code",
   "execution_count": 4,
   "metadata": {},
   "outputs": [
    {
     "data": {
      "text/plain": [
       "((60000,), (10000,))"
      ]
     },
     "execution_count": 4,
     "metadata": {},
     "output_type": "execute_result"
    }
   ],
   "source": [
    "y_train.shape, y_test.shape"
   ]
  },
  {
   "cell_type": "code",
   "execution_count": 5,
   "metadata": {},
   "outputs": [],
   "source": [
    "n_train = x_train.shape[0]\n",
    "n_test = x_test.shape[0]"
   ]
  },
  {
   "cell_type": "markdown",
   "metadata": {},
   "source": [
    "Plot some example images"
   ]
  },
  {
   "cell_type": "code",
   "execution_count": 6,
   "metadata": {},
   "outputs": [],
   "source": [
    "from matplotlib import cm"
   ]
  },
  {
   "cell_type": "code",
   "execution_count": 7,
   "metadata": {},
   "outputs": [
    {
     "name": "stdout",
     "output_type": "stream",
     "text": [
      "Digit: 1\n"
     ]
    },
    {
     "name": "stderr",
     "output_type": "stream",
     "text": [
      "/home/juvid/anaconda3/lib/python3.6/site-packages/matplotlib/font_manager.py:1238: UserWarning: findfont: Font family ['sans-serif'] not found. Falling back to DejaVu Sans.\n",
      "  (prop.get_family(), self.defaultFamily[fontext]))\n"
     ]
    },
    {
     "data": {
      "image/png": "[encoded data removed]",
      "text/plain": [
       "<Figure size 432x288 with 1 Axes>"
      ]
     },
     "metadata": {
      "needs_background": "light"
     },
     "output_type": "display_data"
    }
   ],
   "source": [
    "example = np.random.choice(np.arange(n_train))\n",
    "\n",
    "image = x_train[example]\n",
    "label = y_train[example]\n",
    "\n",
    "plt.imshow(image, cmap = cm.binary)\n",
    "print(\"Digit: {}\".format(label))"
   ]
  },
  {
   "cell_type": "markdown",
   "metadata": {},
   "source": [
    "For a multilayer perceptron, we will discard the spatial correlations and simply flatten the data. A convolutional neural network doesn't do this, and is a smarter choice for image data, but we'll start off simple here."
   ]
  },
  {
   "cell_type": "code",
   "execution_count": 8,
   "metadata": {},
   "outputs": [
    {
     "data": {
      "text/plain": [
       "((60000, 784), (10000, 784))"
      ]
     },
     "execution_count": 8,
     "metadata": {},
     "output_type": "execute_result"
    }
   ],
   "source": [
    "x_train_flat = x_train.reshape((n_train, -1))\n",
    "x_test_flat = x_test.reshape((n_test, -1))\n",
    "x_train_flat.shape, x_test_flat.shape"
   ]
  },
  {
   "cell_type": "markdown",
   "metadata": {},
   "source": [
    "Now we encode the data labels as one-hot vectors"
   ]
  },
  {
   "cell_type": "code",
   "execution_count": 9,
   "metadata": {},
   "outputs": [
    {
     "data": {
      "text/plain": [
       "array([5, 0, 4, 1, 9, 2, 1, 3, 1, 4, 3, 5, 3, 6, 1, 7, 2, 8, 6, 9],\n",
       "      dtype=uint8)"
      ]
     },
     "execution_count": 9,
     "metadata": {},
     "output_type": "execute_result"
    }
   ],
   "source": [
    "y_train[:20]"
   ]
  },
  {
   "cell_type": "code",
   "execution_count": 10,
   "metadata": {},
   "outputs": [],
   "source": [
    "def one_hot(labels):\n",
    "    \"\"\"\n",
    "    Encodes a list of labels ranging between (0-9) as one-hot vectors.\n",
    "    0 -> [1,0,0,0,0,0,0,0,0,0]\n",
    "    9 -> [0,0,0,0,0,0,0,0,0,1]\n",
    "    \"\"\"\n",
    "    one_hot_labels = []\n",
    "    for num in labels:\n",
    "        one_hot = [0.0]*10\n",
    "        one_hot[num] = 1.0\n",
    "        one_hot_labels.append(one_hot)\n",
    "    return np.array(one_hot_labels).astype(np.float32)"
   ]
  },
  {
   "cell_type": "code",
   "execution_count": 11,
   "metadata": {},
   "outputs": [
    {
     "data": {
      "text/plain": [
       "((60000, 10), (10000, 10))"
      ]
     },
     "execution_count": 11,
     "metadata": {},
     "output_type": "execute_result"
    }
   ],
   "source": [
    "y_train_oh = one_hot(y_train)\n",
    "y_test_oh = one_hot(y_test)\n",
    "y_train_oh.shape, y_test_oh.shape"
   ]
  },
  {
   "cell_type": "code",
   "execution_count": 12,
   "metadata": {},
   "outputs": [
    {
     "data": {
      "text/plain": [
       "(5, array([0., 0., 0., 0., 0., 1., 0., 0., 0., 0.], dtype=float32))"
      ]
     },
     "execution_count": 12,
     "metadata": {},
     "output_type": "execute_result"
    }
   ],
   "source": [
    "y_train[0],y_train_oh[0]"
   ]
  },
  {
   "cell_type": "markdown",
   "metadata": {},
   "source": [
    "## Build multilayer perceptron"
   ]
  },
  {
   "cell_type": "code",
   "execution_count": 13,
   "metadata": {},
   "outputs": [],
   "source": [
    "class MLP_MNIST:\n",
    "    \"\"\"\n",
    "    Define a multilayer perceptron for the MNIST dataset\n",
    "    \n",
    "    Params\n",
    "    ------------\n",
    "    wd_factor : A double, the L2 regularisation factor for model parameters\n",
    "    learning_rate : A double, the learning rate for the Adam optimiser    \n",
    "    \n",
    "    \"\"\"\n",
    "    def __init__(self, wd_factor, learning_rate):\n",
    "        self.wd_factor = wd_factor # weight decay factor (L2 regulariser)\n",
    "        self.learning_rate = learning_rate\n",
    "        self.train_pointer = 0 # for mini-batch housekeeping\n",
    "        self.test_pointer = 0\n",
    "        \n",
    "        self.input = tf.placeholder(dtype=tf.float32, shape=[None,784],name=\"input\")\n",
    "        self.ground_truth = tf.placeholder(dtype=tf.float32, shape=[None,10],name=\"ground_truth\")\n",
    "        print(self.input)\n",
    "        \n",
    "        self._build_graph()\n",
    "    def _build_graph(self):\n",
    "        \"\"\"\n",
    "        Create the multilayer perceptron network using the Adam optimiser and cross entropy loss\n",
    "        \"\"\"\n",
    "        weights = [] # for weight decay\n",
    "        \n",
    "        with tf.variable_scope(\"layers\"):\n",
    "            h = tf.layers.dense(self.input, 512, kernel_initializer=tf.glorot_uniform_initializer(),\n",
    "                               activation=tf.tanh, name='1')\n",
    "            print(h)\n",
    "            \n",
    "            h = tf.layers.dense(h, 256, kernel_initializer=tf.glorot_uniform_initializer(),\n",
    "                               activation=tf.tanh, name='2')\n",
    "            print(h)\n",
    "            \n",
    "            h = tf.layers.dense(h, 64, kernel_initializer=tf.glorot_uniform_initializer(),\n",
    "                               activation=tf.tanh, name='3')\n",
    "            print(h)\n",
    "            \n",
    "            self.logits = tf.layers.dense(h, 10, kernel_initializer=tf.glorot_uniform_initializer(),\n",
    "                               activation=tf.identity, name='4') # linear output for the loss function\n",
    "            print(self.logits)\n",
    "            self.prediction = tf.nn.softmax(self.logits, name=\"softmax_prediction\")\n",
    "        \n",
    "        with tf.name_scope('loss'):\n",
    "            self.loss = tf.reduce_mean(tf.nn.softmax_cross_entropy_with_logits_v2(logits=self.logits,\n",
    "                                                                                 labels=self.ground_truth))\n",
    "            self.loss += self.weight_decay() # penalise weights with L2 norm\n",
    "        \n",
    "        self.optimizer = tf.train.AdamOptimizer(self.learning_rate)\n",
    "        self.train_op = self.optimizer.minimize(self.loss)\n",
    "        \n",
    "    def weight_decay(self):\n",
    "        \"\"\"\n",
    "        Append the L2 penalty onto the loss function\n",
    "        \"\"\"\n",
    "        loss = 0\n",
    "        for v in tf.global_variables():\n",
    "            if 'Adam' in v.name:\n",
    "                continue # do not punish optimizer variables\n",
    "            elif 'kernel' in v.name:\n",
    "                loss += self.wd_factor * tf.nn.l2_loss(v)\n",
    "        print(loss)\n",
    "        return loss\n",
    "    \n",
    "    def train_minibatch(self, samples, labels, batch_size):\n",
    "        \"\"\"\n",
    "        Take a mini-batch from the training dataset\n",
    "        \"\"\"\n",
    "        if self.train_pointer + batch_size <= samples.shape[0]:\n",
    "            samples_minibatch = samples[self.train_pointer: self.train_pointer + batch_size]\n",
    "            labels_minibatch = labels[self.train_pointer: self.train_pointer + batch_size]\n",
    "            self.train_pointer += batch_size\n",
    "        else:\n",
    "            samples_minibatch = samples[self.train_pointer:]\n",
    "            labels_minibatch = labels[self.train_pointer:]\n",
    "            self.train_pointer += 0 # reset\n",
    "        return samples_minibatch, labels_minibatch\n",
    "    \n",
    "    def train(self, train_samples, train_labels, train_batch_size, iteration_steps, import_from_previous=False):\n",
    "        \"\"\"\n",
    "        Train the model\n",
    "        \n",
    "        Params\n",
    "        ----------\n",
    "        \n",
    "        train_samples: A numpy matrix containing the training data\n",
    "        train_labels: A numpy vector containing the labels corresponding to train_samples\n",
    "        train_batch_size: An int. The number of data points per mini-batch\n",
    "        iteration_steps: An int. The number of mini-batch training steps\n",
    "        import_from_previous: A bool. Load a previous model and train\n",
    "        \n",
    "        Returns\n",
    "        -----------\n",
    "        \n",
    "        losses: A numpy array, where the first column is the mini-batch index, and the \n",
    "                second column is the loss function\n",
    "        \"\"\"\n",
    "        print('Start training....')\n",
    "        losses = []\n",
    "        \n",
    "        with tf.Session() as sess:\n",
    "            if import_from_previous:\n",
    "                saver = tf.train.import_meta_graph(\"./model.meta\") # import the model\n",
    "                saver.restore(sess, './model') # populate with weights  \n",
    "            else:\n",
    "                sess.run(tf.global_variables_initializer())\n",
    "                saver = tf.train.Saver() # for saving models\n",
    "            \n",
    "            for i in range(iteration_steps):\n",
    "                samples, labels = self.train_minibatch(train_samples, train_labels, train_batch_size)\n",
    "                feed_dict = {self.input: samples, self.ground_truth: labels}\n",
    "                _, loss = sess.run([self.train_op, self.loss], feed_dict=feed_dict)\n",
    "                if i % 50 == 0:\n",
    "                    print(\"Minibatch loss at step {}: {}\".format(i, loss))\n",
    "                    losses.append([i, loss])\n",
    "            saver.save(sess, './model') # save the model, generating 4 files\n",
    "        return np.array(losses)\n",
    "    \n",
    "    def test_minibatch(self, samples, labels, batch_size):\n",
    "        \"\"\"\n",
    "        Take a mini-batch from the test dataset\n",
    "        \"\"\"\n",
    "        if self.test_pointer + batch_size <= samples.shape[0]:\n",
    "            samples_minibatch = samples[self.test_pointer: self.test_pointer + batch_size]\n",
    "            labels_minibatch = labels[self.test_pointer: self.test_pointer + batch_size]\n",
    "            self.test_pointer += batch_size\n",
    "            end_of_epoch = False\n",
    "        else:\n",
    "            samples_minibatch = samples[self.test_pointer:]\n",
    "            labels_minibatch = labels[self.test_pointer:]\n",
    "            self.test_pointer += 0 # reset\n",
    "            end_of_epoch = True\n",
    "        return samples_minibatch, labels_minibatch, end_of_epoch\n",
    "    \n",
    "    def test(self, test_samples, test_labels, test_batch_size):\n",
    "        \"\"\"\n",
    "        Load a model, feed it test data, and determine the loss\n",
    "        \n",
    "        Params:\n",
    "        ---------------\n",
    "        test_samples: A numpy array, containing the test data\n",
    "        test_labels: A numpy vector, containing the test labels\n",
    "        test_batch_size: An int, the number of data points per mini-batch\n",
    "        \"\"\"\n",
    "        end_of_epoch = False\n",
    "        losses = []\n",
    "        \n",
    "        with tf.Session() as sess:\n",
    "            saver = tf.train.import_meta_graph(\"./model.meta\") # import the model\n",
    "            saver.restore(sess, './model') # populate with weights            \n",
    "            while not end_of_epoch: # run graph\n",
    "                samples, labels, end_of_epoch = self.test_minibatch(test_samples, \n",
    "                                                                    test_labels, test_batch_size)\n",
    "                feed_dict = {self.input: samples, self.ground_truth: labels}                \n",
    "                losses.append(sess.run(self.loss, feed_dict=feed_dict))\n",
    "            print(\"Average test loss: {}\".format(np.mean(losses)))\n",
    "\n"
   ]
  },
  {
   "cell_type": "code",
   "execution_count": 14,
   "metadata": {},
   "outputs": [
    {
     "name": "stdout",
     "output_type": "stream",
     "text": [
      "Tensor(\"input:0\", shape=(?, 784), dtype=float32)\n",
      "Tensor(\"layers/1/Tanh:0\", shape=(?, 512), dtype=float32)\n",
      "Tensor(\"layers/2/Tanh:0\", shape=(?, 256), dtype=float32)\n",
      "Tensor(\"layers/3/Tanh:0\", shape=(?, 64), dtype=float32)\n",
      "Tensor(\"layers/4/Identity:0\", shape=(?, 10), dtype=float32)\n",
      "Tensor(\"loss/add_3:0\", shape=(), dtype=float32)\n"
     ]
    }
   ],
   "source": [
    "WD_FACTOR = 0.0001\n",
    "LEARNING_RATE = 0.001\n",
    "model = MLP_MNIST(WD_FACTOR, LEARNING_RATE)"
   ]
  },
  {
   "cell_type": "code",
   "execution_count": 15,
   "metadata": {},
   "outputs": [
    {
     "data": {
      "text/plain": [
       "[<tf.Variable 'layers/1/kernel:0' shape=(784, 512) dtype=float32_ref>,\n",
       " <tf.Variable 'layers/1/bias:0' shape=(512,) dtype=float32_ref>,\n",
       " <tf.Variable 'layers/2/kernel:0' shape=(512, 256) dtype=float32_ref>,\n",
       " <tf.Variable 'layers/2/bias:0' shape=(256,) dtype=float32_ref>,\n",
       " <tf.Variable 'layers/3/kernel:0' shape=(256, 64) dtype=float32_ref>,\n",
       " <tf.Variable 'layers/3/bias:0' shape=(64,) dtype=float32_ref>,\n",
       " <tf.Variable 'layers/4/kernel:0' shape=(64, 10) dtype=float32_ref>,\n",
       " <tf.Variable 'layers/4/bias:0' shape=(10,) dtype=float32_ref>,\n",
       " <tf.Variable 'beta1_power:0' shape=() dtype=float32_ref>,\n",
       " <tf.Variable 'beta2_power:0' shape=() dtype=float32_ref>,\n",
       " <tf.Variable 'layers/1/kernel/Adam:0' shape=(784, 512) dtype=float32_ref>,\n",
       " <tf.Variable 'layers/1/kernel/Adam_1:0' shape=(784, 512) dtype=float32_ref>,\n",
       " <tf.Variable 'layers/1/bias/Adam:0' shape=(512,) dtype=float32_ref>,\n",
       " <tf.Variable 'layers/1/bias/Adam_1:0' shape=(512,) dtype=float32_ref>,\n",
       " <tf.Variable 'layers/2/kernel/Adam:0' shape=(512, 256) dtype=float32_ref>,\n",
       " <tf.Variable 'layers/2/kernel/Adam_1:0' shape=(512, 256) dtype=float32_ref>,\n",
       " <tf.Variable 'layers/2/bias/Adam:0' shape=(256,) dtype=float32_ref>,\n",
       " <tf.Variable 'layers/2/bias/Adam_1:0' shape=(256,) dtype=float32_ref>,\n",
       " <tf.Variable 'layers/3/kernel/Adam:0' shape=(256, 64) dtype=float32_ref>,\n",
       " <tf.Variable 'layers/3/kernel/Adam_1:0' shape=(256, 64) dtype=float32_ref>,\n",
       " <tf.Variable 'layers/3/bias/Adam:0' shape=(64,) dtype=float32_ref>,\n",
       " <tf.Variable 'layers/3/bias/Adam_1:0' shape=(64,) dtype=float32_ref>,\n",
       " <tf.Variable 'layers/4/kernel/Adam:0' shape=(64, 10) dtype=float32_ref>,\n",
       " <tf.Variable 'layers/4/kernel/Adam_1:0' shape=(64, 10) dtype=float32_ref>,\n",
       " <tf.Variable 'layers/4/bias/Adam:0' shape=(10,) dtype=float32_ref>,\n",
       " <tf.Variable 'layers/4/bias/Adam_1:0' shape=(10,) dtype=float32_ref>]"
      ]
     },
     "execution_count": 15,
     "metadata": {},
     "output_type": "execute_result"
    }
   ],
   "source": [
    "tf.global_variables()"
   ]
  },
  {
   "cell_type": "code",
   "execution_count": 16,
   "metadata": {},
   "outputs": [],
   "source": [
    "def count_trainable_params():\n",
    "    total_parameters = 0\n",
    "    for variable in tf.trainable_variables():         \n",
    "        shape = variable.get_shape()        \n",
    "        variable_parameters = 1\n",
    "        for dim in shape:\n",
    "            variable_parameters *= dim.value        \n",
    "        total_parameters += variable_parameters\n",
    "    print(total_parameters)"
   ]
  },
  {
   "cell_type": "code",
   "execution_count": 17,
   "metadata": {},
   "outputs": [
    {
     "name": "stdout",
     "output_type": "stream",
     "text": [
      "550346\n"
     ]
    }
   ],
   "source": [
    "count_trainable_params()"
   ]
  },
  {
   "cell_type": "markdown",
   "metadata": {},
   "source": [
    "## Train model"
   ]
  },
  {
   "cell_type": "code",
   "execution_count": 18,
   "metadata": {},
   "outputs": [],
   "source": [
    "TRAIN_BATCH_SIZE = 128\n",
    "ITERATIONS = 10000"
   ]
  },
  {
   "cell_type": "markdown",
   "metadata": {},
   "source": [
    "Define a learning schedule whereby we gradually reduce the learning rate with iterations"
   ]
  },
  {
   "cell_type": "code",
   "execution_count": 19,
   "metadata": {},
   "outputs": [],
   "source": [
    "learning_schedule = [[2000,0.1],[2000,0.01],[2000,0.001],[4000,0.0001]]"
   ]
  },
  {
   "cell_type": "code",
   "execution_count": 20,
   "metadata": {
    "scrolled": true
   },
   "outputs": [
    {
     "name": "stdout",
     "output_type": "stream",
     "text": [
      "Start training....\n",
      "Minibatch loss at step 0: 2.36541748046875\n",
      "Minibatch loss at step 50: 0.3655223250389099\n",
      "Minibatch loss at step 100: 0.2856522500514984\n",
      "Minibatch loss at step 150: 0.27969276905059814\n",
      "Minibatch loss at step 200: 0.2908961772918701\n",
      "Minibatch loss at step 250: 0.2861427068710327\n",
      "Minibatch loss at step 300: 0.206180140376091\n",
      "Minibatch loss at step 350: 0.33531466126441956\n",
      "Minibatch loss at step 400: 0.3109612762928009\n",
      "Minibatch loss at step 450: 0.24839672446250916\n",
      "Minibatch loss at step 500: 0.06588887423276901\n",
      "Minibatch loss at step 550: 0.053477752953767776\n",
      "Minibatch loss at step 600: 0.05122058466076851\n",
      "Minibatch loss at step 650: 0.04970638453960419\n",
      "Minibatch loss at step 700: 0.04842778295278549\n",
      "Minibatch loss at step 750: 0.04724952206015587\n",
      "Minibatch loss at step 800: 0.04613037034869194\n",
      "Minibatch loss at step 850: 0.04505439102649689\n",
      "Minibatch loss at step 900: 0.044014088809490204\n",
      "Minibatch loss at step 950: 0.043003957718610764\n",
      "Minibatch loss at step 1000: 0.042020078748464584\n",
      "Minibatch loss at step 1050: 0.0410584881901741\n",
      "Minibatch loss at step 1100: 0.04011589288711548\n",
      "Minibatch loss at step 1150: 0.03919005021452904\n",
      "Minibatch loss at step 1200: 0.03827924281358719\n",
      "Minibatch loss at step 1250: 0.03738240897655487\n",
      "Minibatch loss at step 1300: 0.03649865835905075\n",
      "Minibatch loss at step 1350: 0.03562745079398155\n",
      "Minibatch loss at step 1400: 0.03476836532354355\n",
      "Minibatch loss at step 1450: 0.033921241760253906\n",
      "Minibatch loss at step 1500: 0.033085886389017105\n",
      "Minibatch loss at step 1550: 0.03226224705576897\n",
      "Minibatch loss at step 1600: 0.03145033121109009\n",
      "Minibatch loss at step 1650: 0.03065018728375435\n",
      "Minibatch loss at step 1700: 0.02986186183989048\n",
      "Minibatch loss at step 1750: 0.029085421934723854\n",
      "Minibatch loss at step 1800: 0.02832106128334999\n",
      "Minibatch loss at step 1850: 0.02756889909505844\n",
      "Minibatch loss at step 1900: 0.026829151436686516\n",
      "Minibatch loss at step 1950: 0.02610192261636257\n",
      "Start training....\n",
      "INFO:tensorflow:Restoring parameters from ./model\n",
      "Minibatch loss at step 0: 0.025387445464730263\n",
      "Minibatch loss at step 50: 0.02468590810894966\n",
      "Minibatch loss at step 100: 0.023997485637664795\n",
      "Minibatch loss at step 150: 0.02332240156829357\n",
      "Minibatch loss at step 200: 0.02266077697277069\n",
      "Minibatch loss at step 250: 0.022012824192643166\n",
      "Minibatch loss at step 300: 0.02137869969010353\n",
      "Minibatch loss at step 350: 0.020758531987667084\n",
      "Minibatch loss at step 400: 0.02015245333313942\n",
      "Minibatch loss at step 450: 0.019560541957616806\n",
      "Minibatch loss at step 500: 0.018982945010066032\n",
      "Minibatch loss at step 550: 0.018419696018099785\n",
      "Minibatch loss at step 600: 0.017870841547846794\n",
      "Minibatch loss at step 650: 0.017336353659629822\n",
      "Minibatch loss at step 700: 0.01681625284254551\n",
      "Minibatch loss at step 750: 0.01631048321723938\n",
      "Minibatch loss at step 800: 0.01581897959113121\n",
      "Minibatch loss at step 850: 0.015341728925704956\n",
      "Minibatch loss at step 900: 0.014878615736961365\n",
      "Minibatch loss at step 950: 0.014429583214223385\n",
      "Minibatch loss at step 1000: 0.013994559645652771\n",
      "Minibatch loss at step 1050: 0.013573463074862957\n",
      "Minibatch loss at step 1100: 0.013166182674467564\n",
      "Minibatch loss at step 1150: 0.012772572226822376\n",
      "Minibatch loss at step 1200: 0.012392470613121986\n",
      "Minibatch loss at step 1250: 0.012025680392980576\n",
      "Minibatch loss at step 1300: 0.011672018095850945\n",
      "Minibatch loss at step 1350: 0.011331251822412014\n",
      "Minibatch loss at step 1400: 0.011003135703504086\n",
      "Minibatch loss at step 1450: 0.010687432251870632\n",
      "Minibatch loss at step 1500: 0.010383899323642254\n",
      "Minibatch loss at step 1550: 0.010092264972627163\n",
      "Minibatch loss at step 1600: 0.009812258183956146\n",
      "Minibatch loss at step 1650: 0.009543614462018013\n",
      "Minibatch loss at step 1700: 0.009286079555749893\n",
      "Minibatch loss at step 1750: 0.009039348922669888\n",
      "Minibatch loss at step 1800: 0.008803142234683037\n",
      "Minibatch loss at step 1850: 0.008577194064855576\n",
      "Minibatch loss at step 1900: 0.00836118869483471\n",
      "Minibatch loss at step 1950: 0.0081548560410738\n",
      "Start training....\n",
      "INFO:tensorflow:Restoring parameters from ./model\n",
      "Minibatch loss at step 0: 0.007957887835800648\n",
      "Minibatch loss at step 50: 0.007769991643726826\n",
      "Minibatch loss at step 100: 0.007590866181999445\n",
      "Minibatch loss at step 150: 0.007420198060572147\n",
      "Minibatch loss at step 200: 0.007257726974785328\n",
      "Minibatch loss at step 250: 0.007103160489350557\n",
      "Minibatch loss at step 300: 0.006956150755286217\n",
      "Minibatch loss at step 350: 0.006816459354013205\n",
      "Minibatch loss at step 400: 0.006683771964162588\n",
      "Minibatch loss at step 450: 0.006557827349752188\n",
      "Minibatch loss at step 500: 0.006438358686864376\n",
      "Minibatch loss at step 550: 0.006325081922113895\n",
      "Minibatch loss at step 600: 0.006217725574970245\n",
      "Minibatch loss at step 650: 0.006116022355854511\n",
      "Minibatch loss at step 700: 0.006019775755703449\n",
      "Minibatch loss at step 750: 0.005928685422986746\n",
      "Minibatch loss at step 800: 0.005842539481818676\n",
      "Minibatch loss at step 850: 0.005761126056313515\n",
      "Minibatch loss at step 900: 0.005684192758053541\n",
      "Minibatch loss at step 950: 0.005611533764749765\n",
      "Minibatch loss at step 1000: 0.0055429632775485516\n",
      "Minibatch loss at step 1050: 0.005478247068822384\n",
      "Minibatch loss at step 1100: 0.005417223088443279\n",
      "Minibatch loss at step 1150: 0.005359687376767397\n",
      "Minibatch loss at step 1200: 0.005305490456521511\n",
      "Minibatch loss at step 1250: 0.005254408810287714\n",
      "Minibatch loss at step 1300: 0.0052063362672924995\n",
      "Minibatch loss at step 1350: 0.005161062348634005\n",
      "Minibatch loss at step 1400: 0.005118469707667828\n",
      "Minibatch loss at step 1450: 0.005078417249023914\n",
      "Minibatch loss at step 1500: 0.005040740128606558\n",
      "Minibatch loss at step 1550: 0.005005320534110069\n",
      "Minibatch loss at step 1600: 0.004972015041857958\n",
      "Minibatch loss at step 1650: 0.0049407281912863255\n",
      "Minibatch loss at step 1700: 0.004911309573799372\n",
      "Minibatch loss at step 1750: 0.004883675370365381\n",
      "Minibatch loss at step 1800: 0.004857685882598162\n",
      "Minibatch loss at step 1850: 0.004833265673369169\n",
      "Minibatch loss at step 1900: 0.0048103295266628265\n",
      "Minibatch loss at step 1950: 0.0047887228429317474\n",
      "Start training....\n",
      "INFO:tensorflow:Restoring parameters from ./model\n",
      "Minibatch loss at step 0: 0.004768407437950373\n",
      "Minibatch loss at step 50: 0.004749267362058163\n",
      "Minibatch loss at step 100: 0.004731243010610342\n",
      "Minibatch loss at step 150: 0.004714227747172117\n",
      "Minibatch loss at step 200: 0.004698166158050299\n",
      "Minibatch loss at step 250: 0.004682974889874458\n",
      "Minibatch loss at step 300: 0.004668578505516052\n",
      "Minibatch loss at step 350: 0.0046548983082175255\n",
      "Minibatch loss at step 400: 0.004641871899366379\n",
      "Minibatch loss at step 450: 0.004629462957382202\n",
      "Minibatch loss at step 500: 0.0046175215393304825\n",
      "Minibatch loss at step 550: 0.004606058821082115\n",
      "Minibatch loss at step 600: 0.0045949844643473625\n",
      "Minibatch loss at step 650: 0.004584258887916803\n",
      "Minibatch loss at step 700: 0.004573793616145849\n",
      "Minibatch loss at step 750: 0.004563598893582821\n",
      "Minibatch loss at step 800: 0.004553649574518204\n",
      "Minibatch loss at step 850: 0.004543885588645935\n",
      "Minibatch loss at step 900: 0.004534303210675716\n",
      "Minibatch loss at step 950: 0.004524878226220608\n",
      "Minibatch loss at step 1000: 0.004515588749200106\n",
      "Minibatch loss at step 1050: 0.004506364930421114\n",
      "Minibatch loss at step 1100: 0.004497217945754528\n",
      "Minibatch loss at step 1150: 0.0044881184585392475\n",
      "Minibatch loss at step 1200: 0.00447904784232378\n",
      "Minibatch loss at step 1250: 0.0044699483551084995\n",
      "Minibatch loss at step 1300: 0.004460853990167379\n",
      "Minibatch loss at step 1350: 0.0044517493806779385\n",
      "Minibatch loss at step 1400: 0.004442663863301277\n",
      "Minibatch loss at step 1450: 0.0044335732236504555\n",
      "Minibatch loss at step 1500: 0.00442451611161232\n",
      "Minibatch loss at step 1550: 0.004415545612573624\n",
      "Minibatch loss at step 1600: 0.004406660795211792\n",
      "Minibatch loss at step 1650: 0.004397856071591377\n",
      "Minibatch loss at step 1700: 0.004389197565615177\n",
      "Minibatch loss at step 1750: 0.0043806773610413074\n",
      "Minibatch loss at step 1800: 0.004372305236756802\n",
      "Minibatch loss at step 1850: 0.0043640825897455215\n",
      "Minibatch loss at step 1900: 0.004356037825345993\n",
      "Minibatch loss at step 1950: 0.004348107613623142\n",
      "Minibatch loss at step 2000: 0.00434033153578639\n",
      "Minibatch loss at step 2050: 0.004332615528255701\n",
      "Minibatch loss at step 2100: 0.004325004294514656\n"
     ]
    },
    {
     "name": "stdout",
     "output_type": "stream",
     "text": [
      "Minibatch loss at step 2150: 0.00431734137237072\n",
      "Minibatch loss at step 2200: 0.004309662152081728\n",
      "Minibatch loss at step 2250: 0.004301889333873987\n",
      "Minibatch loss at step 2300: 0.004293903708457947\n",
      "Minibatch loss at step 2350: 0.004285682924091816\n",
      "Minibatch loss at step 2400: 0.004277055151760578\n",
      "Minibatch loss at step 2450: 0.004267947748303413\n",
      "Minibatch loss at step 2500: 0.004258191213011742\n",
      "Minibatch loss at step 2550: 0.004247655160725117\n",
      "Minibatch loss at step 2600: 0.004236198496073484\n",
      "Minibatch loss at step 2650: 0.004223735071718693\n",
      "Minibatch loss at step 2700: 0.00421034125611186\n",
      "Minibatch loss at step 2750: 0.004196323920041323\n",
      "Minibatch loss at step 2800: 0.004182148724794388\n",
      "Minibatch loss at step 2850: 0.0041684359312057495\n",
      "Minibatch loss at step 2900: 0.004155577160418034\n",
      "Minibatch loss at step 2950: 0.004143727943301201\n",
      "Minibatch loss at step 3000: 0.004132854752242565\n",
      "Minibatch loss at step 3050: 0.004122798331081867\n",
      "Minibatch loss at step 3100: 0.004113412462174892\n",
      "Minibatch loss at step 3150: 0.0041045378893613815\n",
      "Minibatch loss at step 3200: 0.004096105229109526\n",
      "Minibatch loss at step 3250: 0.00408798037096858\n",
      "Minibatch loss at step 3300: 0.00408015213906765\n",
      "Minibatch loss at step 3350: 0.0040725222788751125\n",
      "Minibatch loss at step 3400: 0.004065070301294327\n",
      "Minibatch loss at step 3450: 0.004057720303535461\n",
      "Minibatch loss at step 3500: 0.004050459712743759\n",
      "Minibatch loss at step 3550: 0.0040432363748550415\n",
      "Minibatch loss at step 3600: 0.00403603445738554\n",
      "Minibatch loss at step 3650: 0.00402881670743227\n",
      "Minibatch loss at step 3700: 0.0040215798653662205\n",
      "Minibatch loss at step 3750: 0.00401430344209075\n",
      "Minibatch loss at step 3800: 0.004007021430879831\n",
      "Minibatch loss at step 3850: 0.003999772481620312\n",
      "Minibatch loss at step 3900: 0.003992540296167135\n",
      "Minibatch loss at step 3950: 0.003985400777310133\n"
     ]
    }
   ],
   "source": [
    "start = time.time()\n",
    "\n",
    "for i, vals in enumerate(learning_schedule):\n",
    "    ITERATIONS = vals[0]\n",
    "    LR = vals[1]\n",
    "    if i == 0:\n",
    "        model.learning_rate = LR\n",
    "        losses = model.train(x_train_flat, y_train_oh, TRAIN_BATCH_SIZE, ITERATIONS)\n",
    "    else:\n",
    "\n",
    "        losses_new = model.train(x_train_flat, y_train_oh, TRAIN_BATCH_SIZE, ITERATIONS, import_from_previous = True)\n",
    "        losses_new[:,0] += losses[-1,0] + TRAIN_BATCH_SIZE\n",
    "        losses = np.vstack((losses,losses_new))\n",
    "end_time = time.time()\n"
   ]
  },
  {
   "cell_type": "code",
   "execution_count": 21,
   "metadata": {},
   "outputs": [
    {
     "name": "stdout",
     "output_type": "stream",
     "text": [
      "Training time: 123.32523131370544s\n"
     ]
    }
   ],
   "source": [
    "print(\"Training time: {}s\".format(end_time - start))"
   ]
  },
  {
   "cell_type": "markdown",
   "metadata": {},
   "source": [
    "## Plot learning curve"
   ]
  },
  {
   "cell_type": "code",
   "execution_count": 22,
   "metadata": {},
   "outputs": [
    {
     "data": {
      "image/png": "[encoded data removed]",
      "text/plain": [
       "<Figure size 432x288 with 1 Axes>"
      ]
     },
     "metadata": {
      "needs_background": "light"
     },
     "output_type": "display_data"
    }
   ],
   "source": [
    "iterations = losses[:,0]\n",
    "train_loss = losses[:,1]\n",
    "\n",
    "fig, ax = plt.subplots(1,1)\n",
    "utls.remove_tex_axis(ax, ytick_fmt=\"%.1f\")\n",
    "ax.plot(iterations, train_loss,'-k')\n",
    "ax.set_xlabel('Iterations')\n",
    "ax.set_ylabel('Loss')\n",
    "plt.tight_layout()"
   ]
  },
  {
   "cell_type": "markdown",
   "metadata": {},
   "source": [
    "## Test network predictions"
   ]
  },
  {
   "cell_type": "code",
   "execution_count": 23,
   "metadata": {},
   "outputs": [],
   "source": [
    "TEST_BATCH_SIZE = 128"
   ]
  },
  {
   "cell_type": "code",
   "execution_count": 24,
   "metadata": {},
   "outputs": [
    {
     "name": "stdout",
     "output_type": "stream",
     "text": [
      "INFO:tensorflow:Restoring parameters from ./model\n",
      "Average test loss: 2.2502541542053223\n"
     ]
    }
   ],
   "source": [
    "model.test(x_test_flat,y_test_oh, TEST_BATCH_SIZE)"
   ]
  },
  {
   "cell_type": "code",
   "execution_count": 33,
   "metadata": {},
   "outputs": [
    {
     "name": "stdout",
     "output_type": "stream",
     "text": [
      "INFO:tensorflow:Restoring parameters from ./model\n",
      "Test sample digit: 1\n"
     ]
    },
    {
     "data": {
      "image/png": "[encoded data removed]",
      "text/plain": [
       "<Figure size 720x360 with 2 Axes>"
      ]
     },
     "metadata": {
      "needs_background": "light"
     },
     "output_type": "display_data"
    }
   ],
   "source": [
    "plt.close('all')\n",
    "example = np.random.choice(n_test)\n",
    "\n",
    "sample = x_test_flat[example]\n",
    "label = y_test_oh[example]\n",
    "feed_dict = {model.input: np.expand_dims(sample, axis=0), \n",
    "             model.ground_truth: np.expand_dims(label,axis=0)}\n",
    "\n",
    "digit = np.where(label==1.0)[0][0]\n",
    "\n",
    "with tf.Session() as sess:\n",
    "    saver = tf.train.import_meta_graph(\"./model.meta\")\n",
    "    saver.restore(sess, './model')\n",
    "    prediction = sess.run(model.prediction, feed_dict = feed_dict)[0]\n",
    "\n",
    "fig, axs = plt.subplots(1,2, figsize=(2*5,5))\n",
    "axs = axs.ravel()\n",
    "\n",
    "ax = axs[0]\n",
    "utls.remove_tex_axis(ax)\n",
    "ax.imshow(x_test[example],cmap=cm.binary)\n",
    "ax.set_title('Test example')\n",
    "\n",
    "classes = np.arange(10)\n",
    "width = 0.5\n",
    "\n",
    "ax = axs[1]\n",
    "\n",
    "ax.bar(classes, prediction, width, color='Black')\n",
    "utls.remove_tex_axis(ax,ytick_fmt=\"%.2f\")\n",
    "ax.set_xticks(classes)\n",
    "ax.set_xticklabels([str(x) for x in np.arange(10)])\n",
    "ax.set_ylabel('Probability')\n",
    "ax.set_xlabel('Digit class')\n",
    "ax.set_title('Network categorical distribution')\n",
    "\n",
    "plt.tight_layout()\n",
    "print('Test sample digit: {}'.format(digit))\n"
   ]
  },
  {
   "cell_type": "markdown",
   "metadata": {},
   "source": [
    "Not great..."
   ]
  }
 ],
 "metadata": {
  "kernelspec": {
   "display_name": "Python 3",
   "language": "python",
   "name": "python3"
  },
  "language_info": {
   "codemirror_mode": {
    "name": "ipython",
    "version": 3
   },
   "file_extension": ".py",
   "mimetype": "text/x-python",
   "name": "python",
   "nbconvert_exporter": "python",
   "pygments_lexer": "ipython3",
   "version": "3.6.6"
  }
 },
 "nbformat": 4,
 "nbformat_minor": 2
}
