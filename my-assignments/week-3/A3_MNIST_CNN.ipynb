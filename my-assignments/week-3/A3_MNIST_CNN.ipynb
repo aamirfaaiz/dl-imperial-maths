{
 "cells": [
  {
   "cell_type": "markdown",
   "metadata": {},
   "source": [
    "# MNIST Convolutional Neural Network in Tensorflow\n",
    "\n",
    "Author: Juvid Aryaman"
   ]
  },
  {
   "cell_type": "code",
   "execution_count": 1,
   "metadata": {},
   "outputs": [],
   "source": [
    "import tensorflow as tf\n",
    "import pandas as pd\n",
    "import numpy as np\n",
    "import sys\n",
    "import matplotlib.pyplot as plt\n",
    "import matplotlib as mpl\n",
    "import time\n",
    "sys.path.append(\"..\")\n",
    "import utls\n",
    "utls.reset_plots()"
   ]
  },
  {
   "cell_type": "markdown",
   "metadata": {},
   "source": [
    "MNIST is a dataset of 28$\\times$28 handwritten digits. The dataset comes shipped with tensorflow, so let's load it up and have a look."
   ]
  },
  {
   "cell_type": "code",
   "execution_count": 2,
   "metadata": {},
   "outputs": [],
   "source": [
    "mnist = tf.keras.datasets.mnist\n",
    "(x_train, y_train),(x_test, y_test) = mnist.load_data()\n",
    "x_train, x_test = x_train / 255.0, x_test / 255.0\n"
   ]
  },
  {
   "cell_type": "code",
   "execution_count": 3,
   "metadata": {},
   "outputs": [
    {
     "data": {
      "text/plain": [
       "((60000, 28, 28), (10000, 28, 28))"
      ]
     },
     "execution_count": 3,
     "metadata": {},
     "output_type": "execute_result"
    }
   ],
   "source": [
    "x_train.shape, x_test.shape"
   ]
  },
  {
   "cell_type": "markdown",
   "metadata": {},
   "source": [
    "Expand the final dimension to a single channel"
   ]
  },
  {
   "cell_type": "code",
   "execution_count": 15,
   "metadata": {},
   "outputs": [
    {
     "data": {
      "text/plain": [
       "((60000, 28, 28, 1), (10000, 28, 28, 1))"
      ]
     },
     "execution_count": 15,
     "metadata": {},
     "output_type": "execute_result"
    }
   ],
   "source": [
    "x_train = np.expand_dims(x_train,axis=3)\n",
    "x_test = np.expand_dims(x_test,axis=3)\n",
    "x_train.shape, x_test.shape"
   ]
  },
  {
   "cell_type": "code",
   "execution_count": 16,
   "metadata": {},
   "outputs": [
    {
     "data": {
      "text/plain": [
       "((60000,), (10000,))"
      ]
     },
     "execution_count": 16,
     "metadata": {},
     "output_type": "execute_result"
    }
   ],
   "source": [
    "y_train.shape, y_test.shape"
   ]
  },
  {
   "cell_type": "code",
   "execution_count": 17,
   "metadata": {},
   "outputs": [],
   "source": [
    "n_train = x_train.shape[0]\n",
    "n_test = x_test.shape[0]"
   ]
  },
  {
   "cell_type": "markdown",
   "metadata": {},
   "source": [
    "Plot some example images"
   ]
  },
  {
   "cell_type": "code",
   "execution_count": 18,
   "metadata": {},
   "outputs": [],
   "source": [
    "from matplotlib import cm"
   ]
  },
  {
   "cell_type": "code",
   "execution_count": 21,
   "metadata": {},
   "outputs": [
    {
     "name": "stdout",
     "output_type": "stream",
     "text": [
      "Digit: 2\n"
     ]
    },
    {
     "data": {
      "image/png": "[encoded data removed]",
      "text/plain": [
       "<Figure size 432x288 with 1 Axes>"
      ]
     },
     "metadata": {
      "needs_background": "light"
     },
     "output_type": "display_data"
    }
   ],
   "source": [
    "example = np.random.choice(np.arange(n_train))\n",
    "\n",
    "image = x_train[example,:,:,0]\n",
    "label = y_train[example]\n",
    "\n",
    "plt.imshow(image, cmap = cm.binary)\n",
    "print(\"Digit: {}\".format(label))"
   ]
  },
  {
   "cell_type": "markdown",
   "metadata": {},
   "source": [
    "Now we encode the data labels as one-hot vectors"
   ]
  },
  {
   "cell_type": "code",
   "execution_count": 22,
   "metadata": {},
   "outputs": [
    {
     "data": {
      "text/plain": [
       "array([5, 0, 4, 1, 9, 2, 1, 3, 1, 4, 3, 5, 3, 6, 1, 7, 2, 8, 6, 9],\n",
       "      dtype=uint8)"
      ]
     },
     "execution_count": 22,
     "metadata": {},
     "output_type": "execute_result"
    }
   ],
   "source": [
    "y_train[:20]"
   ]
  },
  {
   "cell_type": "code",
   "execution_count": 23,
   "metadata": {},
   "outputs": [],
   "source": [
    "def one_hot(labels):\n",
    "    \"\"\"\n",
    "    Encodes a list of labels ranging between (0-9) as one-hot vectors.\n",
    "    0 -> [1,0,0,0,0,0,0,0,0,0]\n",
    "    9 -> [0,0,0,0,0,0,0,0,0,1]\n",
    "    \"\"\"\n",
    "    one_hot_labels = []\n",
    "    for num in labels:\n",
    "        one_hot = [0.0]*10\n",
    "        one_hot[num] = 1.0\n",
    "        one_hot_labels.append(one_hot)\n",
    "    return np.array(one_hot_labels).astype(np.float32)"
   ]
  },
  {
   "cell_type": "code",
   "execution_count": 24,
   "metadata": {},
   "outputs": [
    {
     "data": {
      "text/plain": [
       "((60000, 10), (10000, 10))"
      ]
     },
     "execution_count": 24,
     "metadata": {},
     "output_type": "execute_result"
    }
   ],
   "source": [
    "y_train_oh = one_hot(y_train)\n",
    "y_test_oh = one_hot(y_test)\n",
    "y_train_oh.shape, y_test_oh.shape"
   ]
  },
  {
   "cell_type": "code",
   "execution_count": 25,
   "metadata": {},
   "outputs": [
    {
     "data": {
      "text/plain": [
       "(5, array([0., 0., 0., 0., 0., 1., 0., 0., 0., 0.], dtype=float32))"
      ]
     },
     "execution_count": 25,
     "metadata": {},
     "output_type": "execute_result"
    }
   ],
   "source": [
    "y_train[0],y_train_oh[0]"
   ]
  },
  {
   "cell_type": "markdown",
   "metadata": {},
   "source": [
    "Take a small sample dataset for preliminary debugging/architecture "
   ]
  },
  {
   "cell_type": "code",
   "execution_count": 29,
   "metadata": {},
   "outputs": [
    {
     "data": {
      "text/plain": [
       "((20, 28, 28, 1), (20,))"
      ]
     },
     "execution_count": 29,
     "metadata": {},
     "output_type": "execute_result"
    }
   ],
   "source": [
    "x_sample = x_train[0:20,:,:,:]\n",
    "y_sample = y_train[0:20]\n",
    "x_sample.shape, y_sample.shape"
   ]
  },
  {
   "cell_type": "markdown",
   "metadata": {},
   "source": [
    "## Build convolutional neural network"
   ]
  },
  {
   "cell_type": "code",
   "execution_count": 13,
   "metadata": {},
   "outputs": [],
   "source": [
    "class MLP_MNIST:\n",
    "    \"\"\"\n",
    "    Define a multilayer perceptron for the MNIST dataset\n",
    "    \n",
    "    Params\n",
    "    ------------\n",
    "    wd_factor : A double, the L2 regularisation factor for model parameters\n",
    "    learning_rate : A double, the learning rate for the Adam optimiser    \n",
    "    \n",
    "    \"\"\"\n",
    "    def __init__(self, wd_factor, learning_rate):\n",
    "        self.wd_factor = wd_factor # weight decay factor (L2 regulariser)\n",
    "        self.learning_rate = learning_rate\n",
    "        self.train_pointer = 0 # for mini-batch housekeeping\n",
    "        self.test_pointer = 0\n",
    "        \n",
    "        self.input = tf.placeholder(dtype=tf.float32, shape=[None,784],name=\"input\")\n",
    "        self.ground_truth = tf.placeholder(dtype=tf.float32, shape=[None,10],name=\"ground_truth\")\n",
    "        print(self.input)\n",
    "        \n",
    "        # For batch norm and dropout, which work differently depending on whether you're \n",
    "        # training or testing\n",
    "        \n",
    "        self.is_training = tf.placeholder(tf.bool, name=\"is_training\")\n",
    "        \n",
    "        self._build_graph()\n",
    "        \n",
    "    def _build_graph(self):\n",
    "        \"\"\"\n",
    "        Create the convolutional neural network using the Adam optimiser and cross entropy loss\n",
    "        \"\"\"\n",
    "        weights = [] # for weight decay\n",
    "        \n",
    "        with tf.variable_scope(\"layers\"):\n",
    "            h = tf.layers.conv2d(self.input, 32, (3,3), strides=(1,1), padding=\"same\",\n",
    "                                 data_format=\"channels_last\", activation=None, use_bias=True,\n",
    "                                 kernel_initializer=tf.glorot_uniform_initializer(),name='conv1')\n",
    "            h = tf.layers.batch_normalization(h, training=self.is_training)\n",
    "            h = tf.nn.relu(h) # activation                        \n",
    "            \n",
    "            h = tf.layers.conv2d(h, 64, (3,3), strides=(1,1), padding=\"same\",\n",
    "                                 data_format=\"channels_last\", activation=None, use_bias=True,\n",
    "                                 kernel_initializer=tf.glorot_uniform_initializer(),name='conv2')            \n",
    "            h = tf.layers.batch_normalization(h, training=self.is_training)\n",
    "            h = tf.nn.relu(h) # activation            \n",
    "            h = tf.layers.max_pooling2d(h, (3,3), (3,3), padding='valid') # Downsample           \n",
    "            \n",
    "            h = tf.layers.conv2d(h, 64, (3,3), strides=(1,1), padding=\"same\",\n",
    "                                 data_format=\"channels_last\", activation=None, use_bias=True,\n",
    "                                 kernel_initializer=tf.glorot_uniform_initializer(),name='conv3')\n",
    "            h = tf.layers.batch_normalization(h, training=self.is_training)\n",
    "            h = tf.nn.relu(h) # activation            \n",
    "            h = tf.layers.max_pooling2d(h, (3,3), (3,3), padding='valid') # Downsample\n",
    "            \n",
    "            \n",
    "            # Fully connected layers\n",
    "            h = tf.layers.dense(h, 32, kernel_initializer=tf.glorot_uniform_initializer(),\n",
    "                               activation=tf.relu, name='dense1')            \n",
    "            h = tf.layers.dropout(h, rate=0.25, training=self.is_training, name=\"dropout1\")\n",
    "            \n",
    "            \n",
    "            \n",
    "            self.logits = tf.layers.dense(h, 10, kernel_initializer=tf.glorot_uniform_initializer(),\n",
    "                               activation=tf.identity, name='dense2') # linear output for the loss function\n",
    "            print(self.logits)\n",
    "            self.prediction = tf.nn.softmax(self.logits, name=\"softmax_prediction\")\n",
    "        \n",
    "        with tf.name_scope('loss'):\n",
    "            self.loss = tf.reduce_mean(tf.nn.softmax_cross_entropy_with_logits_v2(logits=self.logits,\n",
    "                                                                                 labels=self.ground_truth))\n",
    "            self.loss += self.weight_decay() # penalise weights with L2 norm\n",
    "        \n",
    "        self.optimizer = tf.train.AdamOptimizer(self.learning_rate)\n",
    "        self.train_op = self.optimizer.minimize(self.loss)\n",
    "        \n",
    "    def weight_decay(self):\n",
    "        \"\"\"\n",
    "        Append the L2 penalty onto the loss function\n",
    "        \"\"\"\n",
    "        loss = 0\n",
    "        for v in tf.global_variables():\n",
    "            if 'Adam' in v.name:\n",
    "                continue # do not punish optimizer variables\n",
    "            elif 'kernel' in v.name:\n",
    "                loss += self.wd_factor * tf.nn.l2_loss(v)\n",
    "        print(loss)\n",
    "        return loss\n",
    "    \n",
    "    def train_minibatch(self, samples, labels, batch_size):\n",
    "        \"\"\"\n",
    "        Take a mini-batch from the training dataset\n",
    "        \"\"\"\n",
    "        if self.train_pointer + batch_size <= samples.shape[0]:\n",
    "            samples_minibatch = samples[self.train_pointer: self.train_pointer + batch_size]\n",
    "            labels_minibatch = labels[self.train_pointer: self.train_pointer + batch_size]\n",
    "            self.train_pointer += batch_size\n",
    "        else:\n",
    "            samples_minibatch = samples[self.train_pointer:]\n",
    "            labels_minibatch = labels[self.train_pointer:]\n",
    "            self.train_pointer += 0 # reset\n",
    "        return samples_minibatch, labels_minibatch\n",
    "    \n",
    "    def train(self, train_samples, train_labels, train_batch_size, iteration_steps, import_from_previous=False):\n",
    "        \"\"\"\n",
    "        Train the model\n",
    "        \n",
    "        Params\n",
    "        ----------\n",
    "        \n",
    "        train_samples: A numpy matrix containing the training data\n",
    "        train_labels: A numpy vector containing the labels corresponding to train_samples\n",
    "        train_batch_size: An int. The number of data points per mini-batch\n",
    "        iteration_steps: An int. The number of mini-batch training steps\n",
    "        import_from_previous: A bool. Load a previous model and train\n",
    "        \n",
    "        Returns\n",
    "        -----------\n",
    "        \n",
    "        losses: A numpy array, where the first column is the mini-batch index, and the \n",
    "                second column is the loss function\n",
    "        \"\"\"\n",
    "        print('Start training....')\n",
    "        losses = []\n",
    "        \n",
    "        with tf.Session() as sess:\n",
    "            if import_from_previous:\n",
    "                saver = tf.train.import_meta_graph(\"./model.meta\") # import the model\n",
    "                saver.restore(sess, './model') # populate with weights  \n",
    "            else:\n",
    "                sess.run(tf.global_variables_initializer())\n",
    "                saver = tf.train.Saver() # for saving models\n",
    "            \n",
    "            for i in range(iteration_steps):\n",
    "                samples, labels = self.train_minibatch(train_samples, train_labels, train_batch_size)\n",
    "                feed_dict = {self.input: samples, self.ground_truth: labels}\n",
    "                _, loss = sess.run([self.train_op, self.loss], feed_dict=feed_dict)\n",
    "                if i % 50 == 0:\n",
    "                    print(\"Minibatch loss at step {}: {}\".format(i, loss))\n",
    "                    losses.append([i, loss])\n",
    "            saver.save(sess, './model') # save the model, generating 4 files\n",
    "        return np.array(losses)\n",
    "    \n",
    "    def test_minibatch(self, samples, labels, batch_size):\n",
    "        \"\"\"\n",
    "        Take a mini-batch from the test dataset\n",
    "        \"\"\"\n",
    "        if self.test_pointer + batch_size <= samples.shape[0]:\n",
    "            samples_minibatch = samples[self.test_pointer: self.test_pointer + batch_size]\n",
    "            labels_minibatch = labels[self.test_pointer: self.test_pointer + batch_size]\n",
    "            self.test_pointer += batch_size\n",
    "            end_of_epoch = False\n",
    "        else:\n",
    "            samples_minibatch = samples[self.test_pointer:]\n",
    "            labels_minibatch = labels[self.test_pointer:]\n",
    "            self.test_pointer += 0 # reset\n",
    "            end_of_epoch = True\n",
    "        return samples_minibatch, labels_minibatch, end_of_epoch\n",
    "    \n",
    "    def test(self, test_samples, test_labels, test_batch_size):\n",
    "        \"\"\"\n",
    "        Load a model, feed it test data, and determine the loss\n",
    "        \n",
    "        Params:\n",
    "        ---------------\n",
    "        test_samples: A numpy array, containing the test data\n",
    "        test_labels: A numpy vector, containing the test labels\n",
    "        test_batch_size: An int, the number of data points per mini-batch\n",
    "        \"\"\"\n",
    "        end_of_epoch = False\n",
    "        losses = []\n",
    "        \n",
    "        with tf.Session() as sess:\n",
    "            saver = tf.train.import_meta_graph(\"./model.meta\") # import the model\n",
    "            saver.restore(sess, './model') # populate with weights            \n",
    "            while not end_of_epoch: # run graph\n",
    "                samples, labels, end_of_epoch = self.test_minibatch(test_samples, \n",
    "                                                                    test_labels, test_batch_size)\n",
    "                feed_dict = {self.input: samples, self.ground_truth: labels}                \n",
    "                losses.append(sess.run(self.loss, feed_dict=feed_dict))\n",
    "            print(\"Average test loss: {}\".format(np.mean(losses)))\n",
    "\n"
   ]
  },
  {
   "cell_type": "code",
   "execution_count": 14,
   "metadata": {},
   "outputs": [
    {
     "name": "stdout",
     "output_type": "stream",
     "text": [
      "Tensor(\"input:0\", shape=(?, 784), dtype=float32)\n",
      "Tensor(\"layers/1/Tanh:0\", shape=(?, 512), dtype=float32)\n",
      "Tensor(\"layers/2/Tanh:0\", shape=(?, 256), dtype=float32)\n",
      "Tensor(\"layers/3/Tanh:0\", shape=(?, 64), dtype=float32)\n",
      "Tensor(\"layers/4/Tanh:0\", shape=(?, 10), dtype=float32)\n",
      "Tensor(\"loss/add_3:0\", shape=(), dtype=float32)\n"
     ]
    }
   ],
   "source": [
    "WD_FACTOR = 0.0001\n",
    "LEARNING_RATE = 0.001\n",
    "model = MLP_MNIST(WD_FACTOR, LEARNING_RATE)"
   ]
  },
  {
   "cell_type": "code",
   "execution_count": 15,
   "metadata": {},
   "outputs": [
    {
     "data": {
      "text/plain": [
       "[<tf.Variable 'layers/1/kernel:0' shape=(784, 512) dtype=float32_ref>,\n",
       " <tf.Variable 'layers/1/bias:0' shape=(512,) dtype=float32_ref>,\n",
       " <tf.Variable 'layers/2/kernel:0' shape=(512, 256) dtype=float32_ref>,\n",
       " <tf.Variable 'layers/2/bias:0' shape=(256,) dtype=float32_ref>,\n",
       " <tf.Variable 'layers/3/kernel:0' shape=(256, 64) dtype=float32_ref>,\n",
       " <tf.Variable 'layers/3/bias:0' shape=(64,) dtype=float32_ref>,\n",
       " <tf.Variable 'layers/4/kernel:0' shape=(64, 10) dtype=float32_ref>,\n",
       " <tf.Variable 'layers/4/bias:0' shape=(10,) dtype=float32_ref>,\n",
       " <tf.Variable 'beta1_power:0' shape=() dtype=float32_ref>,\n",
       " <tf.Variable 'beta2_power:0' shape=() dtype=float32_ref>,\n",
       " <tf.Variable 'layers/1/kernel/Adam:0' shape=(784, 512) dtype=float32_ref>,\n",
       " <tf.Variable 'layers/1/kernel/Adam_1:0' shape=(784, 512) dtype=float32_ref>,\n",
       " <tf.Variable 'layers/1/bias/Adam:0' shape=(512,) dtype=float32_ref>,\n",
       " <tf.Variable 'layers/1/bias/Adam_1:0' shape=(512,) dtype=float32_ref>,\n",
       " <tf.Variable 'layers/2/kernel/Adam:0' shape=(512, 256) dtype=float32_ref>,\n",
       " <tf.Variable 'layers/2/kernel/Adam_1:0' shape=(512, 256) dtype=float32_ref>,\n",
       " <tf.Variable 'layers/2/bias/Adam:0' shape=(256,) dtype=float32_ref>,\n",
       " <tf.Variable 'layers/2/bias/Adam_1:0' shape=(256,) dtype=float32_ref>,\n",
       " <tf.Variable 'layers/3/kernel/Adam:0' shape=(256, 64) dtype=float32_ref>,\n",
       " <tf.Variable 'layers/3/kernel/Adam_1:0' shape=(256, 64) dtype=float32_ref>,\n",
       " <tf.Variable 'layers/3/bias/Adam:0' shape=(64,) dtype=float32_ref>,\n",
       " <tf.Variable 'layers/3/bias/Adam_1:0' shape=(64,) dtype=float32_ref>,\n",
       " <tf.Variable 'layers/4/kernel/Adam:0' shape=(64, 10) dtype=float32_ref>,\n",
       " <tf.Variable 'layers/4/kernel/Adam_1:0' shape=(64, 10) dtype=float32_ref>,\n",
       " <tf.Variable 'layers/4/bias/Adam:0' shape=(10,) dtype=float32_ref>,\n",
       " <tf.Variable 'layers/4/bias/Adam_1:0' shape=(10,) dtype=float32_ref>]"
      ]
     },
     "execution_count": 15,
     "metadata": {},
     "output_type": "execute_result"
    }
   ],
   "source": [
    "tf.global_variables()"
   ]
  },
  {
   "cell_type": "code",
   "execution_count": 16,
   "metadata": {},
   "outputs": [],
   "source": [
    "def count_trainable_params():\n",
    "    total_parameters = 0\n",
    "    for variable in tf.trainable_variables():         \n",
    "        shape = variable.get_shape()        \n",
    "        variable_parameters = 1\n",
    "        for dim in shape:\n",
    "            variable_parameters *= dim.value        \n",
    "        total_parameters += variable_parameters\n",
    "    print(total_parameters)"
   ]
  },
  {
   "cell_type": "code",
   "execution_count": 17,
   "metadata": {},
   "outputs": [
    {
     "name": "stdout",
     "output_type": "stream",
     "text": [
      "550346\n"
     ]
    }
   ],
   "source": [
    "count_trainable_params()"
   ]
  },
  {
   "cell_type": "markdown",
   "metadata": {},
   "source": [
    "## Train model"
   ]
  },
  {
   "cell_type": "code",
   "execution_count": 18,
   "metadata": {},
   "outputs": [],
   "source": [
    "TRAIN_BATCH_SIZE = 128\n",
    "ITERATIONS = 10000"
   ]
  },
  {
   "cell_type": "markdown",
   "metadata": {},
   "source": [
    "Define a learning schedule whereby we gradually reduce the learning rate with iterations"
   ]
  },
  {
   "cell_type": "code",
   "execution_count": 19,
   "metadata": {},
   "outputs": [],
   "source": [
    "learning_schedule = [[2000,0.1],[2000,0.01],[2000,0.001],[4000,0.0001]]"
   ]
  },
  {
   "cell_type": "code",
   "execution_count": 20,
   "metadata": {
    "scrolled": true
   },
   "outputs": [
    {
     "name": "stdout",
     "output_type": "stream",
     "text": [
      "Start training....\n",
      "Minibatch loss at step 0: 2.4923176765441895\n",
      "Minibatch loss at step 50: 1.1161633729934692\n",
      "Minibatch loss at step 100: 1.0399525165557861\n",
      "Minibatch loss at step 150: 1.018926739692688\n",
      "Minibatch loss at step 200: 0.9745585322380066\n",
      "Minibatch loss at step 250: 1.0181118249893188\n",
      "Minibatch loss at step 300: 0.9630082845687866\n",
      "Minibatch loss at step 350: 1.0267927646636963\n",
      "Minibatch loss at step 400: 0.9970570206642151\n",
      "Minibatch loss at step 450: 0.9601716995239258\n",
      "Minibatch loss at step 500: 0.8683041334152222\n",
      "Minibatch loss at step 550: 0.8655282855033875\n",
      "Minibatch loss at step 600: 0.8637357354164124\n",
      "Minibatch loss at step 650: 0.8621584177017212\n",
      "Minibatch loss at step 700: 0.860696017742157\n",
      "Minibatch loss at step 750: 0.8593116998672485\n",
      "Minibatch loss at step 800: 0.8579868674278259\n",
      "Minibatch loss at step 850: 0.8567106127738953\n",
      "Minibatch loss at step 900: 0.8554755449295044\n",
      "Minibatch loss at step 950: 0.8542769551277161\n",
      "Minibatch loss at step 1000: 0.8531115651130676\n",
      "Minibatch loss at step 1050: 0.8519772291183472\n",
      "Minibatch loss at step 1100: 0.8508725166320801\n",
      "Minibatch loss at step 1150: 0.8497959971427917\n",
      "Minibatch loss at step 1200: 0.8487468361854553\n",
      "Minibatch loss at step 1250: 0.8477246761322021\n",
      "Minibatch loss at step 1300: 0.8467288017272949\n",
      "Minibatch loss at step 1350: 0.8457592725753784\n",
      "Minibatch loss at step 1400: 0.8448154926300049\n",
      "Minibatch loss at step 1450: 0.8438974022865295\n",
      "Minibatch loss at step 1500: 0.8430047631263733\n",
      "Minibatch loss at step 1550: 0.8421376347541809\n",
      "Minibatch loss at step 1600: 0.8412957787513733\n",
      "Minibatch loss at step 1650: 0.8404790759086609\n",
      "Minibatch loss at step 1700: 0.8396872878074646\n",
      "Minibatch loss at step 1750: 0.8389202356338501\n",
      "Minibatch loss at step 1800: 0.8381778597831726\n",
      "Minibatch loss at step 1850: 0.837459921836853\n",
      "Minibatch loss at step 1900: 0.8367659449577332\n",
      "Minibatch loss at step 1950: 0.8360958695411682\n",
      "Start training....\n",
      "INFO:tensorflow:Restoring parameters from ./model\n",
      "Minibatch loss at step 0: 0.8354493379592896\n",
      "Minibatch loss at step 50: 0.8348260521888733\n",
      "Minibatch loss at step 100: 0.8342254161834717\n",
      "Minibatch loss at step 150: 0.8336474299430847\n",
      "Minibatch loss at step 200: 0.8330913782119751\n",
      "Minibatch loss at step 250: 0.8325569033622742\n",
      "Minibatch loss at step 300: 0.832043468952179\n",
      "Minibatch loss at step 350: 0.8315507173538208\n",
      "Minibatch loss at step 400: 0.831078052520752\n",
      "Minibatch loss at step 450: 0.830625057220459\n",
      "Minibatch loss at step 500: 0.8301911354064941\n",
      "Minibatch loss at step 550: 0.8297759294509888\n",
      "Minibatch loss at step 600: 0.8293786644935608\n",
      "Minibatch loss at step 650: 0.8289988040924072\n",
      "Minibatch loss at step 700: 0.8286350965499878\n",
      "Minibatch loss at step 750: 0.8282778859138489\n",
      "Minibatch loss at step 800: 0.8079203963279724\n",
      "Minibatch loss at step 850: 0.8072212934494019\n",
      "Minibatch loss at step 900: 0.8068068623542786\n",
      "Minibatch loss at step 950: 0.8064666390419006\n",
      "Minibatch loss at step 1000: 0.8061650991439819\n",
      "Minibatch loss at step 1050: 0.805888831615448\n",
      "Minibatch loss at step 1100: 0.8056315779685974\n",
      "Minibatch loss at step 1150: 0.805390477180481\n",
      "Minibatch loss at step 1200: 0.8051636815071106\n",
      "Minibatch loss at step 1250: 0.8049499988555908\n",
      "Minibatch loss at step 1300: 0.8047483563423157\n",
      "Minibatch loss at step 1350: 0.8045580983161926\n",
      "Minibatch loss at step 1400: 0.8043786883354187\n",
      "Minibatch loss at step 1450: 0.804209291934967\n",
      "Minibatch loss at step 1500: 0.8040493726730347\n",
      "Minibatch loss at step 1550: 0.8038986921310425\n",
      "Minibatch loss at step 1600: 0.8037564158439636\n",
      "Minibatch loss at step 1650: 0.8036224246025085\n",
      "Minibatch loss at step 1700: 0.8034960031509399\n",
      "Minibatch loss at step 1750: 0.8033768534660339\n",
      "Minibatch loss at step 1800: 0.8032646179199219\n",
      "Minibatch loss at step 1850: 0.8031588196754456\n",
      "Minibatch loss at step 1900: 0.8030592203140259\n",
      "Minibatch loss at step 1950: 0.8029654622077942\n",
      "Start training....\n",
      "INFO:tensorflow:Restoring parameters from ./model\n",
      "Minibatch loss at step 0: 0.8028771877288818\n",
      "Minibatch loss at step 50: 0.8027940392494202\n",
      "Minibatch loss at step 100: 0.8027157783508301\n",
      "Minibatch loss at step 150: 0.8026421666145325\n",
      "Minibatch loss at step 200: 0.8025728464126587\n",
      "Minibatch loss at step 250: 0.8025076389312744\n",
      "Minibatch loss at step 300: 0.8024462461471558\n",
      "Minibatch loss at step 350: 0.8023883700370789\n",
      "Minibatch loss at step 400: 0.8023340106010437\n",
      "Minibatch loss at step 450: 0.8022828102111816\n",
      "Minibatch loss at step 500: 0.8022345900535583\n",
      "Minibatch loss at step 550: 0.8021891713142395\n",
      "Minibatch loss at step 600: 0.8021464943885803\n",
      "Minibatch loss at step 650: 0.8021061420440674\n",
      "Minibatch loss at step 700: 0.8020681142807007\n",
      "Minibatch loss at step 750: 0.8020323514938354\n",
      "Minibatch loss at step 800: 0.8019986152648926\n",
      "Minibatch loss at step 850: 0.801966667175293\n",
      "Minibatch loss at step 900: 0.8019366264343262\n",
      "Minibatch loss at step 950: 0.8019082546234131\n",
      "Minibatch loss at step 1000: 0.8018813133239746\n",
      "Minibatch loss at step 1050: 0.8018558621406555\n",
      "Minibatch loss at step 1100: 0.8018319010734558\n",
      "Minibatch loss at step 1150: 0.8018090128898621\n",
      "Minibatch loss at step 1200: 0.8017874360084534\n",
      "Minibatch loss at step 1250: 0.8017669320106506\n",
      "Minibatch loss at step 1300: 0.8017474412918091\n",
      "Minibatch loss at step 1350: 0.8017289042472839\n",
      "Minibatch loss at step 1400: 0.8017112016677856\n",
      "Minibatch loss at step 1450: 0.801694393157959\n",
      "Minibatch loss at step 1500: 0.8016783595085144\n",
      "Minibatch loss at step 1550: 0.8016629815101624\n",
      "Minibatch loss at step 1600: 0.8016483187675476\n",
      "Minibatch loss at step 1650: 0.8016341924667358\n",
      "Minibatch loss at step 1700: 0.8016207218170166\n",
      "Minibatch loss at step 1750: 0.8016077876091003\n",
      "Minibatch loss at step 1800: 0.8015952706336975\n",
      "Minibatch loss at step 1850: 0.8015832304954529\n",
      "Minibatch loss at step 1900: 0.8015716075897217\n",
      "Minibatch loss at step 1950: 0.8015603423118591\n",
      "Start training....\n",
      "INFO:tensorflow:Restoring parameters from ./model\n",
      "Minibatch loss at step 0: 0.8015494346618652\n",
      "Minibatch loss at step 50: 0.8015388250350952\n",
      "Minibatch loss at step 100: 0.8015286326408386\n",
      "Minibatch loss at step 150: 0.8015186786651611\n",
      "Minibatch loss at step 200: 0.8015088438987732\n",
      "Minibatch loss at step 250: 0.8014994859695435\n",
      "Minibatch loss at step 300: 0.801490068435669\n",
      "Minibatch loss at step 350: 0.8014810681343079\n",
      "Minibatch loss at step 400: 0.8014721870422363\n",
      "Minibatch loss at step 450: 0.8014635443687439\n",
      "Minibatch loss at step 500: 0.8014548420906067\n",
      "Minibatch loss at step 550: 0.8014465570449829\n",
      "Minibatch loss at step 600: 0.8014383316040039\n",
      "Minibatch loss at step 650: 0.8014302253723145\n",
      "Minibatch loss at step 700: 0.801422119140625\n",
      "Minibatch loss at step 750: 0.8014143109321594\n",
      "Minibatch loss at step 800: 0.8014065623283386\n",
      "Minibatch loss at step 850: 0.8013989329338074\n",
      "Minibatch loss at step 900: 0.8013913631439209\n",
      "Minibatch loss at step 950: 0.801383912563324\n",
      "Minibatch loss at step 1000: 0.8013765811920166\n",
      "Minibatch loss at step 1050: 0.8013692498207092\n",
      "Minibatch loss at step 1100: 0.8013620376586914\n",
      "Minibatch loss at step 1150: 0.8013548851013184\n",
      "Minibatch loss at step 1200: 0.8013479113578796\n",
      "Minibatch loss at step 1250: 0.8013409972190857\n",
      "Minibatch loss at step 1300: 0.8013341426849365\n",
      "Minibatch loss at step 1350: 0.8013273477554321\n",
      "Minibatch loss at step 1400: 0.8013206720352173\n",
      "Minibatch loss at step 1450: 0.8013139963150024\n",
      "Minibatch loss at step 1500: 0.8013074398040771\n",
      "Minibatch loss at step 1550: 0.8013009428977966\n",
      "Minibatch loss at step 1600: 0.8012945055961609\n",
      "Minibatch loss at step 1650: 0.8012881278991699\n",
      "Minibatch loss at step 1700: 0.8012818098068237\n",
      "Minibatch loss at step 1750: 0.8012756705284119\n",
      "Minibatch loss at step 1800: 0.8012694716453552\n",
      "Minibatch loss at step 1850: 0.8012633919715881\n",
      "Minibatch loss at step 1900: 0.801257312297821\n",
      "Minibatch loss at step 1950: 0.8012514710426331\n",
      "Minibatch loss at step 2000: 0.8012455105781555\n",
      "Minibatch loss at step 2050: 0.8012397885322571\n",
      "Minibatch loss at step 2100: 0.8012341260910034\n",
      "Minibatch loss at step 2150: 0.8012283444404602\n",
      "Minibatch loss at step 2200: 0.8012227416038513\n",
      "Minibatch loss at step 2250: 0.8012171387672424\n",
      "Minibatch loss at step 2300: 0.8012115955352783\n",
      "Minibatch loss at step 2350: 0.8012062311172485\n",
      "Minibatch loss at step 2400: 0.8012007474899292\n"
     ]
    },
    {
     "name": "stdout",
     "output_type": "stream",
     "text": [
      "Minibatch loss at step 2450: 0.801195502281189\n",
      "Minibatch loss at step 2500: 0.801190197467804\n",
      "Minibatch loss at step 2550: 0.801184892654419\n",
      "Minibatch loss at step 2600: 0.8011797666549683\n",
      "Minibatch loss at step 2650: 0.801174521446228\n",
      "Minibatch loss at step 2700: 0.8011693358421326\n",
      "Minibatch loss at step 2750: 0.8011642694473267\n",
      "Minibatch loss at step 2800: 0.8011592030525208\n",
      "Minibatch loss at step 2850: 0.8011540770530701\n",
      "Minibatch loss at step 2900: 0.8011489510536194\n",
      "Minibatch loss at step 2950: 0.801144003868103\n",
      "Minibatch loss at step 3000: 0.8011389374732971\n",
      "Minibatch loss at step 3050: 0.8011337518692017\n",
      "Minibatch loss at step 3100: 0.8011286854743958\n",
      "Minibatch loss at step 3150: 0.8011236190795898\n",
      "Minibatch loss at step 3200: 0.8011184930801392\n",
      "Minibatch loss at step 3250: 0.8011134266853333\n",
      "Minibatch loss at step 3300: 0.8011084198951721\n",
      "Minibatch loss at step 3350: 0.801103413105011\n",
      "Minibatch loss at step 3400: 0.8010984063148499\n",
      "Minibatch loss at step 3450: 0.8010934591293335\n",
      "Minibatch loss at step 3500: 0.8010885119438171\n",
      "Minibatch loss at step 3550: 0.8010836839675903\n",
      "Minibatch loss at step 3600: 0.8010788559913635\n",
      "Minibatch loss at step 3650: 0.8010740280151367\n",
      "Minibatch loss at step 3700: 0.8010693788528442\n",
      "Minibatch loss at step 3750: 0.8010646104812622\n",
      "Minibatch loss at step 3800: 0.8010600209236145\n",
      "Minibatch loss at step 3850: 0.8010554909706116\n",
      "Minibatch loss at step 3900: 0.8010509610176086\n",
      "Minibatch loss at step 3950: 0.8010464310646057\n"
     ]
    }
   ],
   "source": [
    "start = time.time()\n",
    "\n",
    "for i, vals in enumerate(learning_schedule):\n",
    "    ITERATIONS = vals[0]\n",
    "    LR = vals[1]\n",
    "    if i == 0:\n",
    "        model.learning_rate = LR\n",
    "        losses = model.train(x_train_flat, y_train_oh, TRAIN_BATCH_SIZE, ITERATIONS)\n",
    "    else:\n",
    "\n",
    "        losses_new = model.train(x_train_flat, y_train_oh, TRAIN_BATCH_SIZE, ITERATIONS, import_from_previous = True)\n",
    "        losses_new[:,0] += losses[-1,0] + TRAIN_BATCH_SIZE\n",
    "        losses = np.vstack((losses,losses_new))\n",
    "end_time = time.time()\n"
   ]
  },
  {
   "cell_type": "code",
   "execution_count": 21,
   "metadata": {},
   "outputs": [
    {
     "name": "stdout",
     "output_type": "stream",
     "text": [
      "Training time: 113.69104361534119s\n"
     ]
    }
   ],
   "source": [
    "print(\"Training time: {}s\".format(end_time - start))"
   ]
  },
  {
   "cell_type": "markdown",
   "metadata": {},
   "source": [
    "## Plot learning curve"
   ]
  },
  {
   "cell_type": "code",
   "execution_count": 22,
   "metadata": {},
   "outputs": [
    {
     "data": {
      "image/png": "[encoded data removed]",
      "text/plain": [
       "<Figure size 432x288 with 1 Axes>"
      ]
     },
     "metadata": {
      "needs_background": "light"
     },
     "output_type": "display_data"
    }
   ],
   "source": [
    "iterations = losses[:,0]\n",
    "train_loss = losses[:,1]\n",
    "\n",
    "fig, ax = plt.subplots(1,1)\n",
    "utls.remove_tex_axis(ax, ytick_fmt=\"%.1f\")\n",
    "ax.plot(iterations, train_loss,'-k')\n",
    "ax.set_xlabel('Iterations')\n",
    "ax.set_ylabel('Loss')\n",
    "plt.tight_layout()"
   ]
  },
  {
   "cell_type": "markdown",
   "metadata": {},
   "source": [
    "## Test network predictions"
   ]
  },
  {
   "cell_type": "code",
   "execution_count": 23,
   "metadata": {},
   "outputs": [],
   "source": [
    "TEST_BATCH_SIZE = 128"
   ]
  },
  {
   "cell_type": "code",
   "execution_count": 24,
   "metadata": {},
   "outputs": [
    {
     "name": "stdout",
     "output_type": "stream",
     "text": [
      "INFO:tensorflow:Restoring parameters from ./model\n",
      "Average test loss: 1.7568947076797485\n"
     ]
    }
   ],
   "source": [
    "model.test(x_test_flat,y_test_oh, TEST_BATCH_SIZE)"
   ]
  },
  {
   "cell_type": "code",
   "execution_count": 29,
   "metadata": {},
   "outputs": [
    {
     "name": "stdout",
     "output_type": "stream",
     "text": [
      "INFO:tensorflow:Restoring parameters from ./model\n",
      "Test sample digit: 7\n"
     ]
    },
    {
     "data": {
      "image/png": "[encoded data removed]",
      "text/plain": [
       "<Figure size 720x360 with 2 Axes>"
      ]
     },
     "metadata": {
      "needs_background": "light"
     },
     "output_type": "display_data"
    }
   ],
   "source": [
    "plt.close('all')\n",
    "example = np.random.choice(n_test)\n",
    "\n",
    "sample = x_test_flat[example]\n",
    "label = y_test_oh[example]\n",
    "feed_dict = {model.input: np.expand_dims(sample, axis=0), \n",
    "             model.ground_truth: np.expand_dims(label,axis=0)}\n",
    "\n",
    "digit = np.where(label==1.0)[0][0]\n",
    "\n",
    "with tf.Session() as sess:\n",
    "    saver = tf.train.import_meta_graph(\"./model.meta\")\n",
    "    saver.restore(sess, './model')\n",
    "    prediction = sess.run(model.prediction, feed_dict = feed_dict)[0]\n",
    "\n",
    "fig, axs = plt.subplots(1,2, figsize=(2*5,5))\n",
    "axs = axs.ravel()\n",
    "\n",
    "ax = axs[0]\n",
    "utls.remove_tex_axis(ax)\n",
    "ax.imshow(x_test[example],cmap=cm.binary)\n",
    "ax.set_title('Test example')\n",
    "\n",
    "classes = np.arange(10)\n",
    "width = 0.5\n",
    "\n",
    "ax = axs[1]\n",
    "\n",
    "ax.bar(classes, prediction, width, color='Black')\n",
    "utls.remove_tex_axis(ax,ytick_fmt=\"%.2f\")\n",
    "ax.set_xticks(classes)\n",
    "ax.set_xticklabels([str(x) for x in np.arange(10)])\n",
    "ax.set_ylabel('Probability')\n",
    "ax.set_xlabel('Digit class')\n",
    "ax.set_title('Network categorical distribution')\n",
    "\n",
    "plt.tight_layout()\n",
    "print('Test sample digit: {}'.format(digit))\n"
   ]
  },
  {
   "cell_type": "code",
   "execution_count": null,
   "metadata": {},
   "outputs": [],
   "source": []
  }
 ],
 "metadata": {
  "kernelspec": {
   "display_name": "Python 3",
   "language": "python",
   "name": "python3"
  },
  "language_info": {
   "codemirror_mode": {
    "name": "ipython",
    "version": 3
   },
   "file_extension": ".py",
   "mimetype": "text/x-python",
   "name": "python",
   "nbconvert_exporter": "python",
   "pygments_lexer": "ipython3",
   "version": "3.6.6"
  }
 },
 "nbformat": 4,
 "nbformat_minor": 2
}
