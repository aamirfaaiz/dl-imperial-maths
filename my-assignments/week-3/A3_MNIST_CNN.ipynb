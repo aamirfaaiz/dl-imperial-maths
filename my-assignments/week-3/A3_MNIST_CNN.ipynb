{
 "cells": [
  {
   "cell_type": "markdown",
   "metadata": {},
   "source": [
    "# MNIST Convolutional Neural Network in Tensorflow\n",
    "\n",
    "Author: Juvid Aryaman"
   ]
  },
  {
   "cell_type": "code",
   "execution_count": 1,
   "metadata": {},
   "outputs": [],
   "source": [
    "import tensorflow as tf\n",
    "import pandas as pd\n",
    "import numpy as np\n",
    "import sys\n",
    "import matplotlib.pyplot as plt\n",
    "import matplotlib as mpl\n",
    "import time\n",
    "sys.path.append(\"..\")\n",
    "import utls\n",
    "utls.reset_plots()"
   ]
  },
  {
   "cell_type": "markdown",
   "metadata": {},
   "source": [
    "MNIST is a dataset of 28$\\times$28 handwritten digits. The dataset comes shipped with tensorflow, so let's load it up and have a look."
   ]
  },
  {
   "cell_type": "code",
   "execution_count": 2,
   "metadata": {},
   "outputs": [],
   "source": [
    "mnist = tf.keras.datasets.mnist\n",
    "(x_train, y_train),(x_test, y_test) = mnist.load_data()\n",
    "x_train, x_test = x_train / 255.0, x_test / 255.0\n"
   ]
  },
  {
   "cell_type": "code",
   "execution_count": 3,
   "metadata": {},
   "outputs": [
    {
     "data": {
      "text/plain": [
       "((60000, 28, 28), (10000, 28, 28))"
      ]
     },
     "execution_count": 3,
     "metadata": {},
     "output_type": "execute_result"
    }
   ],
   "source": [
    "x_train.shape, x_test.shape"
   ]
  },
  {
   "cell_type": "markdown",
   "metadata": {},
   "source": [
    "Expand the final dimension to a single channel"
   ]
  },
  {
   "cell_type": "code",
   "execution_count": 4,
   "metadata": {},
   "outputs": [
    {
     "data": {
      "text/plain": [
       "((60000, 28, 28, 1), (10000, 28, 28, 1))"
      ]
     },
     "execution_count": 4,
     "metadata": {},
     "output_type": "execute_result"
    }
   ],
   "source": [
    "x_train = np.expand_dims(x_train,axis=3)\n",
    "x_test = np.expand_dims(x_test,axis=3)\n",
    "x_train.shape, x_test.shape"
   ]
  },
  {
   "cell_type": "code",
   "execution_count": 5,
   "metadata": {},
   "outputs": [
    {
     "data": {
      "text/plain": [
       "((60000,), (10000,))"
      ]
     },
     "execution_count": 5,
     "metadata": {},
     "output_type": "execute_result"
    }
   ],
   "source": [
    "y_train.shape, y_test.shape"
   ]
  },
  {
   "cell_type": "code",
   "execution_count": 6,
   "metadata": {},
   "outputs": [],
   "source": [
    "n_train = x_train.shape[0]\n",
    "n_test = x_test.shape[0]"
   ]
  },
  {
   "cell_type": "markdown",
   "metadata": {},
   "source": [
    "Plot some example images"
   ]
  },
  {
   "cell_type": "code",
   "execution_count": 7,
   "metadata": {},
   "outputs": [],
   "source": [
    "from matplotlib import cm"
   ]
  },
  {
   "cell_type": "code",
   "execution_count": 8,
   "metadata": {},
   "outputs": [
    {
     "name": "stdout",
     "output_type": "stream",
     "text": [
      "Digit: 8\n"
     ]
    },
    {
     "name": "stderr",
     "output_type": "stream",
     "text": [
      "/home/juvid/anaconda3/lib/python3.6/site-packages/matplotlib/font_manager.py:1238: UserWarning: findfont: Font family ['sans-serif'] not found. Falling back to DejaVu Sans.\n",
      "  (prop.get_family(), self.defaultFamily[fontext]))\n"
     ]
    },
    {
     "data": {
      "image/png": "[encoded data removed]",
      "text/plain": [
       "<Figure size 432x288 with 1 Axes>"
      ]
     },
     "metadata": {
      "needs_background": "light"
     },
     "output_type": "display_data"
    }
   ],
   "source": [
    "example = np.random.choice(np.arange(n_train))\n",
    "\n",
    "image = x_train[example,:,:,0]\n",
    "label = y_train[example]\n",
    "\n",
    "plt.imshow(image, cmap = cm.binary)\n",
    "print(\"Digit: {}\".format(label))"
   ]
  },
  {
   "cell_type": "markdown",
   "metadata": {},
   "source": [
    "Now we encode the data labels as one-hot vectors"
   ]
  },
  {
   "cell_type": "code",
   "execution_count": 9,
   "metadata": {},
   "outputs": [
    {
     "data": {
      "text/plain": [
       "array([5, 0, 4, 1, 9, 2, 1, 3, 1, 4, 3, 5, 3, 6, 1, 7, 2, 8, 6, 9],\n",
       "      dtype=uint8)"
      ]
     },
     "execution_count": 9,
     "metadata": {},
     "output_type": "execute_result"
    }
   ],
   "source": [
    "y_train[:20]"
   ]
  },
  {
   "cell_type": "code",
   "execution_count": 10,
   "metadata": {},
   "outputs": [],
   "source": [
    "def one_hot(labels):\n",
    "    \"\"\"\n",
    "    Encodes a list of labels ranging between (0-9) as one-hot vectors.\n",
    "    0 -> [1,0,0,0,0,0,0,0,0,0]\n",
    "    9 -> [0,0,0,0,0,0,0,0,0,1]\n",
    "    \"\"\"\n",
    "    one_hot_labels = []\n",
    "    for num in labels:\n",
    "        one_hot = [0.0]*10\n",
    "        one_hot[num] = 1.0\n",
    "        one_hot_labels.append(one_hot)\n",
    "    return np.array(one_hot_labels).astype(np.float32)"
   ]
  },
  {
   "cell_type": "code",
   "execution_count": 11,
   "metadata": {},
   "outputs": [
    {
     "data": {
      "text/plain": [
       "((60000, 10), (10000, 10))"
      ]
     },
     "execution_count": 11,
     "metadata": {},
     "output_type": "execute_result"
    }
   ],
   "source": [
    "y_train_oh = one_hot(y_train)\n",
    "y_test_oh = one_hot(y_test)\n",
    "y_train_oh.shape, y_test_oh.shape"
   ]
  },
  {
   "cell_type": "code",
   "execution_count": 12,
   "metadata": {},
   "outputs": [
    {
     "data": {
      "text/plain": [
       "(5, array([0., 0., 0., 0., 0., 1., 0., 0., 0., 0.], dtype=float32))"
      ]
     },
     "execution_count": 12,
     "metadata": {},
     "output_type": "execute_result"
    }
   ],
   "source": [
    "y_train[0],y_train_oh[0]"
   ]
  },
  {
   "cell_type": "markdown",
   "metadata": {},
   "source": [
    "Take a small sample dataset for preliminary debugging/architecture "
   ]
  },
  {
   "cell_type": "code",
   "execution_count": 13,
   "metadata": {},
   "outputs": [
    {
     "data": {
      "text/plain": [
       "((20, 28, 28, 1), (20, 10))"
      ]
     },
     "execution_count": 13,
     "metadata": {},
     "output_type": "execute_result"
    }
   ],
   "source": [
    "x_sample = x_train[0:20,:,:,:]\n",
    "y_sample_oh = y_train_oh[0:20]\n",
    "x_sample.shape, y_sample_oh.shape"
   ]
  },
  {
   "cell_type": "markdown",
   "metadata": {},
   "source": [
    "## Build convolutional neural network"
   ]
  },
  {
   "cell_type": "code",
   "execution_count": 65,
   "metadata": {},
   "outputs": [],
   "source": [
    "class CNN_MNIST:\n",
    "    \"\"\"\n",
    "    Define a convolutional neural network for the MNIST dataset\n",
    "    \n",
    "    Params\n",
    "    ------------\n",
    "    wd_factor : A double, the L2 regularisation factor for model parameters\n",
    "    learning_rate : A double, the learning rate for the Adam optimiser    \n",
    "    \n",
    "    \"\"\"\n",
    "    def __init__(self, wd_factor, learning_rate):\n",
    "        self.wd_factor = wd_factor # weight decay factor (L2 regulariser)\n",
    "        self.learning_rate = learning_rate\n",
    "        self.train_pointer = 0 # for mini-batch housekeeping\n",
    "        self.test_pointer = 0\n",
    "        \n",
    "        self.input = tf.placeholder(dtype=tf.float32, shape=[None,28,28,1],name=\"input\")\n",
    "        self.ground_truth = tf.placeholder(dtype=tf.float32, shape=[None,10],name=\"ground_truth\")\n",
    "        print(self.input)\n",
    "        \n",
    "        # For batch norm and dropout, which work differently depending on whether you're \n",
    "        # training or testing\n",
    "        \n",
    "        self.is_training = tf.placeholder(tf.bool, name=\"is_training\")\n",
    "        \n",
    "        self._build_graph()\n",
    "        \n",
    "    def _build_graph(self):\n",
    "        \"\"\"\n",
    "        Create the convolutional neural network using the Adam optimiser and cross entropy loss\n",
    "        \"\"\"\n",
    "        weights = [] # for weight decay\n",
    "        \n",
    "        with tf.variable_scope(\"layers\"):\n",
    "            h = tf.layers.conv2d(self.input, 32, (3,3), strides=(1,1), padding=\"same\",\n",
    "                                 data_format=\"channels_last\", activation=None, use_bias=True,\n",
    "                                 kernel_initializer=tf.glorot_uniform_initializer(),name='conv1')\n",
    "            print(h)\n",
    "            h = tf.layers.batch_normalization(h, training=self.is_training)\n",
    "            print(h)\n",
    "            h = tf.nn.relu(h) # activation                        \n",
    "            \n",
    "            h = tf.layers.conv2d(h, 64, (3,3), strides=(1,1), padding=\"same\",\n",
    "                                 data_format=\"channels_last\", activation=None, use_bias=True,\n",
    "                                 kernel_initializer=tf.glorot_uniform_initializer(),name='conv2') \n",
    "            print(h)\n",
    "            h = tf.layers.batch_normalization(h, training=self.is_training)\n",
    "            print(h)\n",
    "            h = tf.nn.relu(h) # activation            \n",
    "            h = tf.layers.max_pooling2d(h, (3,3), (3,3), padding='valid') # Downsample           \n",
    "            \n",
    "            h = tf.layers.conv2d(h, 64, (3,3), strides=(1,1), padding=\"same\",\n",
    "                                 data_format=\"channels_last\", activation=None, use_bias=True,\n",
    "                                 kernel_initializer=tf.glorot_uniform_initializer(),name='conv3')\n",
    "            print(h)\n",
    "            h = tf.layers.batch_normalization(h, training=self.is_training)\n",
    "            print(h)\n",
    "            h = tf.nn.relu(h) # activation            \n",
    "            h = tf.layers.max_pooling2d(h, (3,3), (3,3), padding='valid') # Downsample           \n",
    "            h = tf.layers.flatten(h) # flatten before dense layers\n",
    "            \n",
    "            \n",
    "            # Fully connected layers\n",
    "            h = tf.layers.dense(h, 32, kernel_initializer=tf.glorot_uniform_initializer(),\n",
    "                               activation=tf.nn.relu, name='dense1')      \n",
    "            print(h)\n",
    "            h = tf.layers.dropout(h, rate=0.25, training=self.is_training, name=\"dropout1\")\n",
    "            \n",
    "            \n",
    "            \n",
    "            self.logits = tf.layers.dense(h, 10, kernel_initializer=tf.glorot_uniform_initializer(),\n",
    "                               activation=tf.identity, name='dense2') # linear output for the loss function            \n",
    "            print(self.logits)\n",
    "            self.prediction = tf.nn.softmax(self.logits, name=\"softmax_prediction\")\n",
    "        \n",
    "        with tf.name_scope('loss'):\n",
    "            self.loss = tf.reduce_mean(tf.nn.softmax_cross_entropy_with_logits_v2(logits=self.logits,\n",
    "                                                                                 labels=self.ground_truth))\n",
    "            self.loss += self.weight_decay() # penalise weights with L2 norm\n",
    "        \n",
    "        self.optimizer = tf.train.AdamOptimizer(self.learning_rate)\n",
    "        \n",
    "        # When using batch-norm need to do this\n",
    "        update_ops = tf.get_collection(tf.GraphKeys.UPDATE_OPS)\n",
    "        with tf.control_dependencies(update_ops):\n",
    "            self.train_op = self.optimizer.minimize(self.loss)\n",
    "        \n",
    "    def weight_decay(self):\n",
    "        \"\"\"\n",
    "        Append the L2 penalty onto the loss function\n",
    "        \"\"\"\n",
    "        loss = 0\n",
    "        for v in tf.global_variables():\n",
    "            if 'Adam' in v.name:\n",
    "                continue # do not punish optimizer variables\n",
    "            elif 'kernel' in v.name:\n",
    "                loss += self.wd_factor * tf.nn.l2_loss(v)\n",
    "        print(loss)\n",
    "        return loss\n",
    "    \n",
    "    def train_minibatch(self, samples, labels, batch_size):\n",
    "        \"\"\"\n",
    "        Take a mini-batch from the training dataset\n",
    "        \"\"\"\n",
    "        if self.train_pointer + batch_size <= samples.shape[0]:\n",
    "            samples_minibatch = samples[self.train_pointer: self.train_pointer + batch_size]\n",
    "            labels_minibatch = labels[self.train_pointer: self.train_pointer + batch_size]\n",
    "            self.train_pointer += batch_size\n",
    "        else:\n",
    "            samples_minibatch = samples[self.train_pointer:]\n",
    "            labels_minibatch = labels[self.train_pointer:]\n",
    "            self.train_pointer += 0 # reset\n",
    "        return samples_minibatch, labels_minibatch\n",
    "    \n",
    "    def train(self, train_samples, train_labels, train_batch_size, iteration_steps, import_from_previous=False):\n",
    "        \"\"\"\n",
    "        Train the model\n",
    "        \n",
    "        Params\n",
    "        ----------\n",
    "        \n",
    "        train_samples: A numpy matrix containing the training data\n",
    "        train_labels: A numpy vector containing the labels corresponding to train_samples\n",
    "        train_batch_size: An int. The number of data points per mini-batch\n",
    "        iteration_steps: An int. The number of mini-batch training steps\n",
    "        import_from_previous: A bool. Load a previous model and train\n",
    "        \n",
    "        Returns\n",
    "        -----------\n",
    "        \n",
    "        losses: A numpy array, where the first column is the mini-batch index, and the \n",
    "                second column is the loss function\n",
    "        \"\"\"\n",
    "        print('Start training....')\n",
    "        losses = []\n",
    "        \n",
    "        with tf.Session() as sess:\n",
    "            if import_from_previous:\n",
    "                saver = tf.train.import_meta_graph(\"./model.meta\") # import the model\n",
    "                saver.restore(sess, './model') # populate with weights  \n",
    "            else:\n",
    "                sess.run(tf.global_variables_initializer())\n",
    "                saver = tf.train.Saver() # for saving models\n",
    "            \n",
    "            for i in range(iteration_steps):\n",
    "                samples, labels = self.train_minibatch(train_samples, train_labels, train_batch_size)\n",
    "                feed_dict = {self.input: samples, self.ground_truth: labels, self.is_training: True}\n",
    "                _, loss = sess.run([self.train_op, self.loss], feed_dict=feed_dict)\n",
    "                if i % 50 == 0:\n",
    "                    print(\"Minibatch loss at step {}: {}\".format(i, loss))\n",
    "                    losses.append([i, loss])\n",
    "            saver.save(sess, './model') # save the model, generating 4 files\n",
    "        return np.array(losses)\n",
    "    \n",
    "    def test_minibatch(self, samples, labels, batch_size):\n",
    "        \"\"\"\n",
    "        Take a mini-batch from the test dataset\n",
    "        \"\"\"\n",
    "        if self.test_pointer + batch_size <= samples.shape[0]:\n",
    "            samples_minibatch = samples[self.test_pointer: self.test_pointer + batch_size]\n",
    "            labels_minibatch = labels[self.test_pointer: self.test_pointer + batch_size]\n",
    "            self.test_pointer += batch_size\n",
    "            end_of_epoch = False\n",
    "        else:\n",
    "            samples_minibatch = samples[self.test_pointer:]\n",
    "            labels_minibatch = labels[self.test_pointer:]\n",
    "            self.test_pointer += 0 # reset\n",
    "            end_of_epoch = True\n",
    "        return samples_minibatch, labels_minibatch, end_of_epoch\n",
    "    \n",
    "    def test(self, test_samples, test_labels, test_batch_size):\n",
    "        \"\"\"\n",
    "        Load a model, feed it test data, and determine the loss\n",
    "        \n",
    "        Params:\n",
    "        ---------------\n",
    "        test_samples: A numpy array, containing the test data\n",
    "        test_labels: A numpy vector, containing the test labels\n",
    "        test_batch_size: An int, the number of data points per mini-batch\n",
    "        \"\"\"\n",
    "        end_of_epoch = False\n",
    "        losses = []\n",
    "        \n",
    "        with tf.Session() as sess:\n",
    "            saver = tf.train.import_meta_graph(\"./model.meta\") # import the model\n",
    "            saver.restore(sess, './model') # populate with weights            \n",
    "            while not end_of_epoch: # run graph\n",
    "                samples, labels, end_of_epoch = self.test_minibatch(test_samples, \n",
    "                                                                    test_labels, test_batch_size)\n",
    "                feed_dict = {self.input: samples, self.ground_truth: labels, self.is_training: False}                \n",
    "                losses.append(sess.run(self.loss, feed_dict=feed_dict))\n",
    "            print(\"Average test loss: {}\".format(np.mean(losses)))\n",
    "\n"
   ]
  },
  {
   "cell_type": "code",
   "execution_count": 66,
   "metadata": {},
   "outputs": [
    {
     "name": "stdout",
     "output_type": "stream",
     "text": [
      "Tensor(\"input:0\", shape=(?, 28, 28, 1), dtype=float32)\n",
      "Tensor(\"layers/conv1/BiasAdd:0\", shape=(?, 28, 28, 32), dtype=float32)\n",
      "Tensor(\"layers/batch_normalization/cond/Merge:0\", shape=(?, 28, 28, 32), dtype=float32)\n",
      "Tensor(\"layers/conv2/BiasAdd:0\", shape=(?, 28, 28, 64), dtype=float32)\n",
      "Tensor(\"layers/batch_normalization_1/cond/Merge:0\", shape=(?, 28, 28, 64), dtype=float32)\n",
      "Tensor(\"layers/conv3/BiasAdd:0\", shape=(?, 9, 9, 64), dtype=float32)\n",
      "Tensor(\"layers/batch_normalization_2/cond/Merge:0\", shape=(?, 9, 9, 64), dtype=float32)\n",
      "Tensor(\"layers/dense1/Relu:0\", shape=(?, 32), dtype=float32)\n",
      "Tensor(\"layers/dense2/Identity:0\", shape=(?, 10), dtype=float32)\n",
      "Tensor(\"loss/add_4:0\", shape=(), dtype=float32)\n"
     ]
    }
   ],
   "source": [
    "WD_FACTOR = 0.0001\n",
    "LEARNING_RATE = 0.001\n",
    "tf.reset_default_graph()\n",
    "model = CNN_MNIST(WD_FACTOR, LEARNING_RATE)"
   ]
  },
  {
   "cell_type": "code",
   "execution_count": 67,
   "metadata": {},
   "outputs": [
    {
     "data": {
      "text/plain": [
       "[<tf.Variable 'layers/conv1/kernel:0' shape=(3, 3, 1, 32) dtype=float32_ref>,\n",
       " <tf.Variable 'layers/conv1/bias:0' shape=(32,) dtype=float32_ref>,\n",
       " <tf.Variable 'layers/batch_normalization/gamma:0' shape=(32,) dtype=float32_ref>,\n",
       " <tf.Variable 'layers/batch_normalization/beta:0' shape=(32,) dtype=float32_ref>,\n",
       " <tf.Variable 'layers/batch_normalization/moving_mean:0' shape=(32,) dtype=float32_ref>,\n",
       " <tf.Variable 'layers/batch_normalization/moving_variance:0' shape=(32,) dtype=float32_ref>,\n",
       " <tf.Variable 'layers/conv2/kernel:0' shape=(3, 3, 32, 64) dtype=float32_ref>,\n",
       " <tf.Variable 'layers/conv2/bias:0' shape=(64,) dtype=float32_ref>,\n",
       " <tf.Variable 'layers/batch_normalization_1/gamma:0' shape=(64,) dtype=float32_ref>,\n",
       " <tf.Variable 'layers/batch_normalization_1/beta:0' shape=(64,) dtype=float32_ref>,\n",
       " <tf.Variable 'layers/batch_normalization_1/moving_mean:0' shape=(64,) dtype=float32_ref>,\n",
       " <tf.Variable 'layers/batch_normalization_1/moving_variance:0' shape=(64,) dtype=float32_ref>,\n",
       " <tf.Variable 'layers/conv3/kernel:0' shape=(3, 3, 64, 64) dtype=float32_ref>,\n",
       " <tf.Variable 'layers/conv3/bias:0' shape=(64,) dtype=float32_ref>,\n",
       " <tf.Variable 'layers/batch_normalization_2/gamma:0' shape=(64,) dtype=float32_ref>,\n",
       " <tf.Variable 'layers/batch_normalization_2/beta:0' shape=(64,) dtype=float32_ref>,\n",
       " <tf.Variable 'layers/batch_normalization_2/moving_mean:0' shape=(64,) dtype=float32_ref>,\n",
       " <tf.Variable 'layers/batch_normalization_2/moving_variance:0' shape=(64,) dtype=float32_ref>,\n",
       " <tf.Variable 'layers/dense1/kernel:0' shape=(576, 32) dtype=float32_ref>,\n",
       " <tf.Variable 'layers/dense1/bias:0' shape=(32,) dtype=float32_ref>,\n",
       " <tf.Variable 'layers/dense2/kernel:0' shape=(32, 10) dtype=float32_ref>,\n",
       " <tf.Variable 'layers/dense2/bias:0' shape=(10,) dtype=float32_ref>,\n",
       " <tf.Variable 'beta1_power:0' shape=() dtype=float32_ref>,\n",
       " <tf.Variable 'beta2_power:0' shape=() dtype=float32_ref>,\n",
       " <tf.Variable 'layers/conv1/kernel/Adam:0' shape=(3, 3, 1, 32) dtype=float32_ref>,\n",
       " <tf.Variable 'layers/conv1/kernel/Adam_1:0' shape=(3, 3, 1, 32) dtype=float32_ref>,\n",
       " <tf.Variable 'layers/conv1/bias/Adam:0' shape=(32,) dtype=float32_ref>,\n",
       " <tf.Variable 'layers/conv1/bias/Adam_1:0' shape=(32,) dtype=float32_ref>,\n",
       " <tf.Variable 'layers/batch_normalization/gamma/Adam:0' shape=(32,) dtype=float32_ref>,\n",
       " <tf.Variable 'layers/batch_normalization/gamma/Adam_1:0' shape=(32,) dtype=float32_ref>,\n",
       " <tf.Variable 'layers/batch_normalization/beta/Adam:0' shape=(32,) dtype=float32_ref>,\n",
       " <tf.Variable 'layers/batch_normalization/beta/Adam_1:0' shape=(32,) dtype=float32_ref>,\n",
       " <tf.Variable 'layers/conv2/kernel/Adam:0' shape=(3, 3, 32, 64) dtype=float32_ref>,\n",
       " <tf.Variable 'layers/conv2/kernel/Adam_1:0' shape=(3, 3, 32, 64) dtype=float32_ref>,\n",
       " <tf.Variable 'layers/conv2/bias/Adam:0' shape=(64,) dtype=float32_ref>,\n",
       " <tf.Variable 'layers/conv2/bias/Adam_1:0' shape=(64,) dtype=float32_ref>,\n",
       " <tf.Variable 'layers/batch_normalization_1/gamma/Adam:0' shape=(64,) dtype=float32_ref>,\n",
       " <tf.Variable 'layers/batch_normalization_1/gamma/Adam_1:0' shape=(64,) dtype=float32_ref>,\n",
       " <tf.Variable 'layers/batch_normalization_1/beta/Adam:0' shape=(64,) dtype=float32_ref>,\n",
       " <tf.Variable 'layers/batch_normalization_1/beta/Adam_1:0' shape=(64,) dtype=float32_ref>,\n",
       " <tf.Variable 'layers/conv3/kernel/Adam:0' shape=(3, 3, 64, 64) dtype=float32_ref>,\n",
       " <tf.Variable 'layers/conv3/kernel/Adam_1:0' shape=(3, 3, 64, 64) dtype=float32_ref>,\n",
       " <tf.Variable 'layers/conv3/bias/Adam:0' shape=(64,) dtype=float32_ref>,\n",
       " <tf.Variable 'layers/conv3/bias/Adam_1:0' shape=(64,) dtype=float32_ref>,\n",
       " <tf.Variable 'layers/batch_normalization_2/gamma/Adam:0' shape=(64,) dtype=float32_ref>,\n",
       " <tf.Variable 'layers/batch_normalization_2/gamma/Adam_1:0' shape=(64,) dtype=float32_ref>,\n",
       " <tf.Variable 'layers/batch_normalization_2/beta/Adam:0' shape=(64,) dtype=float32_ref>,\n",
       " <tf.Variable 'layers/batch_normalization_2/beta/Adam_1:0' shape=(64,) dtype=float32_ref>,\n",
       " <tf.Variable 'layers/dense1/kernel/Adam:0' shape=(576, 32) dtype=float32_ref>,\n",
       " <tf.Variable 'layers/dense1/kernel/Adam_1:0' shape=(576, 32) dtype=float32_ref>,\n",
       " <tf.Variable 'layers/dense1/bias/Adam:0' shape=(32,) dtype=float32_ref>,\n",
       " <tf.Variable 'layers/dense1/bias/Adam_1:0' shape=(32,) dtype=float32_ref>,\n",
       " <tf.Variable 'layers/dense2/kernel/Adam:0' shape=(32, 10) dtype=float32_ref>,\n",
       " <tf.Variable 'layers/dense2/kernel/Adam_1:0' shape=(32, 10) dtype=float32_ref>,\n",
       " <tf.Variable 'layers/dense2/bias/Adam:0' shape=(10,) dtype=float32_ref>,\n",
       " <tf.Variable 'layers/dense2/bias/Adam_1:0' shape=(10,) dtype=float32_ref>]"
      ]
     },
     "execution_count": 67,
     "metadata": {},
     "output_type": "execute_result"
    }
   ],
   "source": [
    "tf.global_variables()"
   ]
  },
  {
   "cell_type": "code",
   "execution_count": 68,
   "metadata": {},
   "outputs": [],
   "source": [
    "def count_trainable_params():\n",
    "    total_parameters = 0\n",
    "    for variable in tf.trainable_variables():         \n",
    "        shape = variable.get_shape()        \n",
    "        variable_parameters = 1\n",
    "        for dim in shape:\n",
    "            variable_parameters *= dim.value        \n",
    "        total_parameters += variable_parameters\n",
    "    print(total_parameters)"
   ]
  },
  {
   "cell_type": "code",
   "execution_count": 69,
   "metadata": {},
   "outputs": [
    {
     "name": "stdout",
     "output_type": "stream",
     "text": [
      "74858\n"
     ]
    }
   ],
   "source": [
    "count_trainable_params()"
   ]
  },
  {
   "cell_type": "markdown",
   "metadata": {},
   "source": [
    "About a factor of 10 fewer params than the MLP"
   ]
  },
  {
   "cell_type": "markdown",
   "metadata": {},
   "source": [
    "## Train model"
   ]
  },
  {
   "cell_type": "code",
   "execution_count": 70,
   "metadata": {},
   "outputs": [],
   "source": [
    "TRAIN_BATCH_SIZE = 128"
   ]
  },
  {
   "cell_type": "markdown",
   "metadata": {},
   "source": [
    "Define a learning schedule whereby we gradually reduce the learning rate with iterations"
   ]
  },
  {
   "cell_type": "code",
   "execution_count": 71,
   "metadata": {},
   "outputs": [],
   "source": [
    "learning_schedule = [[2000,0.1],[2000,0.01],[2000,0.001],[4000,0.0001]]\n",
    "#learning_schedule = [[400,0.001]]"
   ]
  },
  {
   "cell_type": "code",
   "execution_count": 72,
   "metadata": {
    "scrolled": true
   },
   "outputs": [
    {
     "name": "stdout",
     "output_type": "stream",
     "text": [
      "Start training....\n",
      "Minibatch loss at step 0: 3.396852970123291\n",
      "Minibatch loss at step 50: 0.9064825773239136\n",
      "Minibatch loss at step 100: 0.4513855576515198\n",
      "Minibatch loss at step 150: 0.28895828127861023\n",
      "Minibatch loss at step 200: 0.2646741569042206\n",
      "Minibatch loss at step 250: 0.3018289804458618\n",
      "Minibatch loss at step 300: 0.20024149119853973\n",
      "Minibatch loss at step 350: 0.2687474191188812\n",
      "Minibatch loss at step 400: 0.23494209349155426\n",
      "Minibatch loss at step 450: 0.1456923633813858\n",
      "Minibatch loss at step 500: 0.03704576939344406\n",
      "Minibatch loss at step 550: 0.03524889796972275\n",
      "Minibatch loss at step 600: 0.02391580305993557\n",
      "Minibatch loss at step 650: 0.04079912602901459\n",
      "Minibatch loss at step 700: 0.01618035137653351\n",
      "Minibatch loss at step 750: 0.0207089614123106\n",
      "Minibatch loss at step 800: 0.014665616676211357\n",
      "Minibatch loss at step 850: 0.017326626926660538\n",
      "Minibatch loss at step 900: 0.014966344460844994\n",
      "Minibatch loss at step 950: 0.013495679944753647\n",
      "Minibatch loss at step 1000: 0.013299942947924137\n",
      "Minibatch loss at step 1050: 0.013225969858467579\n",
      "Minibatch loss at step 1100: 0.014676069840788841\n",
      "Minibatch loss at step 1150: 0.012484841048717499\n",
      "Minibatch loss at step 1200: 0.011677192524075508\n",
      "Minibatch loss at step 1250: 0.03151562809944153\n",
      "Minibatch loss at step 1300: 0.013852858915925026\n",
      "Minibatch loss at step 1350: 0.03663097694516182\n",
      "Minibatch loss at step 1400: 0.023539463058114052\n",
      "Minibatch loss at step 1450: 0.016203857958316803\n",
      "Minibatch loss at step 1500: 0.014622218906879425\n",
      "Minibatch loss at step 1550: 0.010821940377354622\n",
      "Minibatch loss at step 1600: 0.010971300303936005\n",
      "Minibatch loss at step 1650: 0.0113467862829566\n",
      "Minibatch loss at step 1700: 0.015724914148449898\n",
      "Minibatch loss at step 1750: 0.016366396099328995\n",
      "Minibatch loss at step 1800: 0.017323633655905724\n",
      "Minibatch loss at step 1850: 0.01810421422123909\n",
      "Minibatch loss at step 1900: 0.010106737725436687\n",
      "Minibatch loss at step 1950: 0.010038587264716625\n",
      "Start training....\n",
      "INFO:tensorflow:Restoring parameters from ./model\n",
      "Minibatch loss at step 0: 0.01691802218556404\n",
      "Minibatch loss at step 50: 0.010521072894334793\n",
      "Minibatch loss at step 100: 0.027903232723474503\n",
      "Minibatch loss at step 150: 0.009906474500894547\n",
      "Minibatch loss at step 200: 0.01188540831208229\n",
      "Minibatch loss at step 250: 0.01059120986610651\n",
      "Minibatch loss at step 300: 0.026595354080200195\n",
      "Minibatch loss at step 350: 0.010758192278444767\n",
      "Minibatch loss at step 400: 0.012283616699278355\n",
      "Minibatch loss at step 450: 0.02821335569024086\n",
      "Minibatch loss at step 500: 0.038663238286972046\n",
      "Minibatch loss at step 550: 0.024973664432764053\n",
      "Minibatch loss at step 600: 0.0176791250705719\n",
      "Minibatch loss at step 650: 0.010148731991648674\n",
      "Minibatch loss at step 700: 0.02317938208580017\n",
      "Minibatch loss at step 750: 0.011145295575261116\n",
      "Minibatch loss at step 800: 0.016776321455836296\n",
      "Minibatch loss at step 850: 0.018590839579701424\n",
      "Minibatch loss at step 900: 0.010379249230027199\n",
      "Minibatch loss at step 950: 0.00973233487457037\n",
      "Minibatch loss at step 1000: 0.013001427054405212\n",
      "Minibatch loss at step 1050: 0.011708050966262817\n",
      "Minibatch loss at step 1100: 0.011117669753730297\n",
      "Minibatch loss at step 1150: 0.011002621613442898\n",
      "Minibatch loss at step 1200: 0.009325629100203514\n",
      "Minibatch loss at step 1250: 0.010732673108577728\n",
      "Minibatch loss at step 1300: 0.017832107841968536\n",
      "Minibatch loss at step 1350: 0.01911657303571701\n",
      "Minibatch loss at step 1400: 0.00912100076675415\n",
      "Minibatch loss at step 1450: 0.014946365728974342\n",
      "Minibatch loss at step 1500: 0.008686516433954239\n",
      "Minibatch loss at step 1550: 0.010854173451662064\n",
      "Minibatch loss at step 1600: 0.008047088049352169\n",
      "Minibatch loss at step 1650: 0.012361215427517891\n",
      "Minibatch loss at step 1700: 0.009992805309593678\n",
      "Minibatch loss at step 1750: 0.009139538742601871\n",
      "Minibatch loss at step 1800: 0.012972579337656498\n",
      "Minibatch loss at step 1850: 0.009012117981910706\n",
      "Minibatch loss at step 1900: 0.011633449234068394\n",
      "Minibatch loss at step 1950: 0.032486140727996826\n",
      "Start training....\n",
      "INFO:tensorflow:Restoring parameters from ./model\n",
      "Minibatch loss at step 0: 0.015597104094922543\n",
      "Minibatch loss at step 50: 0.0188169926404953\n",
      "Minibatch loss at step 100: 0.021106507629156113\n",
      "Minibatch loss at step 150: 0.011046336963772774\n",
      "Minibatch loss at step 200: 0.008339033462107182\n",
      "Minibatch loss at step 250: 0.007677756249904633\n",
      "Minibatch loss at step 300: 0.007615291979163885\n",
      "Minibatch loss at step 350: 0.014474717900156975\n",
      "Minibatch loss at step 400: 0.008020292967557907\n",
      "Minibatch loss at step 450: 0.007411113474518061\n",
      "Minibatch loss at step 500: 0.007994502782821655\n",
      "Minibatch loss at step 550: 0.007437543943524361\n",
      "Minibatch loss at step 600: 0.007562159560620785\n",
      "Minibatch loss at step 650: 0.007204902824014425\n",
      "Minibatch loss at step 700: 0.008027737028896809\n",
      "Minibatch loss at step 750: 0.007818263955414295\n",
      "Minibatch loss at step 800: 0.02595023438334465\n",
      "Minibatch loss at step 850: 0.02552805282175541\n",
      "Minibatch loss at step 900: 0.009902223944664001\n",
      "Minibatch loss at step 950: 0.012368336319923401\n",
      "Minibatch loss at step 1000: 0.007131851278245449\n",
      "Minibatch loss at step 1050: 0.007247623056173325\n",
      "Minibatch loss at step 1100: 0.007934832945466042\n",
      "Minibatch loss at step 1150: 0.03873901814222336\n",
      "Minibatch loss at step 1200: 0.017590340226888657\n",
      "Minibatch loss at step 1250: 0.0075094979256391525\n",
      "Minibatch loss at step 1300: 0.007515665143728256\n",
      "Minibatch loss at step 1350: 0.008320826105773449\n",
      "Minibatch loss at step 1400: 0.006819882895797491\n",
      "Minibatch loss at step 1450: 0.019481776282191277\n",
      "Minibatch loss at step 1500: 0.009255731478333473\n",
      "Minibatch loss at step 1550: 0.006817718036472797\n",
      "Minibatch loss at step 1600: 0.008163664489984512\n",
      "Minibatch loss at step 1650: 0.0067938948050141335\n",
      "Minibatch loss at step 1700: 0.01846810057759285\n",
      "Minibatch loss at step 1750: 0.008429876528680325\n",
      "Minibatch loss at step 1800: 0.006432469468563795\n",
      "Minibatch loss at step 1850: 0.0063144429586827755\n",
      "Minibatch loss at step 1900: 0.0064645069651305676\n",
      "Minibatch loss at step 1950: 0.0065439725294709206\n",
      "Start training....\n",
      "INFO:tensorflow:Restoring parameters from ./model\n",
      "Minibatch loss at step 0: 0.007180351763963699\n",
      "Minibatch loss at step 50: 0.008131018839776516\n",
      "Minibatch loss at step 100: 0.012926774099469185\n",
      "Minibatch loss at step 150: 0.006501078139990568\n",
      "Minibatch loss at step 200: 0.030760888010263443\n",
      "Minibatch loss at step 250: 0.007352069485932589\n",
      "Minibatch loss at step 300: 0.007668561767786741\n",
      "Minibatch loss at step 350: 0.012773077934980392\n",
      "Minibatch loss at step 400: 0.008886835537850857\n",
      "Minibatch loss at step 450: 0.006652345880866051\n",
      "Minibatch loss at step 500: 0.0063324724324047565\n",
      "Minibatch loss at step 550: 0.006744133308529854\n",
      "Minibatch loss at step 600: 0.00639472296461463\n",
      "Minibatch loss at step 650: 0.006220477167516947\n",
      "Minibatch loss at step 700: 0.0063917129300534725\n",
      "Minibatch loss at step 750: 0.0063537550158798695\n",
      "Minibatch loss at step 800: 0.006073051132261753\n",
      "Minibatch loss at step 850: 0.00592790637165308\n",
      "Minibatch loss at step 900: 0.007878067903220654\n",
      "Minibatch loss at step 950: 0.007489531300961971\n",
      "Minibatch loss at step 1000: 0.007604056969285011\n",
      "Minibatch loss at step 1050: 0.00581445824354887\n",
      "Minibatch loss at step 1100: 0.013567663729190826\n",
      "Minibatch loss at step 1150: 0.0060863555409014225\n",
      "Minibatch loss at step 1200: 0.006346962880343199\n",
      "Minibatch loss at step 1250: 0.005769133567810059\n",
      "Minibatch loss at step 1300: 0.006751528009772301\n",
      "Minibatch loss at step 1350: 0.00855825375765562\n",
      "Minibatch loss at step 1400: 0.00566472765058279\n",
      "Minibatch loss at step 1450: 0.005892476998269558\n",
      "Minibatch loss at step 1500: 0.0058835954405367374\n",
      "Minibatch loss at step 1550: 0.006313519552350044\n",
      "Minibatch loss at step 1600: 0.005937494337558746\n",
      "Minibatch loss at step 1650: 0.024975381791591644\n",
      "Minibatch loss at step 1700: 0.0063400110229849815\n",
      "Minibatch loss at step 1750: 0.011440441943705082\n",
      "Minibatch loss at step 1800: 0.006085389759391546\n",
      "Minibatch loss at step 1850: 0.02342228963971138\n",
      "Minibatch loss at step 1900: 0.008062062785029411\n",
      "Minibatch loss at step 1950: 0.00583556666970253\n",
      "Minibatch loss at step 2000: 0.0072208489291369915\n",
      "Minibatch loss at step 2050: 0.005897222086787224\n"
     ]
    },
    {
     "name": "stdout",
     "output_type": "stream",
     "text": [
      "Minibatch loss at step 2100: 0.005867016036063433\n",
      "Minibatch loss at step 2150: 0.011057939380407333\n",
      "Minibatch loss at step 2200: 0.010932499542832375\n",
      "Minibatch loss at step 2250: 0.008525611832737923\n",
      "Minibatch loss at step 2300: 0.005935034714639187\n",
      "Minibatch loss at step 2350: 0.010989145375788212\n",
      "Minibatch loss at step 2400: 0.015233572572469711\n",
      "Minibatch loss at step 2450: 0.005936314817517996\n",
      "Minibatch loss at step 2500: 0.007299234624952078\n",
      "Minibatch loss at step 2550: 0.00842951238155365\n",
      "Minibatch loss at step 2600: 0.00927777960896492\n",
      "Minibatch loss at step 2650: 0.005728002171963453\n",
      "Minibatch loss at step 2700: 0.0068631223402917385\n",
      "Minibatch loss at step 2750: 0.006794311571866274\n",
      "Minibatch loss at step 2800: 0.005702583119273186\n",
      "Minibatch loss at step 2850: 0.0066250162199139595\n",
      "Minibatch loss at step 2900: 0.006104726344347\n",
      "Minibatch loss at step 2950: 0.006423786282539368\n",
      "Minibatch loss at step 3000: 0.00523808877915144\n",
      "Minibatch loss at step 3050: 0.005619672127068043\n",
      "Minibatch loss at step 3100: 0.028148788958787918\n",
      "Minibatch loss at step 3150: 0.013876087963581085\n",
      "Minibatch loss at step 3200: 0.007567092310637236\n",
      "Minibatch loss at step 3250: 0.00852083507925272\n",
      "Minibatch loss at step 3300: 0.006800511851906776\n",
      "Minibatch loss at step 3350: 0.006832593586295843\n",
      "Minibatch loss at step 3400: 0.007313709706068039\n",
      "Minibatch loss at step 3450: 0.006907009053975344\n",
      "Minibatch loss at step 3500: 0.006462816148996353\n",
      "Minibatch loss at step 3550: 0.006450486835092306\n",
      "Minibatch loss at step 3600: 0.04674004763364792\n",
      "Minibatch loss at step 3650: 0.028160221874713898\n",
      "Minibatch loss at step 3700: 0.0061476328410208225\n",
      "Minibatch loss at step 3750: 0.005834169685840607\n",
      "Minibatch loss at step 3800: 0.027340741828083992\n",
      "Minibatch loss at step 3850: 0.005668408237397671\n",
      "Minibatch loss at step 3900: 0.00550979794934392\n",
      "Minibatch loss at step 3950: 0.009856260381639004\n"
     ]
    }
   ],
   "source": [
    "start = time.time()\n",
    "\n",
    "for i, vals in enumerate(learning_schedule):\n",
    "    ITERATIONS = vals[0]\n",
    "    LR = vals[1]\n",
    "    if i == 0:\n",
    "        model.learning_rate = LR\n",
    "        #losses = model.train(x_sample, y_sample_oh, TRAIN_BATCH_SIZE, ITERATIONS)\n",
    "        losses = model.train(x_train, y_train_oh, TRAIN_BATCH_SIZE, ITERATIONS)\n",
    "    else:\n",
    "\n",
    "        #losses_new = model.train(x_sample, y_sample_oh, TRAIN_BATCH_SIZE, ITERATIONS, import_from_previous = True)\n",
    "        losses_new = model.train(x_train, y_train_oh, TRAIN_BATCH_SIZE, ITERATIONS, import_from_previous = True)\n",
    "        losses_new[:,0] += losses[-1,0] + TRAIN_BATCH_SIZE\n",
    "        losses = np.vstack((losses,losses_new))\n",
    "end_time = time.time()\n"
   ]
  },
  {
   "cell_type": "code",
   "execution_count": 73,
   "metadata": {},
   "outputs": [
    {
     "name": "stdout",
     "output_type": "stream",
     "text": [
      "Training time: 8144.678204059601s\n"
     ]
    }
   ],
   "source": [
    "print(\"Training time: {}s\".format(end_time - start))"
   ]
  },
  {
   "cell_type": "markdown",
   "metadata": {},
   "source": [
    "## Plot learning curve"
   ]
  },
  {
   "cell_type": "code",
   "execution_count": 74,
   "metadata": {},
   "outputs": [
    {
     "data": {
      "image/png": "[encoded data removed]",
      "text/plain": [
       "<Figure size 432x288 with 1 Axes>"
      ]
     },
     "metadata": {
      "needs_background": "light"
     },
     "output_type": "display_data"
    }
   ],
   "source": [
    "iterations = losses[:,0]\n",
    "train_loss = losses[:,1]\n",
    "\n",
    "fig, ax = plt.subplots(1,1)\n",
    "utls.remove_tex_axis(ax, ytick_fmt=\"%.1f\")\n",
    "ax.plot(iterations, train_loss,'-k')\n",
    "ax.set_xlabel('Iterations')\n",
    "ax.set_ylabel('Loss')\n",
    "plt.tight_layout()"
   ]
  },
  {
   "cell_type": "markdown",
   "metadata": {},
   "source": [
    "## Test network predictions"
   ]
  },
  {
   "cell_type": "code",
   "execution_count": 75,
   "metadata": {},
   "outputs": [],
   "source": [
    "TEST_BATCH_SIZE = 128"
   ]
  },
  {
   "cell_type": "code",
   "execution_count": 77,
   "metadata": {},
   "outputs": [
    {
     "name": "stdout",
     "output_type": "stream",
     "text": [
      "INFO:tensorflow:Restoring parameters from ./model\n",
      "Average test loss: 1.781084656715393\n"
     ]
    }
   ],
   "source": [
    "model.test(x_test,y_test_oh, TEST_BATCH_SIZE)"
   ]
  },
  {
   "cell_type": "markdown",
   "metadata": {},
   "source": [
    "Loss was 2.25 for MLP, so it's an improvement..."
   ]
  },
  {
   "cell_type": "code",
   "execution_count": 90,
   "metadata": {},
   "outputs": [
    {
     "name": "stdout",
     "output_type": "stream",
     "text": [
      "INFO:tensorflow:Restoring parameters from ./model\n",
      "Test sample digit: 0\n"
     ]
    },
    {
     "data": {
      "image/png": "[encoded data removed]",
      "text/plain": [
       "<Figure size 720x360 with 2 Axes>"
      ]
     },
     "metadata": {
      "needs_background": "light"
     },
     "output_type": "display_data"
    }
   ],
   "source": [
    "plt.close('all')\n",
    "example = np.random.choice(n_test)\n",
    "\n",
    "sample = x_test[example]\n",
    "label = y_test_oh[example]\n",
    "feed_dict = {model.input: np.expand_dims(sample, axis=0), \n",
    "             model.ground_truth: np.expand_dims(label,axis=0),\n",
    "            model.is_training: False}\n",
    "\n",
    "digit = np.where(label==1.0)[0][0]\n",
    "\n",
    "with tf.Session() as sess:\n",
    "    saver = tf.train.import_meta_graph(\"./model.meta\")\n",
    "    saver.restore(sess, './model')\n",
    "    prediction = sess.run(model.prediction, feed_dict = feed_dict)[0]\n",
    "\n",
    "fig, axs = plt.subplots(1,2, figsize=(2*5,5))\n",
    "axs = axs.ravel()\n",
    "\n",
    "ax = axs[0]\n",
    "utls.remove_tex_axis(ax)\n",
    "ax.imshow(x_test[example,:,:,0],cmap=cm.binary)\n",
    "ax.set_title('Test example')\n",
    "\n",
    "classes = np.arange(10)\n",
    "width = 0.5\n",
    "\n",
    "ax = axs[1]\n",
    "\n",
    "ax.bar(classes, prediction, width, color='Black')\n",
    "utls.remove_tex_axis(ax,ytick_fmt=\"%.2f\")\n",
    "ax.set_xticks(classes)\n",
    "ax.set_xticklabels([str(x) for x in np.arange(10)])\n",
    "ax.set_ylabel('Probability')\n",
    "ax.set_xlabel('Digit class')\n",
    "ax.set_title('Network categorical distribution')\n",
    "\n",
    "plt.tight_layout()\n",
    "print('Test sample digit: {}'.format(digit))\n"
   ]
  }
 ],
 "metadata": {
  "kernelspec": {
   "display_name": "Python 3",
   "language": "python",
   "name": "python3"
  },
  "language_info": {
   "codemirror_mode": {
    "name": "ipython",
    "version": 3
   },
   "file_extension": ".py",
   "mimetype": "text/x-python",
   "name": "python",
   "nbconvert_exporter": "python",
   "pygments_lexer": "ipython3",
   "version": "3.6.6"
  }
 },
 "nbformat": 4,
 "nbformat_minor": 2
}
